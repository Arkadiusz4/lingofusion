{
 "cells": [
  {
   "metadata": {},
   "cell_type": "markdown",
   "source": "# Fine-tuning modelu tłumaczenia EN→PL z wykorzystaniem LoRA",
   "id": "4c8f8c14dce51394"
  },
  {
   "metadata": {},
   "cell_type": "markdown",
   "source": [
    "## Testy i eksperymenty z LoRA na różnych modelach\n",
    "W poniższej sekcji przeprowadzimy kilka eksperymentów z różnymi modelami i konfiguracjami LoRA."
   ],
   "id": "ffd99040e403f77"
  },
  {
   "metadata": {
    "ExecuteTime": {
     "end_time": "2025-06-02T22:30:43.496362Z",
     "start_time": "2025-06-02T22:30:35.507825Z"
    }
   },
   "cell_type": "code",
   "source": [
    "import os\n",
    "import numpy as np\n",
    "import sacrebleu\n",
    "from datasets import load_dataset\n",
    "from transformers import (\n",
    "    AutoTokenizer,\n",
    "    AutoModelForSeq2SeqLM,\n",
    "    Seq2SeqTrainer,\n",
    "    Seq2SeqTrainingArguments,\n",
    "    DataCollatorForSeq2Seq,\n",
    "    pipeline,\n",
    ")\n",
    "import matplotlib.pyplot as plt\n",
    "from peft import LoraConfig, get_peft_model, PeftModel\n",
    "import torch\n",
    "\n",
    "RESULTS_DIR = \"results_en_pl\"\n",
    "os.makedirs(RESULTS_DIR, exist_ok=True)"
   ],
   "id": "ef2934048f7d1902",
   "outputs": [
    {
     "name": "stderr",
     "output_type": "stream",
     "text": [
      "/Users/amika/python-global/lib/python3.12/site-packages/tqdm/auto.py:21: TqdmWarning: IProgress not found. Please update jupyter and ipywidgets. See https://ipywidgets.readthedocs.io/en/stable/user_install.html\n",
      "  from .autonotebook import tqdm as notebook_tqdm\n"
     ]
    }
   ],
   "execution_count": 1
  },
  {
   "metadata": {
    "ExecuteTime": {
     "end_time": "2025-06-02T22:30:43.713370Z",
     "start_time": "2025-06-02T22:30:43.709945Z"
    }
   },
   "cell_type": "code",
   "source": [
    "def prepare_datasets(train_size: int, val_size: int = 5000, max_len: int = 128):\n",
    "    \"\"\"\n",
    "    Ładuje korpus OPUS100 en-pl,\n",
    "    wybiera losowy subset train_size i subset walidacyjny do actual_val_size,\n",
    "    tokenizuje do max_len.\n",
    "    \"\"\"\n",
    "    raw = load_dataset(\"opus100\", \"en-pl\")\n",
    "\n",
    "    available_val = len(raw[\"validation\"])\n",
    "    actual_val_size = min(val_size, available_val)\n",
    "\n",
    "    train_raw = raw[\"train\"].shuffle(seed=42).select(range(train_size))\n",
    "    val_raw = raw[\"validation\"].shuffle(seed=42).select(range(actual_val_size))\n",
    "\n",
    "    def preprocess(batch):\n",
    "        en_list = [example[\"en\"] for example in batch[\"translation\"]]\n",
    "        pl_list = [example[\"pl\"] for example in batch[\"translation\"]]\n",
    "\n",
    "        in_tok = tokenizer(\n",
    "            en_list,\n",
    "            truncation=True,\n",
    "            padding=\"max_length\",\n",
    "            max_length=max_len\n",
    "        )\n",
    "        out_tok = tokenizer(\n",
    "            pl_list,\n",
    "            truncation=True,\n",
    "            padding=\"max_length\",\n",
    "            max_length=max_len\n",
    "        )\n",
    "        return {\n",
    "            \"input_ids\": in_tok[\"input_ids\"],\n",
    "            \"attention_mask\": in_tok[\"attention_mask\"],\n",
    "            \"labels\": out_tok[\"input_ids\"],\n",
    "        }\n",
    "\n",
    "    train_ds = train_raw.map(preprocess, batched=True, remove_columns=train_raw.column_names)\n",
    "    val_ds = val_raw.map(preprocess, batched=True, remove_columns=val_raw.column_names)\n",
    "    return train_ds, val_ds\n",
    "\n",
    "\n",
    "def compute_metrics(eval_preds):\n",
    "    preds, labels = eval_preds\n",
    "    decoded_preds = tokenizer.batch_decode(preds, skip_special_tokens=True)\n",
    "    labels = np.where(labels != -100, labels, tokenizer.pad_token_id)\n",
    "    decoded_labels = tokenizer.batch_decode(labels, skip_special_tokens=True)\n",
    "    bleu = sacrebleu.corpus_bleu(decoded_preds, [decoded_labels])\n",
    "    return {\"bleu\": bleu.score}\n",
    "\n",
    "\n",
    "def save_lora_adapter(model, output_dir):\n",
    "    os.makedirs(output_dir, exist_ok=True)\n",
    "    model.save_pretrained(output_dir)"
   ],
   "id": "4a2fb2fe60dbb92e",
   "outputs": [],
   "execution_count": 2
  },
  {
   "metadata": {
    "ExecuteTime": {
     "end_time": "2025-06-02T22:30:43.721807Z",
     "start_time": "2025-06-02T22:30:43.719875Z"
    }
   },
   "cell_type": "code",
   "source": [
    "device = 0 if torch.cuda.is_available() else -1\n",
    "print(\"Urządzenie:\", \"cuda\" if device == 0 else \"cpu\")"
   ],
   "id": "47a3d951bb8990ad",
   "outputs": [
    {
     "name": "stdout",
     "output_type": "stream",
     "text": [
      "Urządzenie: cpu\n"
     ]
    }
   ],
   "execution_count": 3
  },
  {
   "metadata": {},
   "cell_type": "markdown",
   "source": [
    "### Eksperyment z gsarti (20k próbek, 3 epoki, LoRA r=8, max_len=128)\n",
    "Niestety nie ma oficjalnego modelu Helsinki NLP dla tłumaczenia EN→PL, więc użyjemy modelu `gsarti/opus-mt-tc-en-pl`, który jest oparty na OpenNMT i przeszkolony na korpusie OPUS100."
   ],
   "id": "783656a4aef4c1c3"
  },
  {
   "metadata": {
    "ExecuteTime": {
     "end_time": "2025-06-02T22:30:43.739165Z",
     "start_time": "2025-06-02T22:30:43.737418Z"
    }
   },
   "cell_type": "code",
   "source": [
    "config_1 = {\n",
    "    \"base_model_id\": \"gsarti/opus-mt-tc-en-pl\",\n",
    "    \"train_size\": 20000,\n",
    "    \"val_size\": 2000,\n",
    "    \"num_epochs\": 3,\n",
    "    \"lora_r\": 8,\n",
    "    \"batch_size\": 16,\n",
    "    \"learning_rate\": 5e-5,\n",
    "    \"max_len\": 128,\n",
    "    \"num_beams\": 1,\n",
    "}"
   ],
   "id": "898010542d704e15",
   "outputs": [],
   "execution_count": 4
  },
  {
   "metadata": {
    "ExecuteTime": {
     "end_time": "2025-06-02T22:30:43.748345Z",
     "start_time": "2025-06-02T22:30:43.746339Z"
    }
   },
   "cell_type": "code",
   "source": [
    "exp_name_1 = (\n",
    "    f\"gsarti_enpl_\"\n",
    "    f\"train{config_1['train_size'] // 1000}k_\"\n",
    "    f\"ep{config_1['num_epochs']}_\"\n",
    "    f\"r{config_1['lora_r']}_\"\n",
    "    f\"len{config_1['max_len']}\"\n",
    ")"
   ],
   "id": "abc0316fa7bafdb7",
   "outputs": [],
   "execution_count": 5
  },
  {
   "metadata": {},
   "cell_type": "markdown",
   "source": "#### Tokenizer i LoRA model",
   "id": "23b46f478c1c6bc5"
  },
  {
   "metadata": {
    "ExecuteTime": {
     "end_time": "2025-06-02T22:30:46.830928Z",
     "start_time": "2025-06-02T22:30:43.753636Z"
    }
   },
   "cell_type": "code",
   "source": [
    "tokenizer = AutoTokenizer.from_pretrained(config_1[\"base_model_id\"])\n",
    "base_model = AutoModelForSeq2SeqLM.from_pretrained(config_1[\"base_model_id\"])\n",
    "\n",
    "lora_config = LoraConfig(\n",
    "    r=config_1[\"lora_r\"],\n",
    "    lora_alpha=32,\n",
    "    target_modules=[\"q_proj\", \"v_proj\"],\n",
    "    lora_dropout=0.1,\n",
    "    bias=\"none\",\n",
    "    task_type=\"SEQ_2_SEQ_LM\",\n",
    ")\n",
    "model = get_peft_model(base_model, lora_config)"
   ],
   "id": "7fa0ad6df17ec7c7",
   "outputs": [],
   "execution_count": 6
  },
  {
   "metadata": {},
   "cell_type": "markdown",
   "source": "#### Przygotowanie danych",
   "id": "1f2a41ed7d52d5b7"
  },
  {
   "metadata": {
    "ExecuteTime": {
     "end_time": "2025-06-02T22:30:56.523864Z",
     "start_time": "2025-06-02T22:30:46.842353Z"
    }
   },
   "cell_type": "code",
   "source": [
    "train_ds, val_ds = prepare_datasets(\n",
    "    train_size=config_1[\"train_size\"],\n",
    "    val_size=config_1[\"val_size\"],\n",
    "    max_len=config_1[\"max_len\"],\n",
    ")"
   ],
   "id": "fb704413d8ce17db",
   "outputs": [],
   "execution_count": 7
  },
  {
   "metadata": {
    "ExecuteTime": {
     "end_time": "2025-06-02T22:30:56.535113Z",
     "start_time": "2025-06-02T22:30:56.533163Z"
    }
   },
   "cell_type": "code",
   "source": "data_collator = DataCollatorForSeq2Seq(tokenizer, model=model, label_pad_token_id=-100)",
   "id": "73882b3b2597a9aa",
   "outputs": [],
   "execution_count": 8
  },
  {
   "metadata": {
    "ExecuteTime": {
     "end_time": "2025-06-02T22:30:56.548920Z",
     "start_time": "2025-06-02T22:30:56.544390Z"
    }
   },
   "cell_type": "code",
   "source": [
    "output_dir_1 = os.path.join(RESULTS_DIR, exp_name_1)\n",
    "os.makedirs(output_dir_1, exist_ok=True)\n",
    "\n",
    "training_args_1 = Seq2SeqTrainingArguments(\n",
    "    output_dir=output_dir_1,\n",
    "    per_device_train_batch_size=config_1[\"batch_size\"],\n",
    "    per_device_eval_batch_size=config_1[\"batch_size\"],\n",
    "    predict_with_generate=True,\n",
    "    eval_strategy=\"steps\",\n",
    "    eval_steps=500,\n",
    "    save_strategy=\"steps\",\n",
    "    save_steps=500,\n",
    "    logging_steps=100,\n",
    "    num_train_epochs=config_1[\"num_epochs\"],\n",
    "    learning_rate=config_1[\"learning_rate\"],\n",
    "    warmup_steps=500,\n",
    "    weight_decay=0.01,\n",
    "    label_smoothing_factor=0.1,\n",
    "    generation_max_length=config_1[\"max_len\"],\n",
    "    generation_num_beams=config_1[\"num_beams\"],\n",
    "    load_best_model_at_end=True,\n",
    "    metric_for_best_model=\"bleu\",\n",
    "    greater_is_better=True,\n",
    ")"
   ],
   "id": "6cccbf74623bf9b3",
   "outputs": [],
   "execution_count": 9
  },
  {
   "metadata": {},
   "cell_type": "markdown",
   "source": "#### Seq2SeqTrainer i trening",
   "id": "b04fa5660eee36ae"
  },
  {
   "metadata": {
    "ExecuteTime": {
     "end_time": "2025-06-02T23:14:24.370262Z",
     "start_time": "2025-06-02T22:30:56.559138Z"
    }
   },
   "cell_type": "code",
   "source": [
    "trainer_1 = Seq2SeqTrainer(\n",
    "    model=model,\n",
    "    args=training_args_1,\n",
    "    train_dataset=train_ds,\n",
    "    eval_dataset=val_ds,\n",
    "    tokenizer=tokenizer,\n",
    "    data_collator=data_collator,\n",
    "    compute_metrics=compute_metrics,\n",
    ")\n",
    "\n",
    "trainer_1.train()"
   ],
   "id": "575dbfcd3be93635",
   "outputs": [
    {
     "name": "stderr",
     "output_type": "stream",
     "text": [
      "/var/folders/z_/dq8r0xg94mxfzfpr1jmhv_740000gn/T/ipykernel_14366/3083131843.py:1: FutureWarning: `tokenizer` is deprecated and will be removed in version 5.0.0 for `Seq2SeqTrainer.__init__`. Use `processing_class` instead.\n",
      "  trainer_1 = Seq2SeqTrainer(\n",
      "No label_names provided for model class `PeftModelForSeq2SeqLM`. Since `PeftModel` hides base models input arguments, if label_names is not given, label_names can't be set automatically within `Trainer`. Note that empty label_names list will be used instead.\n",
      "/Users/amika/python-global/lib/python3.12/site-packages/torch/utils/data/dataloader.py:683: UserWarning: 'pin_memory' argument is set as true but not supported on MPS now, then device pinned memory won't be used.\n",
      "  warnings.warn(warn_msg)\n",
      "Passing a tuple of `past_key_values` is deprecated and will be removed in Transformers v4.58.0. You should pass an instance of `EncoderDecoderCache` instead, e.g. `past_key_values=EncoderDecoderCache.from_legacy_cache(past_key_values)`.\n"
     ]
    },
    {
     "data": {
      "text/plain": [
       "<IPython.core.display.HTML object>"
      ],
      "text/html": [
       "\n",
       "    <div>\n",
       "      \n",
       "      <progress value='3750' max='3750' style='width:300px; height:20px; vertical-align: middle;'></progress>\n",
       "      [3750/3750 43:24, Epoch 3/3]\n",
       "    </div>\n",
       "    <table border=\"1\" class=\"dataframe\">\n",
       "  <thead>\n",
       " <tr style=\"text-align: left;\">\n",
       "      <th>Step</th>\n",
       "      <th>Training Loss</th>\n",
       "      <th>Validation Loss</th>\n",
       "      <th>Bleu</th>\n",
       "    </tr>\n",
       "  </thead>\n",
       "  <tbody>\n",
       "    <tr>\n",
       "      <td>500</td>\n",
       "      <td>2.076000</td>\n",
       "      <td>2.103680</td>\n",
       "      <td>24.563303</td>\n",
       "    </tr>\n",
       "    <tr>\n",
       "      <td>1000</td>\n",
       "      <td>1.980100</td>\n",
       "      <td>2.008930</td>\n",
       "      <td>16.215382</td>\n",
       "    </tr>\n",
       "    <tr>\n",
       "      <td>1500</td>\n",
       "      <td>1.953900</td>\n",
       "      <td>1.987981</td>\n",
       "      <td>15.686271</td>\n",
       "    </tr>\n",
       "    <tr>\n",
       "      <td>2000</td>\n",
       "      <td>1.948800</td>\n",
       "      <td>1.976382</td>\n",
       "      <td>14.882877</td>\n",
       "    </tr>\n",
       "    <tr>\n",
       "      <td>2500</td>\n",
       "      <td>1.936400</td>\n",
       "      <td>1.969475</td>\n",
       "      <td>13.996033</td>\n",
       "    </tr>\n",
       "    <tr>\n",
       "      <td>3000</td>\n",
       "      <td>1.952900</td>\n",
       "      <td>1.966237</td>\n",
       "      <td>14.607560</td>\n",
       "    </tr>\n",
       "    <tr>\n",
       "      <td>3500</td>\n",
       "      <td>1.935100</td>\n",
       "      <td>1.963901</td>\n",
       "      <td>14.325279</td>\n",
       "    </tr>\n",
       "  </tbody>\n",
       "</table><p>"
      ]
     },
     "metadata": {},
     "output_type": "display_data"
    },
    {
     "name": "stderr",
     "output_type": "stream",
     "text": [
      "/Users/amika/python-global/lib/python3.12/site-packages/torch/utils/data/dataloader.py:683: UserWarning: 'pin_memory' argument is set as true but not supported on MPS now, then device pinned memory won't be used.\n",
      "  warnings.warn(warn_msg)\n",
      "/Users/amika/python-global/lib/python3.12/site-packages/torch/utils/data/dataloader.py:683: UserWarning: 'pin_memory' argument is set as true but not supported on MPS now, then device pinned memory won't be used.\n",
      "  warnings.warn(warn_msg)\n",
      "/Users/amika/python-global/lib/python3.12/site-packages/torch/utils/data/dataloader.py:683: UserWarning: 'pin_memory' argument is set as true but not supported on MPS now, then device pinned memory won't be used.\n",
      "  warnings.warn(warn_msg)\n",
      "/Users/amika/python-global/lib/python3.12/site-packages/torch/utils/data/dataloader.py:683: UserWarning: 'pin_memory' argument is set as true but not supported on MPS now, then device pinned memory won't be used.\n",
      "  warnings.warn(warn_msg)\n",
      "/Users/amika/python-global/lib/python3.12/site-packages/torch/utils/data/dataloader.py:683: UserWarning: 'pin_memory' argument is set as true but not supported on MPS now, then device pinned memory won't be used.\n",
      "  warnings.warn(warn_msg)\n",
      "/Users/amika/python-global/lib/python3.12/site-packages/torch/utils/data/dataloader.py:683: UserWarning: 'pin_memory' argument is set as true but not supported on MPS now, then device pinned memory won't be used.\n",
      "  warnings.warn(warn_msg)\n"
     ]
    },
    {
     "data": {
      "text/plain": [
       "TrainOutput(global_step=3750, training_loss=2.1416270060221354, metrics={'train_runtime': 2607.3168, 'train_samples_per_second': 23.012, 'train_steps_per_second': 1.438, 'total_flos': 2047491440640000.0, 'train_loss': 2.1416270060221354, 'epoch': 3.0})"
      ]
     },
     "execution_count": 10,
     "metadata": {},
     "output_type": "execute_result"
    }
   ],
   "execution_count": 10
  },
  {
   "metadata": {
    "ExecuteTime": {
     "end_time": "2025-06-02T23:14:24.389546Z",
     "start_time": "2025-06-02T23:14:24.387762Z"
    }
   },
   "cell_type": "code",
   "source": [
    "best_bleu_1 = trainer_1.state.best_metric\n",
    "print(f\"{exp_name_1} → BEST BLEU: {best_bleu_1:.2f}\")"
   ],
   "id": "141f9dfc530ed754",
   "outputs": [
    {
     "name": "stdout",
     "output_type": "stream",
     "text": [
      "gsarti_enpl_train20k_ep3_r8_len128 → BEST BLEU: 24.56\n"
     ]
    }
   ],
   "execution_count": 11
  },
  {
   "metadata": {
    "ExecuteTime": {
     "end_time": "2025-06-02T23:14:24.744725Z",
     "start_time": "2025-06-02T23:14:24.428087Z"
    }
   },
   "cell_type": "code",
   "source": [
    "adapter_dir_1 = os.path.join(output_dir_1, \"lora_adapter\")\n",
    "save_lora_adapter(model, adapter_dir_1)"
   ],
   "id": "6b3cee8c792df41f",
   "outputs": [],
   "execution_count": 12
  },
  {
   "metadata": {},
   "cell_type": "markdown",
   "source": "#### Testowanie modelu",
   "id": "e72206ba310c8bf2"
  },
  {
   "metadata": {
    "ExecuteTime": {
     "end_time": "2025-06-02T23:14:27.225966Z",
     "start_time": "2025-06-02T23:14:24.759752Z"
    }
   },
   "cell_type": "code",
   "source": [
    "from transformers import AutoTokenizer, AutoModelForSeq2SeqLM, pipeline\n",
    "from peft import PeftModel\n",
    "import torch\n",
    "import os\n",
    "\n",
    "LORA_DIR = \"results_en_pl/gsarti_enpl_train20k_ep3_r8_len128/lora_adapter\"\n",
    "\n",
    "MODEL_NAME = \"gsarti/opus-mt-tc-en-pl\"\n",
    "\n",
    "tokenizer = AutoTokenizer.from_pretrained(MODEL_NAME)\n",
    "base_model = AutoModelForSeq2SeqLM.from_pretrained(MODEL_NAME)\n",
    "\n",
    "model = PeftModel.from_pretrained(\n",
    "    base_model,\n",
    "    LORA_DIR,\n",
    "    local_files_only=True\n",
    ")\n",
    "\n",
    "device = 0 if torch.cuda.is_available() else -1\n",
    "translator_enpl = pipeline(\n",
    "    \"translation\",\n",
    "    model=model,\n",
    "    tokenizer=tokenizer,\n",
    "    device=device\n",
    ")\n",
    "\n",
    "test_sentences = [\n",
    "    \"Hello, how are you?\",\n",
    "    \"This is a test of the English to Polish translator.\",\n",
    "    \"I love programming in Python!\",\n",
    "]\n",
    "\n",
    "for s in test_sentences:\n",
    "    out = translator_enpl(s)\n",
    "    print(f\">>> EN : {s}\")\n",
    "    print(f\"    PL : {out[0]['translation_text']}\\n\")"
   ],
   "id": "888d382fbfdd80a0",
   "outputs": [
    {
     "name": "stderr",
     "output_type": "stream",
     "text": [
      "Device set to use cpu\n"
     ]
    },
    {
     "name": "stdout",
     "output_type": "stream",
     "text": [
      ">>> EN : Hello, how are you?\n",
      "    PL : Cześć, jak się masz?\n",
      "\n",
      ">>> EN : This is a test of the English to Polish translator.\n",
      "    PL : To jest test angielsko-polskiego tłumacza.\n",
      "\n",
      ">>> EN : I love programming in Python!\n",
      "    PL : Uwielbiam programowanie w Pythonie!\n",
      "\n"
     ]
    }
   ],
   "execution_count": 13
  },
  {
   "metadata": {},
   "cell_type": "markdown",
   "source": "### Eksperyment z gsarti (20k próbek, 7 epok, LoRA r=8, max_len=128)",
   "id": "7ec835e54b946cc4"
  },
  {
   "metadata": {
    "ExecuteTime": {
     "end_time": "2025-06-02T23:14:27.240747Z",
     "start_time": "2025-06-02T23:14:27.238812Z"
    }
   },
   "cell_type": "code",
   "source": [
    "config_2 = config_1.copy()\n",
    "config_2[\"num_epochs\"] = 7"
   ],
   "id": "cf7479314fc9b610",
   "outputs": [],
   "execution_count": 14
  },
  {
   "metadata": {
    "ExecuteTime": {
     "end_time": "2025-06-02T23:14:27.251169Z",
     "start_time": "2025-06-02T23:14:27.249262Z"
    }
   },
   "cell_type": "code",
   "source": [
    "exp_name_2 = (\n",
    "    f\"gsarti_enpl_\"\n",
    "    f\"train{config_2['train_size'] // 1000}k_\"\n",
    "    f\"ep{config_2['num_epochs']}_\"\n",
    "    f\"r{config_2['lora_r']}_\"\n",
    "    f\"len{config_2['max_len']}\"\n",
    ")"
   ],
   "id": "557d7ffa40f5efd3",
   "outputs": [],
   "execution_count": 15
  },
  {
   "metadata": {
    "ExecuteTime": {
     "end_time": "2025-06-02T23:14:28.853068Z",
     "start_time": "2025-06-02T23:14:27.259276Z"
    }
   },
   "cell_type": "code",
   "source": [
    "tokenizer = AutoTokenizer.from_pretrained(config_2[\"base_model_id\"])\n",
    "base_model = AutoModelForSeq2SeqLM.from_pretrained(config_2[\"base_model_id\"])\n",
    "\n",
    "lora_config = LoraConfig(\n",
    "    r=config_2[\"lora_r\"],\n",
    "    lora_alpha=32,\n",
    "    target_modules=[\"q_proj\", \"v_proj\"],\n",
    "    lora_dropout=0.1,\n",
    "    bias=\"none\",\n",
    "    task_type=\"SEQ_2_SEQ_LM\",\n",
    ")\n",
    "model = get_peft_model(base_model, lora_config)"
   ],
   "id": "885554d0f3fc0264",
   "outputs": [],
   "execution_count": 16
  },
  {
   "metadata": {
    "ExecuteTime": {
     "end_time": "2025-06-02T23:14:34.361114Z",
     "start_time": "2025-06-02T23:14:28.865247Z"
    }
   },
   "cell_type": "code",
   "source": [
    "train_ds, val_ds = prepare_datasets(\n",
    "    train_size=config_2[\"train_size\"],\n",
    "    val_size=config_2[\"val_size\"],\n",
    "    max_len=config_2[\"max_len\"],\n",
    ")"
   ],
   "id": "4227680cd993e2a6",
   "outputs": [],
   "execution_count": 17
  },
  {
   "metadata": {
    "ExecuteTime": {
     "end_time": "2025-06-02T23:14:34.372611Z",
     "start_time": "2025-06-02T23:14:34.370755Z"
    }
   },
   "cell_type": "code",
   "source": "data_collator = DataCollatorForSeq2Seq(tokenizer, model=model, label_pad_token_id=-100)",
   "id": "aec6f48d584bea76",
   "outputs": [],
   "execution_count": 18
  },
  {
   "metadata": {
    "ExecuteTime": {
     "end_time": "2025-06-02T23:14:34.384217Z",
     "start_time": "2025-06-02T23:14:34.380693Z"
    }
   },
   "cell_type": "code",
   "source": [
    "output_dir_2 = os.path.join(RESULTS_DIR, exp_name_2)\n",
    "os.makedirs(output_dir_2, exist_ok=True)\n",
    "\n",
    "training_args_2 = Seq2SeqTrainingArguments(\n",
    "    output_dir=output_dir_2,\n",
    "    per_device_train_batch_size=config_2[\"batch_size\"],\n",
    "    per_device_eval_batch_size=config_2[\"batch_size\"],\n",
    "    predict_with_generate=True,\n",
    "    eval_strategy=\"steps\",\n",
    "    eval_steps=500,\n",
    "    save_strategy=\"steps\",\n",
    "    save_steps=500,\n",
    "    logging_steps=100,\n",
    "    num_train_epochs=config_2[\"num_epochs\"],\n",
    "    learning_rate=config_2[\"learning_rate\"],\n",
    "    warmup_steps=500,\n",
    "    weight_decay=0.01,\n",
    "    label_smoothing_factor=0.1,\n",
    "    generation_max_length=config_2[\"max_len\"],\n",
    "    generation_num_beams=config_2[\"num_beams\"],\n",
    "    load_best_model_at_end=True,\n",
    "    metric_for_best_model=\"bleu\",\n",
    "    greater_is_better=True,\n",
    ")"
   ],
   "id": "e72ad10ace5b8a0e",
   "outputs": [],
   "execution_count": 19
  },
  {
   "metadata": {
    "ExecuteTime": {
     "end_time": "2025-06-03T01:00:56.542284Z",
     "start_time": "2025-06-02T23:14:34.392563Z"
    }
   },
   "cell_type": "code",
   "source": [
    "trainer_2 = Seq2SeqTrainer(\n",
    "    model=model,\n",
    "    args=training_args_2,\n",
    "    train_dataset=train_ds,\n",
    "    eval_dataset=val_ds,\n",
    "    tokenizer=tokenizer,\n",
    "    data_collator=data_collator,\n",
    "    compute_metrics=compute_metrics,\n",
    ")\n",
    "\n",
    "trainer_2.train()"
   ],
   "id": "632fefad8663c028",
   "outputs": [
    {
     "name": "stderr",
     "output_type": "stream",
     "text": [
      "/var/folders/z_/dq8r0xg94mxfzfpr1jmhv_740000gn/T/ipykernel_14366/2927731541.py:1: FutureWarning: `tokenizer` is deprecated and will be removed in version 5.0.0 for `Seq2SeqTrainer.__init__`. Use `processing_class` instead.\n",
      "  trainer_2 = Seq2SeqTrainer(\n",
      "No label_names provided for model class `PeftModelForSeq2SeqLM`. Since `PeftModel` hides base models input arguments, if label_names is not given, label_names can't be set automatically within `Trainer`. Note that empty label_names list will be used instead.\n",
      "/Users/amika/python-global/lib/python3.12/site-packages/torch/utils/data/dataloader.py:683: UserWarning: 'pin_memory' argument is set as true but not supported on MPS now, then device pinned memory won't be used.\n",
      "  warnings.warn(warn_msg)\n"
     ]
    },
    {
     "data": {
      "text/plain": [
       "<IPython.core.display.HTML object>"
      ],
      "text/html": [
       "\n",
       "    <div>\n",
       "      \n",
       "      <progress value='8750' max='8750' style='width:300px; height:20px; vertical-align: middle;'></progress>\n",
       "      [8750/8750 1:46:21, Epoch 7/7]\n",
       "    </div>\n",
       "    <table border=\"1\" class=\"dataframe\">\n",
       "  <thead>\n",
       " <tr style=\"text-align: left;\">\n",
       "      <th>Step</th>\n",
       "      <th>Training Loss</th>\n",
       "      <th>Validation Loss</th>\n",
       "      <th>Bleu</th>\n",
       "    </tr>\n",
       "  </thead>\n",
       "  <tbody>\n",
       "    <tr>\n",
       "      <td>500</td>\n",
       "      <td>2.073900</td>\n",
       "      <td>2.102502</td>\n",
       "      <td>24.471471</td>\n",
       "    </tr>\n",
       "    <tr>\n",
       "      <td>1000</td>\n",
       "      <td>1.974600</td>\n",
       "      <td>2.003755</td>\n",
       "      <td>15.678642</td>\n",
       "    </tr>\n",
       "    <tr>\n",
       "      <td>1500</td>\n",
       "      <td>1.948500</td>\n",
       "      <td>1.982327</td>\n",
       "      <td>15.206754</td>\n",
       "    </tr>\n",
       "    <tr>\n",
       "      <td>2000</td>\n",
       "      <td>1.941900</td>\n",
       "      <td>1.968858</td>\n",
       "      <td>14.586026</td>\n",
       "    </tr>\n",
       "    <tr>\n",
       "      <td>2500</td>\n",
       "      <td>1.927900</td>\n",
       "      <td>1.959386</td>\n",
       "      <td>13.709861</td>\n",
       "    </tr>\n",
       "    <tr>\n",
       "      <td>3000</td>\n",
       "      <td>1.940900</td>\n",
       "      <td>1.953213</td>\n",
       "      <td>14.550695</td>\n",
       "    </tr>\n",
       "    <tr>\n",
       "      <td>3500</td>\n",
       "      <td>1.920100</td>\n",
       "      <td>1.946122</td>\n",
       "      <td>13.759360</td>\n",
       "    </tr>\n",
       "    <tr>\n",
       "      <td>4000</td>\n",
       "      <td>1.921500</td>\n",
       "      <td>1.940862</td>\n",
       "      <td>13.574526</td>\n",
       "    </tr>\n",
       "    <tr>\n",
       "      <td>4500</td>\n",
       "      <td>1.905900</td>\n",
       "      <td>1.936573</td>\n",
       "      <td>13.214324</td>\n",
       "    </tr>\n",
       "    <tr>\n",
       "      <td>5000</td>\n",
       "      <td>1.900300</td>\n",
       "      <td>1.933126</td>\n",
       "      <td>13.421774</td>\n",
       "    </tr>\n",
       "    <tr>\n",
       "      <td>5500</td>\n",
       "      <td>1.896900</td>\n",
       "      <td>1.930018</td>\n",
       "      <td>13.133407</td>\n",
       "    </tr>\n",
       "    <tr>\n",
       "      <td>6000</td>\n",
       "      <td>1.904300</td>\n",
       "      <td>1.927915</td>\n",
       "      <td>13.147010</td>\n",
       "    </tr>\n",
       "    <tr>\n",
       "      <td>6500</td>\n",
       "      <td>1.897300</td>\n",
       "      <td>1.925662</td>\n",
       "      <td>12.964712</td>\n",
       "    </tr>\n",
       "    <tr>\n",
       "      <td>7000</td>\n",
       "      <td>1.902300</td>\n",
       "      <td>1.924332</td>\n",
       "      <td>13.032995</td>\n",
       "    </tr>\n",
       "    <tr>\n",
       "      <td>7500</td>\n",
       "      <td>1.869200</td>\n",
       "      <td>1.923192</td>\n",
       "      <td>13.174783</td>\n",
       "    </tr>\n",
       "    <tr>\n",
       "      <td>8000</td>\n",
       "      <td>1.883400</td>\n",
       "      <td>1.922352</td>\n",
       "      <td>12.797266</td>\n",
       "    </tr>\n",
       "    <tr>\n",
       "      <td>8500</td>\n",
       "      <td>1.901400</td>\n",
       "      <td>1.921951</td>\n",
       "      <td>12.844814</td>\n",
       "    </tr>\n",
       "  </tbody>\n",
       "</table><p>"
      ]
     },
     "metadata": {},
     "output_type": "display_data"
    },
    {
     "name": "stderr",
     "output_type": "stream",
     "text": [
      "/Users/amika/python-global/lib/python3.12/site-packages/torch/utils/data/dataloader.py:683: UserWarning: 'pin_memory' argument is set as true but not supported on MPS now, then device pinned memory won't be used.\n",
      "  warnings.warn(warn_msg)\n",
      "/Users/amika/python-global/lib/python3.12/site-packages/torch/utils/data/dataloader.py:683: UserWarning: 'pin_memory' argument is set as true but not supported on MPS now, then device pinned memory won't be used.\n",
      "  warnings.warn(warn_msg)\n",
      "/Users/amika/python-global/lib/python3.12/site-packages/torch/utils/data/dataloader.py:683: UserWarning: 'pin_memory' argument is set as true but not supported on MPS now, then device pinned memory won't be used.\n",
      "  warnings.warn(warn_msg)\n",
      "/Users/amika/python-global/lib/python3.12/site-packages/torch/utils/data/dataloader.py:683: UserWarning: 'pin_memory' argument is set as true but not supported on MPS now, then device pinned memory won't be used.\n",
      "  warnings.warn(warn_msg)\n",
      "/Users/amika/python-global/lib/python3.12/site-packages/torch/utils/data/dataloader.py:683: UserWarning: 'pin_memory' argument is set as true but not supported on MPS now, then device pinned memory won't be used.\n",
      "  warnings.warn(warn_msg)\n",
      "/Users/amika/python-global/lib/python3.12/site-packages/torch/utils/data/dataloader.py:683: UserWarning: 'pin_memory' argument is set as true but not supported on MPS now, then device pinned memory won't be used.\n",
      "  warnings.warn(warn_msg)\n",
      "/Users/amika/python-global/lib/python3.12/site-packages/torch/utils/data/dataloader.py:683: UserWarning: 'pin_memory' argument is set as true but not supported on MPS now, then device pinned memory won't be used.\n",
      "  warnings.warn(warn_msg)\n",
      "/Users/amika/python-global/lib/python3.12/site-packages/torch/utils/data/dataloader.py:683: UserWarning: 'pin_memory' argument is set as true but not supported on MPS now, then device pinned memory won't be used.\n",
      "  warnings.warn(warn_msg)\n",
      "/Users/amika/python-global/lib/python3.12/site-packages/torch/utils/data/dataloader.py:683: UserWarning: 'pin_memory' argument is set as true but not supported on MPS now, then device pinned memory won't be used.\n",
      "  warnings.warn(warn_msg)\n",
      "/Users/amika/python-global/lib/python3.12/site-packages/torch/utils/data/dataloader.py:683: UserWarning: 'pin_memory' argument is set as true but not supported on MPS now, then device pinned memory won't be used.\n",
      "  warnings.warn(warn_msg)\n",
      "/Users/amika/python-global/lib/python3.12/site-packages/torch/utils/data/dataloader.py:683: UserWarning: 'pin_memory' argument is set as true but not supported on MPS now, then device pinned memory won't be used.\n",
      "  warnings.warn(warn_msg)\n",
      "/Users/amika/python-global/lib/python3.12/site-packages/torch/utils/data/dataloader.py:683: UserWarning: 'pin_memory' argument is set as true but not supported on MPS now, then device pinned memory won't be used.\n",
      "  warnings.warn(warn_msg)\n",
      "/Users/amika/python-global/lib/python3.12/site-packages/torch/utils/data/dataloader.py:683: UserWarning: 'pin_memory' argument is set as true but not supported on MPS now, then device pinned memory won't be used.\n",
      "  warnings.warn(warn_msg)\n",
      "/Users/amika/python-global/lib/python3.12/site-packages/torch/utils/data/dataloader.py:683: UserWarning: 'pin_memory' argument is set as true but not supported on MPS now, then device pinned memory won't be used.\n",
      "  warnings.warn(warn_msg)\n",
      "/Users/amika/python-global/lib/python3.12/site-packages/torch/utils/data/dataloader.py:683: UserWarning: 'pin_memory' argument is set as true but not supported on MPS now, then device pinned memory won't be used.\n",
      "  warnings.warn(warn_msg)\n",
      "/Users/amika/python-global/lib/python3.12/site-packages/torch/utils/data/dataloader.py:683: UserWarning: 'pin_memory' argument is set as true but not supported on MPS now, then device pinned memory won't be used.\n",
      "  warnings.warn(warn_msg)\n"
     ]
    },
    {
     "data": {
      "text/plain": [
       "TrainOutput(global_step=8750, training_loss=1.996553693498884, metrics={'train_runtime': 6381.7625, 'train_samples_per_second': 21.938, 'train_steps_per_second': 1.371, 'total_flos': 4777480028160000.0, 'train_loss': 1.996553693498884, 'epoch': 7.0})"
      ]
     },
     "execution_count": 20,
     "metadata": {},
     "output_type": "execute_result"
    }
   ],
   "execution_count": 20
  },
  {
   "metadata": {
    "ExecuteTime": {
     "end_time": "2025-06-03T01:00:56.561838Z",
     "start_time": "2025-06-03T01:00:56.559962Z"
    }
   },
   "cell_type": "code",
   "source": [
    "best_bleu_2 = trainer_2.state.best_metric\n",
    "print(f\"{exp_name_2} → BEST BLEU: {best_bleu_2:.2f}\")"
   ],
   "id": "3ed046b10b4a7610",
   "outputs": [
    {
     "name": "stdout",
     "output_type": "stream",
     "text": [
      "gsarti_enpl_train20k_ep7_r8_len128 → BEST BLEU: 24.47\n"
     ]
    }
   ],
   "execution_count": 21
  },
  {
   "metadata": {
    "ExecuteTime": {
     "end_time": "2025-06-03T01:00:56.912862Z",
     "start_time": "2025-06-03T01:00:56.587478Z"
    }
   },
   "cell_type": "code",
   "source": [
    "adapter_dir_2 = os.path.join(output_dir_2, \"lora_adapter\")\n",
    "save_lora_adapter(model, adapter_dir_2)"
   ],
   "id": "9f5af17ee7f6eab4",
   "outputs": [],
   "execution_count": 22
  },
  {
   "metadata": {},
   "cell_type": "markdown",
   "source": "### Eksperyment z gsarti (100k próbek, 7 epok, LoRA r=8, max_len=128)",
   "id": "fabb24c29db5fa90"
  },
  {
   "metadata": {
    "ExecuteTime": {
     "end_time": "2025-06-03T01:00:56.931641Z",
     "start_time": "2025-06-03T01:00:56.929274Z"
    }
   },
   "cell_type": "code",
   "source": [
    "config_3 = config_1.copy()\n",
    "config_3[\"train_size\"] = 100000\n",
    "config_3[\"num_epochs\"] = 7"
   ],
   "id": "292b33356f46e354",
   "outputs": [],
   "execution_count": 23
  },
  {
   "metadata": {
    "ExecuteTime": {
     "end_time": "2025-06-03T01:00:56.945424Z",
     "start_time": "2025-06-03T01:00:56.943293Z"
    }
   },
   "cell_type": "code",
   "source": [
    "exp_name_3 = (\n",
    "    f\"gsarti_enpl_\"\n",
    "    f\"train{config_3['train_size'] // 1000}k_\"\n",
    "    f\"ep{config_3['num_epochs']}_\"\n",
    "    f\"r{config_3['lora_r']}_\"\n",
    "    f\"len{config_3['max_len']}\"\n",
    ")"
   ],
   "id": "3f53b961abe33e82",
   "outputs": [],
   "execution_count": 24
  },
  {
   "metadata": {
    "ExecuteTime": {
     "end_time": "2025-06-03T01:00:58.587766Z",
     "start_time": "2025-06-03T01:00:56.955953Z"
    }
   },
   "cell_type": "code",
   "source": [
    "tokenizer = AutoTokenizer.from_pretrained(config_3[\"base_model_id\"])\n",
    "base_model = AutoModelForSeq2SeqLM.from_pretrained(config_3[\"base_model_id\"])\n",
    "\n",
    "lora_config = LoraConfig(\n",
    "    r=config_3[\"lora_r\"],\n",
    "    lora_alpha=32,\n",
    "    target_modules=[\"q_proj\", \"v_proj\"],\n",
    "    lora_dropout=0.1,\n",
    "    bias=\"none\",\n",
    "    task_type=\"SEQ_2_SEQ_LM\",\n",
    ")\n",
    "model = get_peft_model(base_model, lora_config)"
   ],
   "id": "20defd44e0d35c98",
   "outputs": [],
   "execution_count": 25
  },
  {
   "metadata": {
    "ExecuteTime": {
     "end_time": "2025-06-03T01:01:03.850204Z",
     "start_time": "2025-06-03T01:00:58.600806Z"
    }
   },
   "cell_type": "code",
   "source": [
    "train_ds, val_ds = prepare_datasets(\n",
    "    train_size=config_3[\"train_size\"],\n",
    "    val_size=config_3[\"val_size\"],\n",
    "    max_len=config_3[\"max_len\"],\n",
    ")"
   ],
   "id": "58fd0e3d806e1f4d",
   "outputs": [],
   "execution_count": 26
  },
  {
   "metadata": {
    "ExecuteTime": {
     "end_time": "2025-06-03T01:01:03.861420Z",
     "start_time": "2025-06-03T01:01:03.859977Z"
    }
   },
   "cell_type": "code",
   "source": "data_collator = DataCollatorForSeq2Seq(tokenizer, model=model, label_pad_token_id=-100)",
   "id": "6b5fd7f3469eb344",
   "outputs": [],
   "execution_count": 27
  },
  {
   "metadata": {
    "ExecuteTime": {
     "end_time": "2025-06-03T01:01:03.873231Z",
     "start_time": "2025-06-03T01:01:03.870120Z"
    }
   },
   "cell_type": "code",
   "source": [
    "output_dir_3 = os.path.join(RESULTS_DIR, exp_name_3)\n",
    "os.makedirs(output_dir_3, exist_ok=True)\n",
    "\n",
    "training_args_3 = Seq2SeqTrainingArguments(\n",
    "    output_dir=output_dir_3,\n",
    "    per_device_train_batch_size=config_3[\"batch_size\"],\n",
    "    per_device_eval_batch_size=config_3[\"batch_size\"],\n",
    "    predict_with_generate=True,\n",
    "    eval_strategy=\"steps\",\n",
    "    eval_steps=500,\n",
    "    save_strategy=\"steps\",\n",
    "    save_steps=500,\n",
    "    logging_steps=100,\n",
    "    num_train_epochs=config_3[\"num_epochs\"],\n",
    "    learning_rate=config_3[\"learning_rate\"],\n",
    "    warmup_steps=500,\n",
    "    weight_decay=0.01,\n",
    "    label_smoothing_factor=0.1,\n",
    "    generation_max_length=config_3[\"max_len\"],\n",
    "    generation_num_beams=config_3[\"num_beams\"],\n",
    "    load_best_model_at_end=True,\n",
    "    metric_for_best_model=\"bleu\",\n",
    "    greater_is_better=True,\n",
    ")"
   ],
   "id": "8ffe1a8f179f1255",
   "outputs": [],
   "execution_count": 28
  },
  {
   "metadata": {
    "ExecuteTime": {
     "end_time": "2025-06-03T10:15:30.218040Z",
     "start_time": "2025-06-03T01:01:03.881204Z"
    }
   },
   "cell_type": "code",
   "source": [
    "trainer_3 = Seq2SeqTrainer(\n",
    "    model=model,\n",
    "    args=training_args_3,\n",
    "    train_dataset=train_ds,\n",
    "    eval_dataset=val_ds,\n",
    "    tokenizer=tokenizer,\n",
    "    data_collator=data_collator,\n",
    "    compute_metrics=compute_metrics,\n",
    ")\n",
    "\n",
    "trainer_3.train()"
   ],
   "id": "ecef151c8c466812",
   "outputs": [
    {
     "name": "stderr",
     "output_type": "stream",
     "text": [
      "/var/folders/z_/dq8r0xg94mxfzfpr1jmhv_740000gn/T/ipykernel_14366/3904490955.py:1: FutureWarning: `tokenizer` is deprecated and will be removed in version 5.0.0 for `Seq2SeqTrainer.__init__`. Use `processing_class` instead.\n",
      "  trainer_3 = Seq2SeqTrainer(\n",
      "No label_names provided for model class `PeftModelForSeq2SeqLM`. Since `PeftModel` hides base models input arguments, if label_names is not given, label_names can't be set automatically within `Trainer`. Note that empty label_names list will be used instead.\n",
      "/Users/amika/python-global/lib/python3.12/site-packages/torch/utils/data/dataloader.py:683: UserWarning: 'pin_memory' argument is set as true but not supported on MPS now, then device pinned memory won't be used.\n",
      "  warnings.warn(warn_msg)\n"
     ]
    },
    {
     "data": {
      "text/plain": [
       "<IPython.core.display.HTML object>"
      ],
      "text/html": [
       "\n",
       "    <div>\n",
       "      \n",
       "      <progress value='43750' max='43750' style='width:300px; height:20px; vertical-align: middle;'></progress>\n",
       "      [43750/43750 9:14:25, Epoch 7/7]\n",
       "    </div>\n",
       "    <table border=\"1\" class=\"dataframe\">\n",
       "  <thead>\n",
       " <tr style=\"text-align: left;\">\n",
       "      <th>Step</th>\n",
       "      <th>Training Loss</th>\n",
       "      <th>Validation Loss</th>\n",
       "      <th>Bleu</th>\n",
       "    </tr>\n",
       "  </thead>\n",
       "  <tbody>\n",
       "    <tr>\n",
       "      <td>500</td>\n",
       "      <td>2.074400</td>\n",
       "      <td>2.103265</td>\n",
       "      <td>24.616333</td>\n",
       "    </tr>\n",
       "    <tr>\n",
       "      <td>1000</td>\n",
       "      <td>1.974800</td>\n",
       "      <td>2.004170</td>\n",
       "      <td>16.382360</td>\n",
       "    </tr>\n",
       "    <tr>\n",
       "      <td>1500</td>\n",
       "      <td>1.938300</td>\n",
       "      <td>1.982019</td>\n",
       "      <td>15.488256</td>\n",
       "    </tr>\n",
       "    <tr>\n",
       "      <td>2000</td>\n",
       "      <td>1.971200</td>\n",
       "      <td>1.968493</td>\n",
       "      <td>14.665093</td>\n",
       "    </tr>\n",
       "    <tr>\n",
       "      <td>2500</td>\n",
       "      <td>1.915300</td>\n",
       "      <td>1.957545</td>\n",
       "      <td>14.446485</td>\n",
       "    </tr>\n",
       "    <tr>\n",
       "      <td>3000</td>\n",
       "      <td>1.904800</td>\n",
       "      <td>1.949271</td>\n",
       "      <td>13.880592</td>\n",
       "    </tr>\n",
       "    <tr>\n",
       "      <td>3500</td>\n",
       "      <td>1.897200</td>\n",
       "      <td>1.940325</td>\n",
       "      <td>13.265628</td>\n",
       "    </tr>\n",
       "    <tr>\n",
       "      <td>4000</td>\n",
       "      <td>1.892300</td>\n",
       "      <td>1.933667</td>\n",
       "      <td>13.381764</td>\n",
       "    </tr>\n",
       "    <tr>\n",
       "      <td>4500</td>\n",
       "      <td>1.898900</td>\n",
       "      <td>1.927066</td>\n",
       "      <td>13.383475</td>\n",
       "    </tr>\n",
       "    <tr>\n",
       "      <td>5000</td>\n",
       "      <td>1.903800</td>\n",
       "      <td>1.922257</td>\n",
       "      <td>13.077818</td>\n",
       "    </tr>\n",
       "    <tr>\n",
       "      <td>5500</td>\n",
       "      <td>1.888400</td>\n",
       "      <td>1.916609</td>\n",
       "      <td>13.127220</td>\n",
       "    </tr>\n",
       "    <tr>\n",
       "      <td>6000</td>\n",
       "      <td>1.909900</td>\n",
       "      <td>1.912719</td>\n",
       "      <td>12.619784</td>\n",
       "    </tr>\n",
       "    <tr>\n",
       "      <td>6500</td>\n",
       "      <td>1.870900</td>\n",
       "      <td>1.909198</td>\n",
       "      <td>12.959482</td>\n",
       "    </tr>\n",
       "    <tr>\n",
       "      <td>7000</td>\n",
       "      <td>1.895700</td>\n",
       "      <td>1.906067</td>\n",
       "      <td>12.967046</td>\n",
       "    </tr>\n",
       "    <tr>\n",
       "      <td>7500</td>\n",
       "      <td>1.870200</td>\n",
       "      <td>1.901969</td>\n",
       "      <td>12.078715</td>\n",
       "    </tr>\n",
       "    <tr>\n",
       "      <td>8000</td>\n",
       "      <td>1.891600</td>\n",
       "      <td>1.899640</td>\n",
       "      <td>12.480501</td>\n",
       "    </tr>\n",
       "    <tr>\n",
       "      <td>8500</td>\n",
       "      <td>1.877000</td>\n",
       "      <td>1.897634</td>\n",
       "      <td>12.128591</td>\n",
       "    </tr>\n",
       "    <tr>\n",
       "      <td>9000</td>\n",
       "      <td>1.879900</td>\n",
       "      <td>1.894678</td>\n",
       "      <td>12.630712</td>\n",
       "    </tr>\n",
       "    <tr>\n",
       "      <td>9500</td>\n",
       "      <td>1.891500</td>\n",
       "      <td>1.892385</td>\n",
       "      <td>11.688256</td>\n",
       "    </tr>\n",
       "    <tr>\n",
       "      <td>10000</td>\n",
       "      <td>1.849600</td>\n",
       "      <td>1.890118</td>\n",
       "      <td>12.278291</td>\n",
       "    </tr>\n",
       "    <tr>\n",
       "      <td>10500</td>\n",
       "      <td>1.868100</td>\n",
       "      <td>1.888008</td>\n",
       "      <td>12.047547</td>\n",
       "    </tr>\n",
       "    <tr>\n",
       "      <td>11000</td>\n",
       "      <td>1.861400</td>\n",
       "      <td>1.886067</td>\n",
       "      <td>12.114284</td>\n",
       "    </tr>\n",
       "    <tr>\n",
       "      <td>11500</td>\n",
       "      <td>1.864700</td>\n",
       "      <td>1.884502</td>\n",
       "      <td>12.377293</td>\n",
       "    </tr>\n",
       "    <tr>\n",
       "      <td>12000</td>\n",
       "      <td>1.877400</td>\n",
       "      <td>1.882787</td>\n",
       "      <td>12.453180</td>\n",
       "    </tr>\n",
       "    <tr>\n",
       "      <td>12500</td>\n",
       "      <td>1.855400</td>\n",
       "      <td>1.881048</td>\n",
       "      <td>12.231977</td>\n",
       "    </tr>\n",
       "    <tr>\n",
       "      <td>13000</td>\n",
       "      <td>1.856300</td>\n",
       "      <td>1.879758</td>\n",
       "      <td>12.397815</td>\n",
       "    </tr>\n",
       "    <tr>\n",
       "      <td>13500</td>\n",
       "      <td>1.875200</td>\n",
       "      <td>1.878637</td>\n",
       "      <td>12.569856</td>\n",
       "    </tr>\n",
       "    <tr>\n",
       "      <td>14000</td>\n",
       "      <td>1.835900</td>\n",
       "      <td>1.876807</td>\n",
       "      <td>12.161275</td>\n",
       "    </tr>\n",
       "    <tr>\n",
       "      <td>14500</td>\n",
       "      <td>1.852400</td>\n",
       "      <td>1.875308</td>\n",
       "      <td>11.975033</td>\n",
       "    </tr>\n",
       "    <tr>\n",
       "      <td>15000</td>\n",
       "      <td>1.859100</td>\n",
       "      <td>1.874692</td>\n",
       "      <td>12.813860</td>\n",
       "    </tr>\n",
       "    <tr>\n",
       "      <td>15500</td>\n",
       "      <td>1.840800</td>\n",
       "      <td>1.873084</td>\n",
       "      <td>12.434983</td>\n",
       "    </tr>\n",
       "    <tr>\n",
       "      <td>16000</td>\n",
       "      <td>1.856700</td>\n",
       "      <td>1.871752</td>\n",
       "      <td>12.250524</td>\n",
       "    </tr>\n",
       "    <tr>\n",
       "      <td>16500</td>\n",
       "      <td>1.845900</td>\n",
       "      <td>1.871026</td>\n",
       "      <td>12.952850</td>\n",
       "    </tr>\n",
       "    <tr>\n",
       "      <td>17000</td>\n",
       "      <td>1.836500</td>\n",
       "      <td>1.869995</td>\n",
       "      <td>12.672089</td>\n",
       "    </tr>\n",
       "    <tr>\n",
       "      <td>17500</td>\n",
       "      <td>1.853400</td>\n",
       "      <td>1.868671</td>\n",
       "      <td>12.950229</td>\n",
       "    </tr>\n",
       "    <tr>\n",
       "      <td>18000</td>\n",
       "      <td>1.854400</td>\n",
       "      <td>1.867747</td>\n",
       "      <td>12.414952</td>\n",
       "    </tr>\n",
       "    <tr>\n",
       "      <td>18500</td>\n",
       "      <td>1.845300</td>\n",
       "      <td>1.866645</td>\n",
       "      <td>12.640362</td>\n",
       "    </tr>\n",
       "    <tr>\n",
       "      <td>19000</td>\n",
       "      <td>1.837400</td>\n",
       "      <td>1.865907</td>\n",
       "      <td>12.769255</td>\n",
       "    </tr>\n",
       "    <tr>\n",
       "      <td>19500</td>\n",
       "      <td>1.849200</td>\n",
       "      <td>1.864628</td>\n",
       "      <td>12.732950</td>\n",
       "    </tr>\n",
       "    <tr>\n",
       "      <td>20000</td>\n",
       "      <td>1.848100</td>\n",
       "      <td>1.863925</td>\n",
       "      <td>12.852843</td>\n",
       "    </tr>\n",
       "    <tr>\n",
       "      <td>20500</td>\n",
       "      <td>1.817000</td>\n",
       "      <td>1.863638</td>\n",
       "      <td>12.737519</td>\n",
       "    </tr>\n",
       "    <tr>\n",
       "      <td>21000</td>\n",
       "      <td>1.831100</td>\n",
       "      <td>1.862685</td>\n",
       "      <td>12.606468</td>\n",
       "    </tr>\n",
       "    <tr>\n",
       "      <td>21500</td>\n",
       "      <td>1.836800</td>\n",
       "      <td>1.861988</td>\n",
       "      <td>12.667840</td>\n",
       "    </tr>\n",
       "    <tr>\n",
       "      <td>22000</td>\n",
       "      <td>1.842400</td>\n",
       "      <td>1.861004</td>\n",
       "      <td>12.588886</td>\n",
       "    </tr>\n",
       "    <tr>\n",
       "      <td>22500</td>\n",
       "      <td>1.810300</td>\n",
       "      <td>1.860247</td>\n",
       "      <td>12.492826</td>\n",
       "    </tr>\n",
       "    <tr>\n",
       "      <td>23000</td>\n",
       "      <td>1.843100</td>\n",
       "      <td>1.859651</td>\n",
       "      <td>12.829428</td>\n",
       "    </tr>\n",
       "    <tr>\n",
       "      <td>23500</td>\n",
       "      <td>1.843300</td>\n",
       "      <td>1.858972</td>\n",
       "      <td>12.259711</td>\n",
       "    </tr>\n",
       "    <tr>\n",
       "      <td>24000</td>\n",
       "      <td>1.824900</td>\n",
       "      <td>1.858116</td>\n",
       "      <td>12.400791</td>\n",
       "    </tr>\n",
       "    <tr>\n",
       "      <td>24500</td>\n",
       "      <td>1.828400</td>\n",
       "      <td>1.857714</td>\n",
       "      <td>12.785539</td>\n",
       "    </tr>\n",
       "    <tr>\n",
       "      <td>25000</td>\n",
       "      <td>1.828700</td>\n",
       "      <td>1.857362</td>\n",
       "      <td>12.813368</td>\n",
       "    </tr>\n",
       "    <tr>\n",
       "      <td>25500</td>\n",
       "      <td>1.834000</td>\n",
       "      <td>1.857137</td>\n",
       "      <td>12.948880</td>\n",
       "    </tr>\n",
       "    <tr>\n",
       "      <td>26000</td>\n",
       "      <td>1.835800</td>\n",
       "      <td>1.856493</td>\n",
       "      <td>12.725161</td>\n",
       "    </tr>\n",
       "    <tr>\n",
       "      <td>26500</td>\n",
       "      <td>1.847900</td>\n",
       "      <td>1.855345</td>\n",
       "      <td>12.575853</td>\n",
       "    </tr>\n",
       "    <tr>\n",
       "      <td>27000</td>\n",
       "      <td>1.854700</td>\n",
       "      <td>1.855319</td>\n",
       "      <td>12.830661</td>\n",
       "    </tr>\n",
       "    <tr>\n",
       "      <td>27500</td>\n",
       "      <td>1.843900</td>\n",
       "      <td>1.854947</td>\n",
       "      <td>12.715128</td>\n",
       "    </tr>\n",
       "    <tr>\n",
       "      <td>28000</td>\n",
       "      <td>1.837700</td>\n",
       "      <td>1.854590</td>\n",
       "      <td>12.648249</td>\n",
       "    </tr>\n",
       "    <tr>\n",
       "      <td>28500</td>\n",
       "      <td>1.835000</td>\n",
       "      <td>1.853843</td>\n",
       "      <td>12.617436</td>\n",
       "    </tr>\n",
       "    <tr>\n",
       "      <td>29000</td>\n",
       "      <td>1.816500</td>\n",
       "      <td>1.853515</td>\n",
       "      <td>12.928047</td>\n",
       "    </tr>\n",
       "    <tr>\n",
       "      <td>29500</td>\n",
       "      <td>1.823700</td>\n",
       "      <td>1.853331</td>\n",
       "      <td>12.864670</td>\n",
       "    </tr>\n",
       "    <tr>\n",
       "      <td>30000</td>\n",
       "      <td>1.850100</td>\n",
       "      <td>1.852773</td>\n",
       "      <td>12.724143</td>\n",
       "    </tr>\n",
       "    <tr>\n",
       "      <td>30500</td>\n",
       "      <td>1.841700</td>\n",
       "      <td>1.852294</td>\n",
       "      <td>13.059850</td>\n",
       "    </tr>\n",
       "    <tr>\n",
       "      <td>31000</td>\n",
       "      <td>1.824300</td>\n",
       "      <td>1.851654</td>\n",
       "      <td>13.062170</td>\n",
       "    </tr>\n",
       "    <tr>\n",
       "      <td>31500</td>\n",
       "      <td>1.838000</td>\n",
       "      <td>1.851794</td>\n",
       "      <td>12.842120</td>\n",
       "    </tr>\n",
       "    <tr>\n",
       "      <td>32000</td>\n",
       "      <td>1.832500</td>\n",
       "      <td>1.851406</td>\n",
       "      <td>12.884403</td>\n",
       "    </tr>\n",
       "    <tr>\n",
       "      <td>32500</td>\n",
       "      <td>1.841800</td>\n",
       "      <td>1.851222</td>\n",
       "      <td>13.134553</td>\n",
       "    </tr>\n",
       "    <tr>\n",
       "      <td>33000</td>\n",
       "      <td>1.828500</td>\n",
       "      <td>1.850565</td>\n",
       "      <td>12.814523</td>\n",
       "    </tr>\n",
       "    <tr>\n",
       "      <td>33500</td>\n",
       "      <td>1.849800</td>\n",
       "      <td>1.850319</td>\n",
       "      <td>12.944143</td>\n",
       "    </tr>\n",
       "    <tr>\n",
       "      <td>34000</td>\n",
       "      <td>1.827900</td>\n",
       "      <td>1.850248</td>\n",
       "      <td>12.897745</td>\n",
       "    </tr>\n",
       "    <tr>\n",
       "      <td>34500</td>\n",
       "      <td>1.839400</td>\n",
       "      <td>1.850067</td>\n",
       "      <td>12.928996</td>\n",
       "    </tr>\n",
       "    <tr>\n",
       "      <td>35000</td>\n",
       "      <td>1.816400</td>\n",
       "      <td>1.849686</td>\n",
       "      <td>13.016417</td>\n",
       "    </tr>\n",
       "    <tr>\n",
       "      <td>35500</td>\n",
       "      <td>1.835900</td>\n",
       "      <td>1.849508</td>\n",
       "      <td>12.837571</td>\n",
       "    </tr>\n",
       "    <tr>\n",
       "      <td>36000</td>\n",
       "      <td>1.816000</td>\n",
       "      <td>1.849434</td>\n",
       "      <td>12.901467</td>\n",
       "    </tr>\n",
       "    <tr>\n",
       "      <td>36500</td>\n",
       "      <td>1.842900</td>\n",
       "      <td>1.849192</td>\n",
       "      <td>13.017948</td>\n",
       "    </tr>\n",
       "    <tr>\n",
       "      <td>37000</td>\n",
       "      <td>1.847800</td>\n",
       "      <td>1.848877</td>\n",
       "      <td>12.797720</td>\n",
       "    </tr>\n",
       "    <tr>\n",
       "      <td>37500</td>\n",
       "      <td>1.824300</td>\n",
       "      <td>1.848936</td>\n",
       "      <td>12.974724</td>\n",
       "    </tr>\n",
       "    <tr>\n",
       "      <td>38000</td>\n",
       "      <td>1.836700</td>\n",
       "      <td>1.848753</td>\n",
       "      <td>12.959804</td>\n",
       "    </tr>\n",
       "    <tr>\n",
       "      <td>38500</td>\n",
       "      <td>1.828600</td>\n",
       "      <td>1.848582</td>\n",
       "      <td>12.731037</td>\n",
       "    </tr>\n",
       "    <tr>\n",
       "      <td>39000</td>\n",
       "      <td>1.833100</td>\n",
       "      <td>1.848399</td>\n",
       "      <td>12.785870</td>\n",
       "    </tr>\n",
       "    <tr>\n",
       "      <td>39500</td>\n",
       "      <td>1.831300</td>\n",
       "      <td>1.848176</td>\n",
       "      <td>12.917249</td>\n",
       "    </tr>\n",
       "    <tr>\n",
       "      <td>40000</td>\n",
       "      <td>1.830800</td>\n",
       "      <td>1.848234</td>\n",
       "      <td>12.954913</td>\n",
       "    </tr>\n",
       "    <tr>\n",
       "      <td>40500</td>\n",
       "      <td>1.837400</td>\n",
       "      <td>1.847957</td>\n",
       "      <td>12.917731</td>\n",
       "    </tr>\n",
       "    <tr>\n",
       "      <td>41000</td>\n",
       "      <td>1.815400</td>\n",
       "      <td>1.847928</td>\n",
       "      <td>12.924290</td>\n",
       "    </tr>\n",
       "    <tr>\n",
       "      <td>41500</td>\n",
       "      <td>1.836000</td>\n",
       "      <td>1.847975</td>\n",
       "      <td>13.011591</td>\n",
       "    </tr>\n",
       "    <tr>\n",
       "      <td>42000</td>\n",
       "      <td>1.820600</td>\n",
       "      <td>1.847754</td>\n",
       "      <td>13.016252</td>\n",
       "    </tr>\n",
       "    <tr>\n",
       "      <td>42500</td>\n",
       "      <td>1.838100</td>\n",
       "      <td>1.847736</td>\n",
       "      <td>12.947521</td>\n",
       "    </tr>\n",
       "    <tr>\n",
       "      <td>43000</td>\n",
       "      <td>1.833900</td>\n",
       "      <td>1.847697</td>\n",
       "      <td>13.081945</td>\n",
       "    </tr>\n",
       "    <tr>\n",
       "      <td>43500</td>\n",
       "      <td>1.824000</td>\n",
       "      <td>1.847692</td>\n",
       "      <td>13.043916</td>\n",
       "    </tr>\n",
       "  </tbody>\n",
       "</table><p>"
      ]
     },
     "metadata": {},
     "output_type": "display_data"
    },
    {
     "name": "stderr",
     "output_type": "stream",
     "text": [
      "/Users/amika/python-global/lib/python3.12/site-packages/torch/utils/data/dataloader.py:683: UserWarning: 'pin_memory' argument is set as true but not supported on MPS now, then device pinned memory won't be used.\n",
      "  warnings.warn(warn_msg)\n",
      "/Users/amika/python-global/lib/python3.12/site-packages/torch/utils/data/dataloader.py:683: UserWarning: 'pin_memory' argument is set as true but not supported on MPS now, then device pinned memory won't be used.\n",
      "  warnings.warn(warn_msg)\n",
      "/Users/amika/python-global/lib/python3.12/site-packages/torch/utils/data/dataloader.py:683: UserWarning: 'pin_memory' argument is set as true but not supported on MPS now, then device pinned memory won't be used.\n",
      "  warnings.warn(warn_msg)\n",
      "/Users/amika/python-global/lib/python3.12/site-packages/torch/utils/data/dataloader.py:683: UserWarning: 'pin_memory' argument is set as true but not supported on MPS now, then device pinned memory won't be used.\n",
      "  warnings.warn(warn_msg)\n",
      "/Users/amika/python-global/lib/python3.12/site-packages/torch/utils/data/dataloader.py:683: UserWarning: 'pin_memory' argument is set as true but not supported on MPS now, then device pinned memory won't be used.\n",
      "  warnings.warn(warn_msg)\n",
      "/Users/amika/python-global/lib/python3.12/site-packages/torch/utils/data/dataloader.py:683: UserWarning: 'pin_memory' argument is set as true but not supported on MPS now, then device pinned memory won't be used.\n",
      "  warnings.warn(warn_msg)\n",
      "/Users/amika/python-global/lib/python3.12/site-packages/torch/utils/data/dataloader.py:683: UserWarning: 'pin_memory' argument is set as true but not supported on MPS now, then device pinned memory won't be used.\n",
      "  warnings.warn(warn_msg)\n",
      "/Users/amika/python-global/lib/python3.12/site-packages/torch/utils/data/dataloader.py:683: UserWarning: 'pin_memory' argument is set as true but not supported on MPS now, then device pinned memory won't be used.\n",
      "  warnings.warn(warn_msg)\n",
      "/Users/amika/python-global/lib/python3.12/site-packages/torch/utils/data/dataloader.py:683: UserWarning: 'pin_memory' argument is set as true but not supported on MPS now, then device pinned memory won't be used.\n",
      "  warnings.warn(warn_msg)\n",
      "/Users/amika/python-global/lib/python3.12/site-packages/torch/utils/data/dataloader.py:683: UserWarning: 'pin_memory' argument is set as true but not supported on MPS now, then device pinned memory won't be used.\n",
      "  warnings.warn(warn_msg)\n",
      "/Users/amika/python-global/lib/python3.12/site-packages/torch/utils/data/dataloader.py:683: UserWarning: 'pin_memory' argument is set as true but not supported on MPS now, then device pinned memory won't be used.\n",
      "  warnings.warn(warn_msg)\n",
      "/Users/amika/python-global/lib/python3.12/site-packages/torch/utils/data/dataloader.py:683: UserWarning: 'pin_memory' argument is set as true but not supported on MPS now, then device pinned memory won't be used.\n",
      "  warnings.warn(warn_msg)\n",
      "/Users/amika/python-global/lib/python3.12/site-packages/torch/utils/data/dataloader.py:683: UserWarning: 'pin_memory' argument is set as true but not supported on MPS now, then device pinned memory won't be used.\n",
      "  warnings.warn(warn_msg)\n",
      "/Users/amika/python-global/lib/python3.12/site-packages/torch/utils/data/dataloader.py:683: UserWarning: 'pin_memory' argument is set as true but not supported on MPS now, then device pinned memory won't be used.\n",
      "  warnings.warn(warn_msg)\n",
      "/Users/amika/python-global/lib/python3.12/site-packages/torch/utils/data/dataloader.py:683: UserWarning: 'pin_memory' argument is set as true but not supported on MPS now, then device pinned memory won't be used.\n",
      "  warnings.warn(warn_msg)\n",
      "/Users/amika/python-global/lib/python3.12/site-packages/torch/utils/data/dataloader.py:683: UserWarning: 'pin_memory' argument is set as true but not supported on MPS now, then device pinned memory won't be used.\n",
      "  warnings.warn(warn_msg)\n",
      "/Users/amika/python-global/lib/python3.12/site-packages/torch/utils/data/dataloader.py:683: UserWarning: 'pin_memory' argument is set as true but not supported on MPS now, then device pinned memory won't be used.\n",
      "  warnings.warn(warn_msg)\n",
      "/Users/amika/python-global/lib/python3.12/site-packages/torch/utils/data/dataloader.py:683: UserWarning: 'pin_memory' argument is set as true but not supported on MPS now, then device pinned memory won't be used.\n",
      "  warnings.warn(warn_msg)\n",
      "/Users/amika/python-global/lib/python3.12/site-packages/torch/utils/data/dataloader.py:683: UserWarning: 'pin_memory' argument is set as true but not supported on MPS now, then device pinned memory won't be used.\n",
      "  warnings.warn(warn_msg)\n",
      "/Users/amika/python-global/lib/python3.12/site-packages/torch/utils/data/dataloader.py:683: UserWarning: 'pin_memory' argument is set as true but not supported on MPS now, then device pinned memory won't be used.\n",
      "  warnings.warn(warn_msg)\n",
      "/Users/amika/python-global/lib/python3.12/site-packages/torch/utils/data/dataloader.py:683: UserWarning: 'pin_memory' argument is set as true but not supported on MPS now, then device pinned memory won't be used.\n",
      "  warnings.warn(warn_msg)\n",
      "/Users/amika/python-global/lib/python3.12/site-packages/torch/utils/data/dataloader.py:683: UserWarning: 'pin_memory' argument is set as true but not supported on MPS now, then device pinned memory won't be used.\n",
      "  warnings.warn(warn_msg)\n",
      "/Users/amika/python-global/lib/python3.12/site-packages/torch/utils/data/dataloader.py:683: UserWarning: 'pin_memory' argument is set as true but not supported on MPS now, then device pinned memory won't be used.\n",
      "  warnings.warn(warn_msg)\n",
      "/Users/amika/python-global/lib/python3.12/site-packages/torch/utils/data/dataloader.py:683: UserWarning: 'pin_memory' argument is set as true but not supported on MPS now, then device pinned memory won't be used.\n",
      "  warnings.warn(warn_msg)\n",
      "/Users/amika/python-global/lib/python3.12/site-packages/torch/utils/data/dataloader.py:683: UserWarning: 'pin_memory' argument is set as true but not supported on MPS now, then device pinned memory won't be used.\n",
      "  warnings.warn(warn_msg)\n",
      "/Users/amika/python-global/lib/python3.12/site-packages/torch/utils/data/dataloader.py:683: UserWarning: 'pin_memory' argument is set as true but not supported on MPS now, then device pinned memory won't be used.\n",
      "  warnings.warn(warn_msg)\n",
      "/Users/amika/python-global/lib/python3.12/site-packages/torch/utils/data/dataloader.py:683: UserWarning: 'pin_memory' argument is set as true but not supported on MPS now, then device pinned memory won't be used.\n",
      "  warnings.warn(warn_msg)\n",
      "/Users/amika/python-global/lib/python3.12/site-packages/torch/utils/data/dataloader.py:683: UserWarning: 'pin_memory' argument is set as true but not supported on MPS now, then device pinned memory won't be used.\n",
      "  warnings.warn(warn_msg)\n",
      "/Users/amika/python-global/lib/python3.12/site-packages/torch/utils/data/dataloader.py:683: UserWarning: 'pin_memory' argument is set as true but not supported on MPS now, then device pinned memory won't be used.\n",
      "  warnings.warn(warn_msg)\n",
      "/Users/amika/python-global/lib/python3.12/site-packages/torch/utils/data/dataloader.py:683: UserWarning: 'pin_memory' argument is set as true but not supported on MPS now, then device pinned memory won't be used.\n",
      "  warnings.warn(warn_msg)\n",
      "/Users/amika/python-global/lib/python3.12/site-packages/torch/utils/data/dataloader.py:683: UserWarning: 'pin_memory' argument is set as true but not supported on MPS now, then device pinned memory won't be used.\n",
      "  warnings.warn(warn_msg)\n",
      "/Users/amika/python-global/lib/python3.12/site-packages/torch/utils/data/dataloader.py:683: UserWarning: 'pin_memory' argument is set as true but not supported on MPS now, then device pinned memory won't be used.\n",
      "  warnings.warn(warn_msg)\n",
      "/Users/amika/python-global/lib/python3.12/site-packages/torch/utils/data/dataloader.py:683: UserWarning: 'pin_memory' argument is set as true but not supported on MPS now, then device pinned memory won't be used.\n",
      "  warnings.warn(warn_msg)\n",
      "/Users/amika/python-global/lib/python3.12/site-packages/torch/utils/data/dataloader.py:683: UserWarning: 'pin_memory' argument is set as true but not supported on MPS now, then device pinned memory won't be used.\n",
      "  warnings.warn(warn_msg)\n",
      "/Users/amika/python-global/lib/python3.12/site-packages/torch/utils/data/dataloader.py:683: UserWarning: 'pin_memory' argument is set as true but not supported on MPS now, then device pinned memory won't be used.\n",
      "  warnings.warn(warn_msg)\n",
      "/Users/amika/python-global/lib/python3.12/site-packages/torch/utils/data/dataloader.py:683: UserWarning: 'pin_memory' argument is set as true but not supported on MPS now, then device pinned memory won't be used.\n",
      "  warnings.warn(warn_msg)\n",
      "/Users/amika/python-global/lib/python3.12/site-packages/torch/utils/data/dataloader.py:683: UserWarning: 'pin_memory' argument is set as true but not supported on MPS now, then device pinned memory won't be used.\n",
      "  warnings.warn(warn_msg)\n",
      "/Users/amika/python-global/lib/python3.12/site-packages/torch/utils/data/dataloader.py:683: UserWarning: 'pin_memory' argument is set as true but not supported on MPS now, then device pinned memory won't be used.\n",
      "  warnings.warn(warn_msg)\n",
      "/Users/amika/python-global/lib/python3.12/site-packages/torch/utils/data/dataloader.py:683: UserWarning: 'pin_memory' argument is set as true but not supported on MPS now, then device pinned memory won't be used.\n",
      "  warnings.warn(warn_msg)\n",
      "/Users/amika/python-global/lib/python3.12/site-packages/torch/utils/data/dataloader.py:683: UserWarning: 'pin_memory' argument is set as true but not supported on MPS now, then device pinned memory won't be used.\n",
      "  warnings.warn(warn_msg)\n",
      "/Users/amika/python-global/lib/python3.12/site-packages/torch/utils/data/dataloader.py:683: UserWarning: 'pin_memory' argument is set as true but not supported on MPS now, then device pinned memory won't be used.\n",
      "  warnings.warn(warn_msg)\n",
      "/Users/amika/python-global/lib/python3.12/site-packages/torch/utils/data/dataloader.py:683: UserWarning: 'pin_memory' argument is set as true but not supported on MPS now, then device pinned memory won't be used.\n",
      "  warnings.warn(warn_msg)\n",
      "/Users/amika/python-global/lib/python3.12/site-packages/torch/utils/data/dataloader.py:683: UserWarning: 'pin_memory' argument is set as true but not supported on MPS now, then device pinned memory won't be used.\n",
      "  warnings.warn(warn_msg)\n",
      "/Users/amika/python-global/lib/python3.12/site-packages/torch/utils/data/dataloader.py:683: UserWarning: 'pin_memory' argument is set as true but not supported on MPS now, then device pinned memory won't be used.\n",
      "  warnings.warn(warn_msg)\n",
      "/Users/amika/python-global/lib/python3.12/site-packages/torch/utils/data/dataloader.py:683: UserWarning: 'pin_memory' argument is set as true but not supported on MPS now, then device pinned memory won't be used.\n",
      "  warnings.warn(warn_msg)\n",
      "/Users/amika/python-global/lib/python3.12/site-packages/torch/utils/data/dataloader.py:683: UserWarning: 'pin_memory' argument is set as true but not supported on MPS now, then device pinned memory won't be used.\n",
      "  warnings.warn(warn_msg)\n",
      "/Users/amika/python-global/lib/python3.12/site-packages/torch/utils/data/dataloader.py:683: UserWarning: 'pin_memory' argument is set as true but not supported on MPS now, then device pinned memory won't be used.\n",
      "  warnings.warn(warn_msg)\n",
      "/Users/amika/python-global/lib/python3.12/site-packages/torch/utils/data/dataloader.py:683: UserWarning: 'pin_memory' argument is set as true but not supported on MPS now, then device pinned memory won't be used.\n",
      "  warnings.warn(warn_msg)\n",
      "/Users/amika/python-global/lib/python3.12/site-packages/torch/utils/data/dataloader.py:683: UserWarning: 'pin_memory' argument is set as true but not supported on MPS now, then device pinned memory won't be used.\n",
      "  warnings.warn(warn_msg)\n",
      "/Users/amika/python-global/lib/python3.12/site-packages/torch/utils/data/dataloader.py:683: UserWarning: 'pin_memory' argument is set as true but not supported on MPS now, then device pinned memory won't be used.\n",
      "  warnings.warn(warn_msg)\n",
      "/Users/amika/python-global/lib/python3.12/site-packages/torch/utils/data/dataloader.py:683: UserWarning: 'pin_memory' argument is set as true but not supported on MPS now, then device pinned memory won't be used.\n",
      "  warnings.warn(warn_msg)\n",
      "/Users/amika/python-global/lib/python3.12/site-packages/torch/utils/data/dataloader.py:683: UserWarning: 'pin_memory' argument is set as true but not supported on MPS now, then device pinned memory won't be used.\n",
      "  warnings.warn(warn_msg)\n",
      "/Users/amika/python-global/lib/python3.12/site-packages/torch/utils/data/dataloader.py:683: UserWarning: 'pin_memory' argument is set as true but not supported on MPS now, then device pinned memory won't be used.\n",
      "  warnings.warn(warn_msg)\n",
      "/Users/amika/python-global/lib/python3.12/site-packages/torch/utils/data/dataloader.py:683: UserWarning: 'pin_memory' argument is set as true but not supported on MPS now, then device pinned memory won't be used.\n",
      "  warnings.warn(warn_msg)\n",
      "/Users/amika/python-global/lib/python3.12/site-packages/torch/utils/data/dataloader.py:683: UserWarning: 'pin_memory' argument is set as true but not supported on MPS now, then device pinned memory won't be used.\n",
      "  warnings.warn(warn_msg)\n",
      "/Users/amika/python-global/lib/python3.12/site-packages/torch/utils/data/dataloader.py:683: UserWarning: 'pin_memory' argument is set as true but not supported on MPS now, then device pinned memory won't be used.\n",
      "  warnings.warn(warn_msg)\n",
      "/Users/amika/python-global/lib/python3.12/site-packages/torch/utils/data/dataloader.py:683: UserWarning: 'pin_memory' argument is set as true but not supported on MPS now, then device pinned memory won't be used.\n",
      "  warnings.warn(warn_msg)\n",
      "/Users/amika/python-global/lib/python3.12/site-packages/torch/utils/data/dataloader.py:683: UserWarning: 'pin_memory' argument is set as true but not supported on MPS now, then device pinned memory won't be used.\n",
      "  warnings.warn(warn_msg)\n",
      "/Users/amika/python-global/lib/python3.12/site-packages/torch/utils/data/dataloader.py:683: UserWarning: 'pin_memory' argument is set as true but not supported on MPS now, then device pinned memory won't be used.\n",
      "  warnings.warn(warn_msg)\n",
      "/Users/amika/python-global/lib/python3.12/site-packages/torch/utils/data/dataloader.py:683: UserWarning: 'pin_memory' argument is set as true but not supported on MPS now, then device pinned memory won't be used.\n",
      "  warnings.warn(warn_msg)\n",
      "/Users/amika/python-global/lib/python3.12/site-packages/torch/utils/data/dataloader.py:683: UserWarning: 'pin_memory' argument is set as true but not supported on MPS now, then device pinned memory won't be used.\n",
      "  warnings.warn(warn_msg)\n",
      "/Users/amika/python-global/lib/python3.12/site-packages/torch/utils/data/dataloader.py:683: UserWarning: 'pin_memory' argument is set as true but not supported on MPS now, then device pinned memory won't be used.\n",
      "  warnings.warn(warn_msg)\n",
      "/Users/amika/python-global/lib/python3.12/site-packages/torch/utils/data/dataloader.py:683: UserWarning: 'pin_memory' argument is set as true but not supported on MPS now, then device pinned memory won't be used.\n",
      "  warnings.warn(warn_msg)\n",
      "/Users/amika/python-global/lib/python3.12/site-packages/torch/utils/data/dataloader.py:683: UserWarning: 'pin_memory' argument is set as true but not supported on MPS now, then device pinned memory won't be used.\n",
      "  warnings.warn(warn_msg)\n",
      "/Users/amika/python-global/lib/python3.12/site-packages/torch/utils/data/dataloader.py:683: UserWarning: 'pin_memory' argument is set as true but not supported on MPS now, then device pinned memory won't be used.\n",
      "  warnings.warn(warn_msg)\n",
      "/Users/amika/python-global/lib/python3.12/site-packages/torch/utils/data/dataloader.py:683: UserWarning: 'pin_memory' argument is set as true but not supported on MPS now, then device pinned memory won't be used.\n",
      "  warnings.warn(warn_msg)\n",
      "/Users/amika/python-global/lib/python3.12/site-packages/torch/utils/data/dataloader.py:683: UserWarning: 'pin_memory' argument is set as true but not supported on MPS now, then device pinned memory won't be used.\n",
      "  warnings.warn(warn_msg)\n",
      "/Users/amika/python-global/lib/python3.12/site-packages/torch/utils/data/dataloader.py:683: UserWarning: 'pin_memory' argument is set as true but not supported on MPS now, then device pinned memory won't be used.\n",
      "  warnings.warn(warn_msg)\n",
      "/Users/amika/python-global/lib/python3.12/site-packages/torch/utils/data/dataloader.py:683: UserWarning: 'pin_memory' argument is set as true but not supported on MPS now, then device pinned memory won't be used.\n",
      "  warnings.warn(warn_msg)\n",
      "/Users/amika/python-global/lib/python3.12/site-packages/torch/utils/data/dataloader.py:683: UserWarning: 'pin_memory' argument is set as true but not supported on MPS now, then device pinned memory won't be used.\n",
      "  warnings.warn(warn_msg)\n",
      "/Users/amika/python-global/lib/python3.12/site-packages/torch/utils/data/dataloader.py:683: UserWarning: 'pin_memory' argument is set as true but not supported on MPS now, then device pinned memory won't be used.\n",
      "  warnings.warn(warn_msg)\n",
      "/Users/amika/python-global/lib/python3.12/site-packages/torch/utils/data/dataloader.py:683: UserWarning: 'pin_memory' argument is set as true but not supported on MPS now, then device pinned memory won't be used.\n",
      "  warnings.warn(warn_msg)\n",
      "/Users/amika/python-global/lib/python3.12/site-packages/torch/utils/data/dataloader.py:683: UserWarning: 'pin_memory' argument is set as true but not supported on MPS now, then device pinned memory won't be used.\n",
      "  warnings.warn(warn_msg)\n",
      "/Users/amika/python-global/lib/python3.12/site-packages/torch/utils/data/dataloader.py:683: UserWarning: 'pin_memory' argument is set as true but not supported on MPS now, then device pinned memory won't be used.\n",
      "  warnings.warn(warn_msg)\n",
      "/Users/amika/python-global/lib/python3.12/site-packages/torch/utils/data/dataloader.py:683: UserWarning: 'pin_memory' argument is set as true but not supported on MPS now, then device pinned memory won't be used.\n",
      "  warnings.warn(warn_msg)\n",
      "/Users/amika/python-global/lib/python3.12/site-packages/torch/utils/data/dataloader.py:683: UserWarning: 'pin_memory' argument is set as true but not supported on MPS now, then device pinned memory won't be used.\n",
      "  warnings.warn(warn_msg)\n",
      "/Users/amika/python-global/lib/python3.12/site-packages/torch/utils/data/dataloader.py:683: UserWarning: 'pin_memory' argument is set as true but not supported on MPS now, then device pinned memory won't be used.\n",
      "  warnings.warn(warn_msg)\n",
      "/Users/amika/python-global/lib/python3.12/site-packages/torch/utils/data/dataloader.py:683: UserWarning: 'pin_memory' argument is set as true but not supported on MPS now, then device pinned memory won't be used.\n",
      "  warnings.warn(warn_msg)\n",
      "/Users/amika/python-global/lib/python3.12/site-packages/torch/utils/data/dataloader.py:683: UserWarning: 'pin_memory' argument is set as true but not supported on MPS now, then device pinned memory won't be used.\n",
      "  warnings.warn(warn_msg)\n",
      "/Users/amika/python-global/lib/python3.12/site-packages/torch/utils/data/dataloader.py:683: UserWarning: 'pin_memory' argument is set as true but not supported on MPS now, then device pinned memory won't be used.\n",
      "  warnings.warn(warn_msg)\n",
      "/Users/amika/python-global/lib/python3.12/site-packages/torch/utils/data/dataloader.py:683: UserWarning: 'pin_memory' argument is set as true but not supported on MPS now, then device pinned memory won't be used.\n",
      "  warnings.warn(warn_msg)\n",
      "/Users/amika/python-global/lib/python3.12/site-packages/peft/utils/other.py:1110: UserWarning: Unable to fetch remote file due to the following error (ReadTimeoutError(\"HTTPSConnectionPool(host='huggingface.co', port=443): Read timed out. (read timeout=10)\"), '(Request ID: f121b76e-de2a-48c5-9200-8e5ba4b54241)') - silently ignoring the lookup for the file config.json in gsarti/opus-mt-tc-en-pl.\n",
      "  warnings.warn(\n",
      "/Users/amika/python-global/lib/python3.12/site-packages/peft/utils/save_and_load.py:236: UserWarning: Could not find a config file in gsarti/opus-mt-tc-en-pl - will assume that the vocabulary was not modified.\n",
      "  warnings.warn(\n",
      "/Users/amika/python-global/lib/python3.12/site-packages/torch/utils/data/dataloader.py:683: UserWarning: 'pin_memory' argument is set as true but not supported on MPS now, then device pinned memory won't be used.\n",
      "  warnings.warn(warn_msg)\n",
      "/Users/amika/python-global/lib/python3.12/site-packages/torch/utils/data/dataloader.py:683: UserWarning: 'pin_memory' argument is set as true but not supported on MPS now, then device pinned memory won't be used.\n",
      "  warnings.warn(warn_msg)\n",
      "/Users/amika/python-global/lib/python3.12/site-packages/torch/utils/data/dataloader.py:683: UserWarning: 'pin_memory' argument is set as true but not supported on MPS now, then device pinned memory won't be used.\n",
      "  warnings.warn(warn_msg)\n",
      "/Users/amika/python-global/lib/python3.12/site-packages/torch/utils/data/dataloader.py:683: UserWarning: 'pin_memory' argument is set as true but not supported on MPS now, then device pinned memory won't be used.\n",
      "  warnings.warn(warn_msg)\n",
      "/Users/amika/python-global/lib/python3.12/site-packages/torch/utils/data/dataloader.py:683: UserWarning: 'pin_memory' argument is set as true but not supported on MPS now, then device pinned memory won't be used.\n",
      "  warnings.warn(warn_msg)\n"
     ]
    },
    {
     "data": {
      "text/plain": [
       "TrainOutput(global_step=43750, training_loss=1.8717772635323662, metrics={'train_runtime': 33265.9938, 'train_samples_per_second': 21.043, 'train_steps_per_second': 1.315, 'total_flos': 2.38874001408e+16, 'train_loss': 1.8717772635323662, 'epoch': 7.0})"
      ]
     },
     "execution_count": 29,
     "metadata": {},
     "output_type": "execute_result"
    }
   ],
   "execution_count": 29
  },
  {
   "metadata": {
    "ExecuteTime": {
     "end_time": "2025-06-03T10:15:30.239456Z",
     "start_time": "2025-06-03T10:15:30.237501Z"
    }
   },
   "cell_type": "code",
   "source": [
    "best_bleu_3 = trainer_3.state.best_metric\n",
    "print(f\"{exp_name_3} → BEST BLEU: {best_bleu_3:.2f}\")"
   ],
   "id": "a4156a4423f72eff",
   "outputs": [
    {
     "name": "stdout",
     "output_type": "stream",
     "text": [
      "gsarti_enpl_train100k_ep7_r8_len128 → BEST BLEU: 24.62\n"
     ]
    }
   ],
   "execution_count": 30
  },
  {
   "metadata": {
    "ExecuteTime": {
     "end_time": "2025-06-03T10:15:30.583471Z",
     "start_time": "2025-06-03T10:15:30.261796Z"
    }
   },
   "cell_type": "code",
   "source": [
    "adapter_dir_3 = os.path.join(output_dir_3, \"lora_adapter\")\n",
    "save_lora_adapter(model, adapter_dir_3)"
   ],
   "id": "b7bb8d1eaf936d6d",
   "outputs": [],
   "execution_count": 31
  },
  {
   "metadata": {},
   "cell_type": "markdown",
   "source": "### Podsumowanie wyników eksperymentów",
   "id": "5a13e550733a1071"
  },
  {
   "metadata": {
    "ExecuteTime": {
     "end_time": "2025-06-03T10:15:30.612500Z",
     "start_time": "2025-06-03T10:15:30.599569Z"
    }
   },
   "cell_type": "code",
   "source": [
    "import pandas as pd\n",
    "\n",
    "results_table = [\n",
    "    {\"experiment\": exp_name_1, \"BLEU\": best_bleu_1},\n",
    "    {\"experiment\": exp_name_2, \"BLEU\": best_bleu_2},\n",
    "    {\"experiment\": exp_name_3, \"BLEU\": best_bleu_3},\n",
    "]\n",
    "df_results = pd.DataFrame(results_table)\n",
    "df_results"
   ],
   "id": "6f28b460ea1779ab",
   "outputs": [
    {
     "data": {
      "text/plain": [
       "                            experiment       BLEU\n",
       "0   gsarti_enpl_train20k_ep3_r8_len128  24.563303\n",
       "1   gsarti_enpl_train20k_ep7_r8_len128  24.471471\n",
       "2  gsarti_enpl_train100k_ep7_r8_len128  24.616333"
      ],
      "text/html": [
       "<div>\n",
       "<style scoped>\n",
       "    .dataframe tbody tr th:only-of-type {\n",
       "        vertical-align: middle;\n",
       "    }\n",
       "\n",
       "    .dataframe tbody tr th {\n",
       "        vertical-align: top;\n",
       "    }\n",
       "\n",
       "    .dataframe thead th {\n",
       "        text-align: right;\n",
       "    }\n",
       "</style>\n",
       "<table border=\"1\" class=\"dataframe\">\n",
       "  <thead>\n",
       "    <tr style=\"text-align: right;\">\n",
       "      <th></th>\n",
       "      <th>experiment</th>\n",
       "      <th>BLEU</th>\n",
       "    </tr>\n",
       "  </thead>\n",
       "  <tbody>\n",
       "    <tr>\n",
       "      <th>0</th>\n",
       "      <td>gsarti_enpl_train20k_ep3_r8_len128</td>\n",
       "      <td>24.563303</td>\n",
       "    </tr>\n",
       "    <tr>\n",
       "      <th>1</th>\n",
       "      <td>gsarti_enpl_train20k_ep7_r8_len128</td>\n",
       "      <td>24.471471</td>\n",
       "    </tr>\n",
       "    <tr>\n",
       "      <th>2</th>\n",
       "      <td>gsarti_enpl_train100k_ep7_r8_len128</td>\n",
       "      <td>24.616333</td>\n",
       "    </tr>\n",
       "  </tbody>\n",
       "</table>\n",
       "</div>"
      ]
     },
     "execution_count": 32,
     "metadata": {},
     "output_type": "execute_result"
    }
   ],
   "execution_count": 32
  },
  {
   "metadata": {
    "ExecuteTime": {
     "end_time": "2025-06-03T10:15:30.907574Z",
     "start_time": "2025-06-03T10:15:30.690328Z"
    }
   },
   "cell_type": "code",
   "source": [
    "plt.figure(figsize=(8, 4))\n",
    "plt.bar(df_results[\"experiment\"], df_results[\"BLEU\"], color=\"skyblue\")\n",
    "plt.xticks(rotation=45, ha=\"right\")\n",
    "plt.ylabel(\"BLEU\")\n",
    "plt.title(\"Porównanie najlepszych BLEU dla poszczególnych eksperymentów\")\n",
    "plt.tight_layout()\n",
    "plt.show()"
   ],
   "id": "b4f6fb1060d1ec91",
   "outputs": [
    {
     "data": {
      "text/plain": [
       "<Figure size 800x400 with 1 Axes>"
      ],
      "image/png": "[encoded data removed]"
     },
     "metadata": {},
     "output_type": "display_data"
    }
   ],
   "execution_count": 33
  },
  {
   "metadata": {
    "ExecuteTime": {
     "end_time": "2025-06-03T10:15:30.981310Z",
     "start_time": "2025-06-03T10:15:30.965948Z"
    }
   },
   "cell_type": "code",
   "source": [
    "def extract_loss_history(trainer):\n",
    "    \"\"\"\n",
    "    Z obiektu Trainer wyciąga listę słowników 'log_history',\n",
    "    filtruje wpisy, które mają klucze 'loss' (trening) i 'eval_loss' (validation).\n",
    "    Zwraca dwa DataFrame'y: jeden z loss, drugi z eval_loss.\n",
    "    \"\"\"\n",
    "    history = trainer.state.log_history  # lista słowników\n",
    "\n",
    "    train_entries = [entry for entry in history if \"loss\" in entry and \"epoch\" in entry]\n",
    "\n",
    "    eval_entries = [entry for entry in history if \"eval_loss\" in entry]\n",
    "\n",
    "    df_train = pd.DataFrame(train_entries)[[\"step\", \"epoch\", \"loss\"]].dropna().reset_index(drop=True)\n",
    "    df_eval = pd.DataFrame(eval_entries)[[\"step\", \"epoch\", \"eval_loss\"]].dropna().reset_index(drop=True)\n",
    "    return df_train, df_eval\n",
    "\n",
    "\n",
    "train_hist_1, eval_hist_1 = extract_loss_history(trainer_1)\n",
    "train_hist_2, eval_hist_2 = extract_loss_history(trainer_2)\n",
    "train_hist_3, eval_hist_3 = extract_loss_history(trainer_3)"
   ],
   "id": "bf02526108427126",
   "outputs": [],
   "execution_count": 34
  },
  {
   "metadata": {
    "ExecuteTime": {
     "end_time": "2025-06-03T10:15:31.181760Z",
     "start_time": "2025-06-03T10:15:31.023926Z"
    }
   },
   "cell_type": "code",
   "source": [
    "plt.figure(figsize=(8, 5))\n",
    "plt.plot(train_hist_1[\"step\"], train_hist_1[\"loss\"], label=exp_name_1)\n",
    "plt.plot(train_hist_2[\"step\"], train_hist_2[\"loss\"], label=exp_name_2)\n",
    "plt.plot(train_hist_3[\"step\"], train_hist_3[\"loss\"], label=exp_name_3)\n",
    "plt.xlabel(\"Step\")\n",
    "plt.ylabel(\"Training Loss\")\n",
    "plt.title(\"Training Loss w zależności od kroku treningowego\")\n",
    "plt.legend()\n",
    "plt.tight_layout()\n",
    "plt.show()"
   ],
   "id": "5e2d72e91528e68a",
   "outputs": [
    {
     "data": {
      "text/plain": [
       "<Figure size 800x500 with 1 Axes>"
      ],
      "image/png": "[encoded data removed]"
     },
     "metadata": {},
     "output_type": "display_data"
    }
   ],
   "execution_count": 35
  },
  {
   "metadata": {
    "ExecuteTime": {
     "end_time": "2025-06-03T10:15:31.309408Z",
     "start_time": "2025-06-03T10:15:31.210791Z"
    }
   },
   "cell_type": "code",
   "source": [
    "plt.figure(figsize=(8, 5))\n",
    "plt.plot(eval_hist_1[\"step\"], eval_hist_1[\"eval_loss\"], marker=\"o\", linestyle=\"--\", label=exp_name_1)\n",
    "plt.plot(eval_hist_2[\"step\"], eval_hist_2[\"eval_loss\"], marker=\"o\", linestyle=\"--\", label=exp_name_2)\n",
    "plt.plot(eval_hist_3[\"step\"], eval_hist_3[\"eval_loss\"], marker=\"o\", linestyle=\"--\", label=exp_name_3)\n",
    "plt.xlabel(\"Step\")\n",
    "plt.ylabel(\"Validation Loss\")\n",
    "plt.title(\"Validation Loss w zależności od kroku ewaluacji\")\n",
    "plt.legend()\n",
    "plt.tight_layout()\n",
    "plt.show()"
   ],
   "id": "d590860c9cc3f810",
   "outputs": [
    {
     "data": {
      "text/plain": [
       "<Figure size 800x500 with 1 Axes>"
      ],
      "image/png": "[encoded data removed]"
     },
     "metadata": {},
     "output_type": "display_data"
    }
   ],
   "execution_count": 36
  },
  {
   "metadata": {
    "ExecuteTime": {
     "end_time": "2025-06-03T10:15:31.482299Z",
     "start_time": "2025-06-03T10:15:31.335810Z"
    }
   },
   "cell_type": "code",
   "source": [
    "plt.figure(figsize=(12, 4))\n",
    "\n",
    "plt.subplot(1, 3, 1)\n",
    "plt.plot(train_hist_1[\"step\"], train_hist_1[\"loss\"], label=\"train_loss\", color=\"tab:blue\")\n",
    "plt.plot(eval_hist_1[\"step\"], eval_hist_1[\"eval_loss\"], label=\"val_loss\", color=\"tab:orange\", linestyle=\"--\",\n",
    "         marker=\"o\")\n",
    "plt.title(exp_name_1)\n",
    "plt.xlabel(\"Step\")\n",
    "plt.ylabel(\"Loss\")\n",
    "plt.legend()\n",
    "\n",
    "plt.subplot(1, 3, 2)\n",
    "plt.plot(train_hist_2[\"step\"], train_hist_2[\"loss\"], label=\"train_loss\", color=\"tab:blue\")\n",
    "plt.plot(eval_hist_2[\"step\"], eval_hist_2[\"eval_loss\"], label=\"val_loss\", color=\"tab:orange\", linestyle=\"--\",\n",
    "         marker=\"o\")\n",
    "plt.title(exp_name_2)\n",
    "plt.xlabel(\"Step\")\n",
    "plt.legend()\n",
    "\n",
    "plt.subplot(1, 3, 3)\n",
    "plt.plot(train_hist_3[\"step\"], train_hist_3[\"loss\"], label=\"train_loss\", color=\"tab:blue\")\n",
    "plt.plot(eval_hist_3[\"step\"], eval_hist_3[\"eval_loss\"], label=\"val_loss\", color=\"tab:orange\", linestyle=\"--\",\n",
    "         marker=\"o\")\n",
    "plt.title(exp_name_3)\n",
    "plt.xlabel(\"Step\")\n",
    "plt.legend()\n",
    "\n",
    "plt.tight_layout()\n",
    "plt.show()"
   ],
   "id": "688728115ce80cd5",
   "outputs": [
    {
     "data": {
      "text/plain": [
       "<Figure size 1200x400 with 3 Axes>"
      ],
      "image/png": "[encoded data removed]"
     },
     "metadata": {},
     "output_type": "display_data"
    }
   ],
   "execution_count": 37
  },
  {
   "metadata": {},
   "cell_type": "markdown",
   "source": [
    "### Podsumowanie eksperymentów LoRA: tłumaczenie EN→PL (gsarti/opus-mt-tc-en-pl)\n",
    "\n",
    "Wykonaliśmy trzy główne eksperymenty z adapterem LoRA na modelu `gsarti/opus-mt-tc-en-pl`. Różniły się one przede wszystkim liczbą przykładów w zbiorze treningowym i liczbą epok. Wszystkie testy prowadzone były z:\n",
    "- **r = 8** (rząd adaptacji LoRA),\n",
    "- **max_length = 128** (maksymalna długość sekwencji),\n",
    "- **learning_rate = 3e-5**, **weight_decay = 0.01**.\n",
    "\n",
    "Poniżej lista trzech konfiguracji:\n",
    "1. **`gsarti_enpl_train20k_ep3_r8_len128`**\n",
    "   - Zbiór treningowy: 20 000 par zdaniowych EN–PL.\n",
    "   - Liczba epok: 3.\n",
    "\n",
    "2. **`gsarti_enpl_train20k_ep7_r8_len128`**\n",
    "   - Zbiór treningowy: 20 000 par zdaniowych EN–PL.\n",
    "   - Liczba epok: 7.\n",
    "\n",
    "3. **`gsarti_enpl_train100k_ep7_r8_len128`**\n",
    "   - Zbiór treningowy: 100 000 par zdaniowych EN–PL.\n",
    "   - Liczba epok: 7.\n",
    "\n",
    "#### 1. Najlepsze BLEU w każdym eksperymencie\n",
    "\n",
    "| Eksperyment                                | Najlepsze BLEU |\n",
    "|--------------------------------------------|----------------|\n",
    "| gsarti_enpl_train20k_ep3_r8_len128         | 24.56          |\n",
    "| gsarti_enpl_train20k_ep7_r8_len128         | 24.47          |\n",
    "| gsarti_enpl_train100k_ep7_r8_len128        | 24.62          |\n",
    "\n",
    "\n",
    "> **Wnioski**:\n",
    "> - Wszystkie trzy konfiguracje osiągają bardzo zbliżone wartości BLEU (około 24.5–24.6).\n",
    "> - Najlepsze, ale jedynie minimalnie wyższe BLEU (~24.62), uzyskał model trenujący na 100 000 przykładów przez 7 epok.\n",
    "> - Więcej epok na małym zbiorze (20 k, ep7) nie przełożyło się na wyraźną poprawę (BLEU ~24.47).\n",
    "\n",
    "#### 2. Charakteryzacja przebiegu treningu (Loss)\n",
    "\n",
    "Poniżej zestawiono krzywe „Training Loss” oraz „Validation Loss” w kolejnych krokach (stepach) dla wszystkich trzech eksperymentów.\n",
    "\n",
    "##### 2.1. Training Loss\n",
    "\n",
    "- Wszystkie trzy konfiguracje zaczynają z podobnie wysoką wartością straty (~5.7).\n",
    "- **`train20k_ep3`** i **`train20k_ep7`** bardzo szybko spadają straty w pierwszych kilkuset krokach (do ~2.1–2.0).\n",
    "- **`train100k_ep7`** ma nieco wolniejszy początkowy spadek (ze względu na większy zbiór), ale ostatecznie stabilizuje się na podobnym poziomie (~1.85–1.90) w dalszej części (około 20 000+ step).\n",
    "\n",
    "##### 2.2. Validation Loss\n",
    "\n",
    "- Pierwszy punkt walidacyjny: **~2.10** dla wszystkich konfiguracji.\n",
    "- **`train20k_ep3`** i **`train20k_ep7`** osiągają ~2.00–1.98 walidacyjnej straty po kilku tysiącach kroków.\n",
    "- **`train100k_ep7`** osiąga najniższą stratę walidacyjną (~1.85–1.88) pod koniec (~40 000 step).\n",
    "\n",
    "\n",
    "#### 3. Wnioski i rekomendacja\n",
    "\n",
    "1. **Pod względem BLEU** wszystkie trzy konfiguracje wypadają bardzo podobnie (około 24.5–24.6).\n",
    "2. **Większy zbiór (100 k)** w połączeniu z 7 epokami daje minimalnie wyższe BLEU (~24.62) oraz nieco niższą stratę walidacyjną (~1.85) niż wersje na 20 k.\n",
    "3. **3 epoki na 20 k** vs. **7 epok na 20 k**:\n",
    "   - Dodatkowe epoki (z 3 → 7) na tym samym, niewielkim zbiorze nie wnosiły istotnego wzrostu BLEU (wręcz minimalnie spadło do ~24.47).\n",
    "   - Strata walidacyjna w `train20k_ep7` nieznacznie spadała dalej (z ~2.00 do ~1.92), ale to nie przełożyło się znacząco na przełożenie do BLEU.\n",
    "   - Wskazuje to na **lekki efekt przeuczenia** w końcowych epokach, brak realnego zysku w jakości tłumaczenia."
   ],
   "id": "e30809c464bb5ad"
  }
 ],
 "metadata": {
  "kernelspec": {
   "display_name": "Python 3",
   "language": "python",
   "name": "python3"
  },
  "language_info": {
   "codemirror_mode": {
    "name": "ipython",
    "version": 2
   },
   "file_extension": ".py",
   "mimetype": "text/x-python",
   "name": "python",
   "nbconvert_exporter": "python",
   "pygments_lexer": "ipython2",
   "version": "2.7.6"
  }
 },
 "nbformat": 4,
 "nbformat_minor": 5
}
