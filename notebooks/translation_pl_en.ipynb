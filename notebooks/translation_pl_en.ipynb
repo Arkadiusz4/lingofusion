{
 "cells": [
  {
   "metadata": {},
   "cell_type": "markdown",
   "source": "# Fine-tuning modelu tłumaczenia PL→EN z wykorzystaniem LoRA",
   "id": "4c8f8c14dce51394"
  },
  {
   "metadata": {},
   "cell_type": "markdown",
   "source": [
    "W tym notebooku:\n",
    "1. Instalujemy potrzebne paczki\n",
    "2. Ładujemy dane (WMT16 PL–EN)\n",
    "3. Tworzymy tokenizer i model\n",
    "4. Konfigurujemy LoRA (PEFT)\n",
    "5. Przygotowujemy dane (tokenizacja)\n",
    "6. Definiujemy Trainer i trenujemy\n",
    "7. Zapisujemy model i testujemy inferencję"
   ],
   "id": "2487247f381dde5"
  },
  {
   "metadata": {},
   "cell_type": "markdown",
   "source": "#### 1. Instalacja pakietów",
   "id": "669bc54042e9c8d7"
  },
  {
   "cell_type": "code",
   "id": "initial_id",
   "metadata": {
    "collapsed": true,
    "ExecuteTime": {
     "end_time": "2025-05-30T10:25:16.099472Z",
     "start_time": "2025-05-30T10:25:15.439015Z"
    }
   },
   "source": "!pip install transformers datasets accelerate peft sacrebleu sentencepiece",
   "outputs": [
    {
     "name": "stdout",
     "output_type": "stream",
     "text": [
      "Requirement already satisfied: transformers in /Users/amika/python-global/lib/python3.12/site-packages (4.52.3)\r\n",
      "Requirement already satisfied: datasets in /Users/amika/python-global/lib/python3.12/site-packages (3.6.0)\r\n",
      "Requirement already satisfied: accelerate in /Users/amika/python-global/lib/python3.12/site-packages (1.7.0)\r\n",
      "Requirement already satisfied: peft in /Users/amika/python-global/lib/python3.12/site-packages (0.15.2)\r\n",
      "Requirement already satisfied: sacrebleu in /Users/amika/python-global/lib/python3.12/site-packages (2.5.1)\r\n",
      "Requirement already satisfied: sentencepiece in /Users/amika/python-global/lib/python3.12/site-packages (0.2.0)\r\n",
      "Requirement already satisfied: filelock in /Users/amika/python-global/lib/python3.12/site-packages (from transformers) (3.17.0)\r\n",
      "Requirement already satisfied: huggingface-hub<1.0,>=0.30.0 in /Users/amika/python-global/lib/python3.12/site-packages (from transformers) (0.31.2)\r\n",
      "Requirement already satisfied: numpy>=1.17 in /Users/amika/python-global/lib/python3.12/site-packages (from transformers) (1.26.4)\r\n",
      "Requirement already satisfied: packaging>=20.0 in /Users/amika/python-global/lib/python3.12/site-packages (from transformers) (24.2)\r\n",
      "Requirement already satisfied: pyyaml>=5.1 in /Users/amika/python-global/lib/python3.12/site-packages (from transformers) (6.0.2)\r\n",
      "Requirement already satisfied: regex!=2019.12.17 in /Users/amika/python-global/lib/python3.12/site-packages (from transformers) (2024.11.6)\r\n",
      "Requirement already satisfied: requests in /Users/amika/python-global/lib/python3.12/site-packages (from transformers) (2.32.3)\r\n",
      "Requirement already satisfied: tokenizers<0.22,>=0.21 in /Users/amika/python-global/lib/python3.12/site-packages (from transformers) (0.21.1)\r\n",
      "Requirement already satisfied: safetensors>=0.4.3 in /Users/amika/python-global/lib/python3.12/site-packages (from transformers) (0.5.3)\r\n",
      "Requirement already satisfied: tqdm>=4.27 in /Users/amika/python-global/lib/python3.12/site-packages (from transformers) (4.67.1)\r\n",
      "Requirement already satisfied: fsspec>=2023.5.0 in /Users/amika/python-global/lib/python3.12/site-packages (from huggingface-hub<1.0,>=0.30.0->transformers) (2025.2.0)\r\n",
      "Requirement already satisfied: typing-extensions>=3.7.4.3 in /Users/amika/python-global/lib/python3.12/site-packages (from huggingface-hub<1.0,>=0.30.0->transformers) (4.13.2)\r\n",
      "Requirement already satisfied: pyarrow>=15.0.0 in /Users/amika/python-global/lib/python3.12/site-packages (from datasets) (20.0.0)\r\n",
      "Requirement already satisfied: dill<0.3.9,>=0.3.0 in /Users/amika/python-global/lib/python3.12/site-packages (from datasets) (0.3.8)\r\n",
      "Requirement already satisfied: pandas in /Users/amika/python-global/lib/python3.12/site-packages (from datasets) (2.2.3)\r\n",
      "Requirement already satisfied: xxhash in /Users/amika/python-global/lib/python3.12/site-packages (from datasets) (3.5.0)\r\n",
      "Requirement already satisfied: multiprocess<0.70.17 in /Users/amika/python-global/lib/python3.12/site-packages (from datasets) (0.70.16)\r\n",
      "Requirement already satisfied: aiohttp!=4.0.0a0,!=4.0.0a1 in /Users/amika/python-global/lib/python3.12/site-packages (from fsspec[http]<=2025.3.0,>=2023.1.0->datasets) (3.11.18)\r\n",
      "Requirement already satisfied: psutil in /Users/amika/python-global/lib/python3.12/site-packages (from accelerate) (7.0.0)\r\n",
      "Requirement already satisfied: torch>=2.0.0 in /Users/amika/python-global/lib/python3.12/site-packages (from accelerate) (2.7.0)\r\n",
      "Requirement already satisfied: portalocker in /Users/amika/python-global/lib/python3.12/site-packages (from sacrebleu) (3.1.1)\r\n",
      "Requirement already satisfied: tabulate>=0.8.9 in /Users/amika/python-global/lib/python3.12/site-packages (from sacrebleu) (0.9.0)\r\n",
      "Requirement already satisfied: colorama in /Users/amika/python-global/lib/python3.12/site-packages (from sacrebleu) (0.4.6)\r\n",
      "Requirement already satisfied: lxml in /Users/amika/python-global/lib/python3.12/site-packages (from sacrebleu) (5.4.0)\r\n",
      "Requirement already satisfied: aiohappyeyeballs>=2.3.0 in /Users/amika/python-global/lib/python3.12/site-packages (from aiohttp!=4.0.0a0,!=4.0.0a1->fsspec[http]<=2025.3.0,>=2023.1.0->datasets) (2.6.1)\r\n",
      "Requirement already satisfied: aiosignal>=1.1.2 in /Users/amika/python-global/lib/python3.12/site-packages (from aiohttp!=4.0.0a0,!=4.0.0a1->fsspec[http]<=2025.3.0,>=2023.1.0->datasets) (1.3.2)\r\n",
      "Requirement already satisfied: attrs>=17.3.0 in /Users/amika/python-global/lib/python3.12/site-packages (from aiohttp!=4.0.0a0,!=4.0.0a1->fsspec[http]<=2025.3.0,>=2023.1.0->datasets) (25.1.0)\r\n",
      "Requirement already satisfied: frozenlist>=1.1.1 in /Users/amika/python-global/lib/python3.12/site-packages (from aiohttp!=4.0.0a0,!=4.0.0a1->fsspec[http]<=2025.3.0,>=2023.1.0->datasets) (1.6.0)\r\n",
      "Requirement already satisfied: multidict<7.0,>=4.5 in /Users/amika/python-global/lib/python3.12/site-packages (from aiohttp!=4.0.0a0,!=4.0.0a1->fsspec[http]<=2025.3.0,>=2023.1.0->datasets) (6.4.3)\r\n",
      "Requirement already satisfied: propcache>=0.2.0 in /Users/amika/python-global/lib/python3.12/site-packages (from aiohttp!=4.0.0a0,!=4.0.0a1->fsspec[http]<=2025.3.0,>=2023.1.0->datasets) (0.3.1)\r\n",
      "Requirement already satisfied: yarl<2.0,>=1.17.0 in /Users/amika/python-global/lib/python3.12/site-packages (from aiohttp!=4.0.0a0,!=4.0.0a1->fsspec[http]<=2025.3.0,>=2023.1.0->datasets) (1.20.0)\r\n",
      "Requirement already satisfied: idna>=2.0 in /Users/amika/python-global/lib/python3.12/site-packages (from yarl<2.0,>=1.17.0->aiohttp!=4.0.0a0,!=4.0.0a1->fsspec[http]<=2025.3.0,>=2023.1.0->datasets) (3.10)\r\n",
      "Requirement already satisfied: charset-normalizer<4,>=2 in /Users/amika/python-global/lib/python3.12/site-packages (from requests->transformers) (3.4.1)\r\n",
      "Requirement already satisfied: urllib3<3,>=1.21.1 in /Users/amika/python-global/lib/python3.12/site-packages (from requests->transformers) (2.4.0)\r\n",
      "Requirement already satisfied: certifi>=2017.4.17 in /Users/amika/python-global/lib/python3.12/site-packages (from requests->transformers) (2025.1.31)\r\n",
      "Requirement already satisfied: setuptools in /Users/amika/python-global/lib/python3.12/site-packages (from torch>=2.0.0->accelerate) (75.8.2)\r\n",
      "Requirement already satisfied: sympy>=1.13.3 in /Users/amika/python-global/lib/python3.12/site-packages (from torch>=2.0.0->accelerate) (1.14.0)\r\n",
      "Requirement already satisfied: networkx in /Users/amika/python-global/lib/python3.12/site-packages (from torch>=2.0.0->accelerate) (3.4.2)\r\n",
      "Requirement already satisfied: jinja2 in /Users/amika/python-global/lib/python3.12/site-packages (from torch>=2.0.0->accelerate) (3.1.5)\r\n",
      "Requirement already satisfied: mpmath<1.4,>=1.1.0 in /Users/amika/python-global/lib/python3.12/site-packages (from sympy>=1.13.3->torch>=2.0.0->accelerate) (1.3.0)\r\n",
      "Requirement already satisfied: MarkupSafe>=2.0 in /Users/amika/python-global/lib/python3.12/site-packages (from jinja2->torch>=2.0.0->accelerate) (3.0.2)\r\n",
      "Requirement already satisfied: python-dateutil>=2.8.2 in /Users/amika/python-global/lib/python3.12/site-packages (from pandas->datasets) (2.9.0.post0)\r\n",
      "Requirement already satisfied: pytz>=2020.1 in /Users/amika/python-global/lib/python3.12/site-packages (from pandas->datasets) (2025.1)\r\n",
      "Requirement already satisfied: tzdata>=2022.7 in /Users/amika/python-global/lib/python3.12/site-packages (from pandas->datasets) (2025.1)\r\n",
      "Requirement already satisfied: six>=1.5 in /Users/amika/python-global/lib/python3.12/site-packages (from python-dateutil>=2.8.2->pandas->datasets) (1.17.0)\r\n"
     ]
    }
   ],
   "execution_count": 1
  },
  {
   "metadata": {},
   "cell_type": "markdown",
   "source": "#### 2. Importy i ustawienia globalne",
   "id": "f2d12d5c515b266b"
  },
  {
   "metadata": {
    "ExecuteTime": {
     "end_time": "2025-05-30T10:25:25.510145Z",
     "start_time": "2025-05-30T10:25:17.915183Z"
    }
   },
   "cell_type": "code",
   "source": [
    "import os\n",
    "import time\n",
    "from datasets import load_dataset\n",
    "from transformers import (\n",
    "    AutoTokenizer, AutoModelForSeq2SeqLM,\n",
    "    Seq2SeqTrainingArguments, Seq2SeqTrainer,\n",
    "    DataCollatorForSeq2Seq, pipeline\n",
    ")\n",
    "from peft import LoraConfig, get_peft_model\n",
    "import sacrebleu\n",
    "\n",
    "OUTPUT_DIR = \"mt-pl-en-lora\""
   ],
   "id": "d57edb81cde63cb3",
   "outputs": [
    {
     "name": "stderr",
     "output_type": "stream",
     "text": [
      "/Users/amika/python-global/lib/python3.12/site-packages/tqdm/auto.py:21: TqdmWarning: IProgress not found. Please update jupyter and ipywidgets. See https://ipywidgets.readthedocs.io/en/stable/user_install.html\n",
      "  from .autonotebook import tqdm as notebook_tqdm\n"
     ]
    }
   ],
   "execution_count": 2
  },
  {
   "metadata": {
    "ExecuteTime": {
     "end_time": "2025-05-30T10:25:30.337215Z",
     "start_time": "2025-05-30T10:25:25.518600Z"
    }
   },
   "cell_type": "code",
   "source": [
    "from datasets import get_dataset_config_names\n",
    "\n",
    "print(get_dataset_config_names(\"opus100\"))"
   ],
   "id": "dae7ac629d5c1d77",
   "outputs": [
    {
     "name": "stdout",
     "output_type": "stream",
     "text": [
      "['af-en', 'am-en', 'an-en', 'ar-de', 'ar-en', 'ar-fr', 'ar-nl', 'ar-ru', 'ar-zh', 'as-en', 'az-en', 'be-en', 'bg-en', 'bn-en', 'br-en', 'bs-en', 'ca-en', 'cs-en', 'cy-en', 'da-en', 'de-en', 'de-fr', 'de-nl', 'de-ru', 'de-zh', 'dz-en', 'el-en', 'en-eo', 'en-es', 'en-et', 'en-eu', 'en-fa', 'en-fi', 'en-fr', 'en-fy', 'en-ga', 'en-gd', 'en-gl', 'en-gu', 'en-ha', 'en-he', 'en-hi', 'en-hr', 'en-hu', 'en-hy', 'en-id', 'en-ig', 'en-is', 'en-it', 'en-ja', 'en-ka', 'en-kk', 'en-km', 'en-kn', 'en-ko', 'en-ku', 'en-ky', 'en-li', 'en-lt', 'en-lv', 'en-mg', 'en-mk', 'en-ml', 'en-mn', 'en-mr', 'en-ms', 'en-mt', 'en-my', 'en-nb', 'en-ne', 'en-nl', 'en-nn', 'en-no', 'en-oc', 'en-or', 'en-pa', 'en-pl', 'en-ps', 'en-pt', 'en-ro', 'en-ru', 'en-rw', 'en-se', 'en-sh', 'en-si', 'en-sk', 'en-sl', 'en-sq', 'en-sr', 'en-sv', 'en-ta', 'en-te', 'en-tg', 'en-th', 'en-tk', 'en-tr', 'en-tt', 'en-ug', 'en-uk', 'en-ur', 'en-uz', 'en-vi', 'en-wa', 'en-xh', 'en-yi', 'en-yo', 'en-zh', 'en-zu', 'fr-nl', 'fr-ru', 'fr-zh', 'nl-ru', 'nl-zh', 'ru-zh']\n"
     ]
    }
   ],
   "execution_count": 3
  },
  {
   "metadata": {},
   "cell_type": "markdown",
   "source": "#### 3. Ładowanie danych (subset OPUS100 en-pl)",
   "id": "6d4a7a00999c40a0"
  },
  {
   "metadata": {
    "ExecuteTime": {
     "end_time": "2025-05-30T10:25:34.469199Z",
     "start_time": "2025-05-30T10:25:30.348215Z"
    }
   },
   "cell_type": "code",
   "source": [
    "from datasets import load_dataset\n",
    "\n",
    "raw = load_dataset(\"opus100\", \"en-pl\")\n",
    "\n",
    "train_raw = raw[\"train\"].shuffle(seed=42).select(range(20000))\n",
    "val_raw = raw[\"validation\"].shuffle(seed=42).select(range(2000))\n",
    "\n",
    "print(f\"Train samples: {len(train_raw)}, Validation samples: {len(val_raw)}\")\n",
    "print(train_raw[0][\"translation\"])"
   ],
   "id": "14832487a1384d59",
   "outputs": [
    {
     "name": "stdout",
     "output_type": "stream",
     "text": [
      "Train samples: 20000, Validation samples: 2000\n",
      "{'en': \"I'm sure you do.\", 'pl': 'Zapewne tak.'}\n"
     ]
    }
   ],
   "execution_count": 4
  },
  {
   "metadata": {},
   "cell_type": "markdown",
   "source": "#### 4. Tokenizer i bazowy model",
   "id": "dcb120a85ee8edc4"
  },
  {
   "metadata": {
    "ExecuteTime": {
     "end_time": "2025-05-30T10:25:37.302022Z",
     "start_time": "2025-05-30T10:25:34.491086Z"
    }
   },
   "cell_type": "code",
   "source": [
    "MODEL_ID = \"Helsinki-NLP/opus-mt-pl-en\"\n",
    "tokenizer = AutoTokenizer.from_pretrained(MODEL_ID)\n",
    "base_model = AutoModelForSeq2SeqLM.from_pretrained(MODEL_ID)\n",
    "\n",
    "translator = pipeline(\"translation\", model=base_model, tokenizer=tokenizer)\n",
    "print(\"Przykład:\", translator(\"To jest test zdania.\"))"
   ],
   "id": "6bb3703c5f6e3cde",
   "outputs": [
    {
     "name": "stderr",
     "output_type": "stream",
     "text": [
      "Device set to use mps:0\n"
     ]
    },
    {
     "name": "stdout",
     "output_type": "stream",
     "text": [
      "Przykład: [{'translation_text': 'This is a sentence test.'}]\n"
     ]
    }
   ],
   "execution_count": 5
  },
  {
   "metadata": {},
   "cell_type": "markdown",
   "source": "#### 5. Konfiguracja LoRA (PEFT)",
   "id": "97d04bce5504d571"
  },
  {
   "metadata": {
    "ExecuteTime": {
     "end_time": "2025-05-30T10:29:06.046003Z",
     "start_time": "2025-05-30T10:29:06.019339Z"
    }
   },
   "cell_type": "code",
   "source": [
    "lora_config = LoraConfig(\n",
    "    r=8,\n",
    "    lora_alpha=32,\n",
    "    target_modules=[\"q_proj\", \"v_proj\"],\n",
    "    lora_dropout=0.05,\n",
    "    bias=\"none\",\n",
    "    task_type=\"SEQ_2_SEQ_LM\"\n",
    ")\n",
    "model = get_peft_model(base_model, lora_config)\n",
    "\n",
    "adapter = model.active_adapter\n",
    "conf = model.peft_config[adapter]\n",
    "print(\"Aktywny adapter:\", adapter)\n",
    "print(\"Target modules:\", conf.target_modules)"
   ],
   "id": "5ae9ee5d18b0eef1",
   "outputs": [
    {
     "name": "stdout",
     "output_type": "stream",
     "text": [
      "Aktywny adapter: default\n",
      "Target modules: {'q_proj', 'v_proj'}\n"
     ]
    },
    {
     "name": "stderr",
     "output_type": "stream",
     "text": [
      "/Users/amika/python-global/lib/python3.12/site-packages/peft/mapping_func.py:73: UserWarning: You are trying to modify a model with PEFT for a second time. If you want to reload the model with a different config, make sure to call `.unload()` before.\n",
      "  warnings.warn(\n",
      "/Users/amika/python-global/lib/python3.12/site-packages/peft/tuners/tuners_utils.py:167: UserWarning: Already found a `peft_config` attribute in the model. This will lead to having multiple adapters in the model. Make sure to know what you are doing!\n",
      "  warnings.warn(\n"
     ]
    }
   ],
   "execution_count": 7
  },
  {
   "metadata": {},
   "cell_type": "markdown",
   "source": "#### 6. Funkcja preprocessująca i tokenizacja",
   "id": "534b054f9330bef3"
  },
  {
   "metadata": {
    "ExecuteTime": {
     "end_time": "2025-05-30T10:36:28.540275Z",
     "start_time": "2025-05-30T10:36:25.862347Z"
    }
   },
   "cell_type": "code",
   "source": [
    "max_len = 128\n",
    "\n",
    "\n",
    "def preprocess(batch):\n",
    "    src_texts = [t[\"pl\"] for t in batch[\"translation\"]]\n",
    "    tgt_texts = [t[\"en\"] for t in batch[\"translation\"]]\n",
    "\n",
    "    model_inputs = tokenizer(\n",
    "        src_texts,\n",
    "        truncation=True,\n",
    "        padding=\"max_length\",\n",
    "        max_length=max_len\n",
    "    )\n",
    "\n",
    "    with tokenizer.as_target_tokenizer():\n",
    "        labels = tokenizer(\n",
    "            tgt_texts,\n",
    "            truncation=True,\n",
    "            padding=\"max_length\",\n",
    "            max_length=max_len\n",
    "        ).input_ids\n",
    "\n",
    "    model_inputs[\"labels\"] = labels\n",
    "    return model_inputs\n",
    "\n",
    "\n",
    "train_ds = train_raw.map(\n",
    "    preprocess,\n",
    "    batched=True,\n",
    "    remove_columns=train_raw.column_names\n",
    ")\n",
    "val_ds = val_raw.map(\n",
    "    preprocess,\n",
    "    batched=True,\n",
    "    remove_columns=val_raw.column_names\n",
    ")\n",
    "\n",
    "print(train_ds)"
   ],
   "id": "de92dad4dbc13024",
   "outputs": [
    {
     "name": "stderr",
     "output_type": "stream",
     "text": [
      "Map:   0%|          | 0/20000 [00:00<?, ? examples/s]/Users/amika/python-global/lib/python3.12/site-packages/transformers/tokenization_utils_base.py:3959: UserWarning: `as_target_tokenizer` is deprecated and will be removed in v5 of Transformers. You can tokenize your labels by using the argument `text_target` of the regular `__call__` method (either in the same call as your input texts if you use the same keyword arguments, or in a separate call.\n",
      "  warnings.warn(\n",
      "Map: 100%|██████████| 20000/20000 [00:02<00:00, 9828.54 examples/s] \n",
      "Map: 100%|██████████| 2000/2000 [00:00<00:00, 9983.53 examples/s] "
     ]
    },
    {
     "name": "stdout",
     "output_type": "stream",
     "text": [
      "Dataset({\n",
      "    features: ['input_ids', 'attention_mask', 'labels'],\n",
      "    num_rows: 20000\n",
      "})\n"
     ]
    },
    {
     "name": "stderr",
     "output_type": "stream",
     "text": [
      "\n"
     ]
    }
   ],
   "execution_count": 9
  },
  {
   "metadata": {},
   "cell_type": "markdown",
   "source": "#### 7. DataCollator i metryki (BLEU)",
   "id": "b558916066a4cb1f"
  },
  {
   "metadata": {
    "ExecuteTime": {
     "end_time": "2025-05-30T10:36:57.125761Z",
     "start_time": "2025-05-30T10:36:57.122004Z"
    }
   },
   "cell_type": "code",
   "source": [
    "data_collator = DataCollatorForSeq2Seq(tokenizer, model=model)\n",
    "\n",
    "\n",
    "def compute_metrics(eval_pred):\n",
    "    preds, labels = eval_pred\n",
    "    decoded_preds = tokenizer.batch_decode(preds, skip_special_tokens=True)\n",
    "    decoded_labels = tokenizer.batch_decode(labels, skip_special_tokens=True)\n",
    "    bleu = sacrebleu.corpus_bleu(decoded_preds, [decoded_labels])\n",
    "    return {\"bleu\": bleu.score}"
   ],
   "id": "8aa620c2057f607",
   "outputs": [],
   "execution_count": 10
  },
  {
   "metadata": {
    "ExecuteTime": {
     "end_time": "2025-05-30T10:55:04.835767Z",
     "start_time": "2025-05-30T10:55:04.831593Z"
    }
   },
   "cell_type": "code",
   "source": [
    "training_args = Seq2SeqTrainingArguments(\n",
    "    output_dir=OUTPUT_DIR,\n",
    "    per_device_train_batch_size=16,\n",
    "    per_device_eval_batch_size=16,\n",
    "    predict_with_generate=True,\n",
    "    eval_strategy=\"steps\",\n",
    "    eval_steps=500,\n",
    "    save_strategy=\"steps\",\n",
    "    save_steps=500,\n",
    "    logging_steps=100,\n",
    "    num_train_epochs=3,\n",
    "    fp16=False,\n",
    "    load_best_model_at_end=True,\n",
    "    metric_for_best_model=\"bleu\",\n",
    "    greater_is_better=True,\n",
    ")"
   ],
   "id": "da6349cb262f7c2",
   "outputs": [],
   "execution_count": 16
  },
  {
   "metadata": {},
   "cell_type": "markdown",
   "source": "#### 9. Inicjalizacja i uruchomienie Trainer",
   "id": "4b75023b0497ea4b"
  },
  {
   "metadata": {
    "ExecuteTime": {
     "end_time": "2025-05-30T17:47:09.691575Z",
     "start_time": "2025-05-30T10:55:07.398007Z"
    }
   },
   "cell_type": "code",
   "source": [
    "trainer = Seq2SeqTrainer(\n",
    "    model=model,\n",
    "    args=training_args,\n",
    "    train_dataset=train_ds,\n",
    "    eval_dataset=val_ds,\n",
    "    tokenizer=tokenizer,\n",
    "    data_collator=data_collator,\n",
    "    compute_metrics=compute_metrics\n",
    ")\n",
    "\n",
    "trainer.train()"
   ],
   "id": "f7c93527921e4ced",
   "outputs": [
    {
     "name": "stderr",
     "output_type": "stream",
     "text": [
      "/var/folders/z_/dq8r0xg94mxfzfpr1jmhv_740000gn/T/ipykernel_21716/74575465.py:5: FutureWarning: `tokenizer` is deprecated and will be removed in version 5.0.0 for `Seq2SeqTrainer.__init__`. Use `processing_class` instead.\n",
      "  trainer = Seq2SeqTrainer(\n",
      "No label_names provided for model class `PeftModelForSeq2SeqLM`. Since `PeftModel` hides base models input arguments, if label_names is not given, label_names can't be set automatically within `Trainer`. Note that empty label_names list will be used instead.\n",
      "/Users/amika/python-global/lib/python3.12/site-packages/torch/utils/data/dataloader.py:683: UserWarning: 'pin_memory' argument is set as true but not supported on MPS now, then device pinned memory won't be used.\n",
      "  warnings.warn(warn_msg)\n"
     ]
    },
    {
     "data": {
      "text/plain": [
       "<IPython.core.display.HTML object>"
      ],
      "text/html": [
       "\n",
       "    <div>\n",
       "      \n",
       "      <progress value='3750' max='3750' style='width:300px; height:20px; vertical-align: middle;'></progress>\n",
       "      [3750/3750 6:52:01, Epoch 3/3]\n",
       "    </div>\n",
       "    <table border=\"1\" class=\"dataframe\">\n",
       "  <thead>\n",
       " <tr style=\"text-align: left;\">\n",
       "      <th>Step</th>\n",
       "      <th>Training Loss</th>\n",
       "      <th>Validation Loss</th>\n",
       "      <th>Bleu</th>\n",
       "    </tr>\n",
       "  </thead>\n",
       "  <tbody>\n",
       "    <tr>\n",
       "      <td>500</td>\n",
       "      <td>0.160400</td>\n",
       "      <td>0.196286</td>\n",
       "      <td>8.534518</td>\n",
       "    </tr>\n",
       "    <tr>\n",
       "      <td>1000</td>\n",
       "      <td>0.157200</td>\n",
       "      <td>0.194469</td>\n",
       "      <td>10.207711</td>\n",
       "    </tr>\n",
       "    <tr>\n",
       "      <td>1500</td>\n",
       "      <td>0.163000</td>\n",
       "      <td>0.193122</td>\n",
       "      <td>12.053509</td>\n",
       "    </tr>\n",
       "    <tr>\n",
       "      <td>2000</td>\n",
       "      <td>0.159600</td>\n",
       "      <td>0.192120</td>\n",
       "      <td>11.912978</td>\n",
       "    </tr>\n",
       "    <tr>\n",
       "      <td>2500</td>\n",
       "      <td>0.151100</td>\n",
       "      <td>0.191361</td>\n",
       "      <td>13.503544</td>\n",
       "    </tr>\n",
       "    <tr>\n",
       "      <td>3000</td>\n",
       "      <td>0.160900</td>\n",
       "      <td>0.190978</td>\n",
       "      <td>14.262612</td>\n",
       "    </tr>\n",
       "    <tr>\n",
       "      <td>3500</td>\n",
       "      <td>0.158000</td>\n",
       "      <td>0.190830</td>\n",
       "      <td>14.289325</td>\n",
       "    </tr>\n",
       "  </tbody>\n",
       "</table><p>"
      ]
     },
     "metadata": {},
     "output_type": "display_data"
    },
    {
     "name": "stderr",
     "output_type": "stream",
     "text": [
      "/Users/amika/python-global/lib/python3.12/site-packages/torch/utils/data/dataloader.py:683: UserWarning: 'pin_memory' argument is set as true but not supported on MPS now, then device pinned memory won't be used.\n",
      "  warnings.warn(warn_msg)\n",
      "/Users/amika/python-global/lib/python3.12/site-packages/torch/utils/data/dataloader.py:683: UserWarning: 'pin_memory' argument is set as true but not supported on MPS now, then device pinned memory won't be used.\n",
      "  warnings.warn(warn_msg)\n",
      "/Users/amika/python-global/lib/python3.12/site-packages/torch/utils/data/dataloader.py:683: UserWarning: 'pin_memory' argument is set as true but not supported on MPS now, then device pinned memory won't be used.\n",
      "  warnings.warn(warn_msg)\n",
      "/Users/amika/python-global/lib/python3.12/site-packages/peft/utils/other.py:1110: UserWarning: Unable to fetch remote file due to the following error (ReadTimeoutError(\"HTTPSConnectionPool(host='huggingface.co', port=443): Read timed out. (read timeout=10)\"), '(Request ID: a692e804-978d-4589-b3af-4df49fb29122)') - silently ignoring the lookup for the file config.json in Helsinki-NLP/opus-mt-pl-en.\n",
      "  warnings.warn(\n",
      "/Users/amika/python-global/lib/python3.12/site-packages/peft/utils/save_and_load.py:236: UserWarning: Could not find a config file in Helsinki-NLP/opus-mt-pl-en - will assume that the vocabulary was not modified.\n",
      "  warnings.warn(\n",
      "/Users/amika/python-global/lib/python3.12/site-packages/torch/utils/data/dataloader.py:683: UserWarning: 'pin_memory' argument is set as true but not supported on MPS now, then device pinned memory won't be used.\n",
      "  warnings.warn(warn_msg)\n",
      "/Users/amika/python-global/lib/python3.12/site-packages/torch/utils/data/dataloader.py:683: UserWarning: 'pin_memory' argument is set as true but not supported on MPS now, then device pinned memory won't be used.\n",
      "  warnings.warn(warn_msg)\n",
      "/Users/amika/python-global/lib/python3.12/site-packages/torch/utils/data/dataloader.py:683: UserWarning: 'pin_memory' argument is set as true but not supported on MPS now, then device pinned memory won't be used.\n",
      "  warnings.warn(warn_msg)\n"
     ]
    },
    {
     "data": {
      "text/plain": [
       "TrainOutput(global_step=3750, training_loss=0.2754562779744466, metrics={'train_runtime': 24722.0576, 'train_samples_per_second': 2.427, 'train_steps_per_second': 0.152, 'total_flos': 2047491440640000.0, 'train_loss': 0.2754562779744466, 'epoch': 3.0})"
      ]
     },
     "execution_count": 17,
     "metadata": {},
     "output_type": "execute_result"
    }
   ],
   "execution_count": 17
  },
  {
   "metadata": {},
   "cell_type": "markdown",
   "source": "#### 10. Zapis finalnego modelu",
   "id": "68c8f94292964e80"
  },
  {
   "metadata": {
    "ExecuteTime": {
     "end_time": "2025-05-30T19:34:23.577978Z",
     "start_time": "2025-05-30T19:34:23.142617Z"
    }
   },
   "cell_type": "code",
   "source": [
    "model.save_pretrained(os.path.join(OUTPUT_DIR, \"lora\"))\n",
    "tokenizer.save_pretrained(os.path.join(OUTPUT_DIR, \"lora\"))"
   ],
   "id": "236b661e5a2d6151",
   "outputs": [
    {
     "data": {
      "text/plain": [
       "('mt-pl-en-lora/lora/tokenizer_config.json',\n",
       " 'mt-pl-en-lora/lora/special_tokens_map.json',\n",
       " 'mt-pl-en-lora/lora/vocab.json',\n",
       " 'mt-pl-en-lora/lora/source.spm',\n",
       " 'mt-pl-en-lora/lora/target.spm',\n",
       " 'mt-pl-en-lora/lora/added_tokens.json')"
      ]
     },
     "execution_count": 18,
     "metadata": {},
     "output_type": "execute_result"
    }
   ],
   "execution_count": 18
  },
  {
   "metadata": {},
   "cell_type": "markdown",
   "source": "#### 11. Test inferencji na zapisanym modelu",
   "id": "d85cffa5d9bc6692"
  },
  {
   "metadata": {
    "ExecuteTime": {
     "end_time": "2025-05-30T19:34:28.364353Z",
     "start_time": "2025-05-30T19:34:26.343469Z"
    }
   },
   "cell_type": "code",
   "source": [
    "from transformers import pipeline as _pipe\n",
    "\n",
    "pipe = _pipe(\"translation\", model=os.path.join(OUTPUT_DIR, \"lora\"), tokenizer=tokenizer)\n",
    "print(pipe(\"Dzień dobry, to jest przykład testowy.\"))"
   ],
   "id": "e0a92feb9b084347",
   "outputs": [
    {
     "name": "stderr",
     "output_type": "stream",
     "text": [
      "Device set to use mps:0\n"
     ]
    },
    {
     "name": "stdout",
     "output_type": "stream",
     "text": [
      "[{'translation_text': 'Good morning, this is a test example.'}]\n"
     ]
    }
   ],
   "execution_count": 19
  },
  {
   "metadata": {
    "ExecuteTime": {
     "end_time": "2025-05-30T21:03:02.700613Z",
     "start_time": "2025-05-30T21:02:53.855073Z"
    }
   },
   "cell_type": "code",
   "source": [
    "test_sentences = [\n",
    "    \"To jest test.\",\n",
    "    \"Lubię jabłka.\",\n",
    "    \"On poszedł do sklepu, ale zapomniał portfela.\",\n",
    "    \"Jeżeli pada deszcz, weź parasol.\",\n",
    "    \"Warszawa jest stolicą Polski i największym miastem kraju.\",\n",
    "    \"Pomimo że spóźniliśmy się na pociąg, udało nam się złapać następny.\",\n",
    "    \"Chociaż programista był zmęczony, kontynuował pracę nad projektem, aby dotrzymać terminu.\",\n",
    "    \"Przyczyną awarii systemu była niezgodność wersji oprogramowania oraz niewłaściwe ustawienie parametrów.\",\n",
    "    \"W obliczu nieuchronnej katastrofy, ludzie musieli szybko podjąć decyzję o ewakuacji.\",\n",
    "    \"Ten złożony algorytm optymalizacyjny wykorzystuje gradienty skokowe i heurystyki, aby znaleźć globalne minimum funkcji w przestrzeni wielowymiarowej.\",\n",
    "    \"Chcę napisać esej porównujący filozofię Platona z dialektyką Hegla i ich wpływ na współczesne myślenie polityczne.\",\n",
    "    \"Mimo że życie potrafi być nieprzewidywalne, ważne jest, aby zachować spokój i elastyczność w podejmowaniu codziennych decyzji.\"\n",
    "]\n",
    "\n",
    "for sent in test_sentences:\n",
    "    output = pipe(sent)[0]['translation_text']\n",
    "    print(f\"🔹 Źródło: {sent}\")\n",
    "    print(f\"   Tłumaczenie: {output}\\n\")"
   ],
   "id": "3ff452ac30b5e0d5",
   "outputs": [
    {
     "name": "stdout",
     "output_type": "stream",
     "text": [
      "🔹 Źródło: To jest test.\n",
      "   Tłumaczenie: This is a test.\n",
      "\n",
      "🔹 Źródło: Lubię jabłka.\n",
      "   Tłumaczenie: I like apples.\n",
      "\n",
      "🔹 Źródło: On poszedł do sklepu, ale zapomniał portfela.\n",
      "   Tłumaczenie: He went to the store, but he forgot his wallet.\n",
      "\n",
      "🔹 Źródło: Jeżeli pada deszcz, weź parasol.\n",
      "   Tłumaczenie: If it rains, take an umbrella.\n",
      "\n",
      "🔹 Źródło: Warszawa jest stolicą Polski i największym miastem kraju.\n",
      "   Tłumaczenie: Warsaw is the capital of Poland and the largest city of the country.\n",
      "\n",
      "🔹 Źródło: Pomimo że spóźniliśmy się na pociąg, udało nam się złapać następny.\n",
      "   Tłumaczenie: Even though we missed the train, we managed to catch the next one.\n",
      "\n",
      "🔹 Źródło: Chociaż programista był zmęczony, kontynuował pracę nad projektem, aby dotrzymać terminu.\n",
      "   Tłumaczenie: Although the programmer was tired, he continued to work on the project to meet the deadline.\n",
      "\n",
      "🔹 Źródło: Przyczyną awarii systemu była niezgodność wersji oprogramowania oraz niewłaściwe ustawienie parametrów.\n",
      "   Tłumaczenie: The cause of the system failure was the non-conformity of the software version and the incorrect setting of parameters.\n",
      "\n",
      "🔹 Źródło: W obliczu nieuchronnej katastrofy, ludzie musieli szybko podjąć decyzję o ewakuacji.\n",
      "   Tłumaczenie: In the face of an imminent disaster, people had to quickly decide to evacuate.\n",
      "\n",
      "🔹 Źródło: Ten złożony algorytm optymalizacyjny wykorzystuje gradienty skokowe i heurystyki, aby znaleźć globalne minimum funkcji w przestrzeni wielowymiarowej.\n",
      "   Tłumaczenie: This complex optimization algorithm uses jump gradients and heuristics to find a global minimum of functions in multidimensional space.\n",
      "\n",
      "🔹 Źródło: Chcę napisać esej porównujący filozofię Platona z dialektyką Hegla i ich wpływ na współczesne myślenie polityczne.\n",
      "   Tłumaczenie: I want to write an essay comparing Plato's philosophy with Hegel's dialect and their influence on contemporary political thinking.\n",
      "\n",
      "🔹 Źródło: Mimo że życie potrafi być nieprzewidywalne, ważne jest, aby zachować spokój i elastyczność w podejmowaniu codziennych decyzji.\n",
      "   Tłumaczenie: Although life can be unpredictable, it is important to remain calm and flexible in making daily decisions.\n",
      "\n"
     ]
    }
   ],
   "execution_count": 20
  },
  {
   "metadata": {
    "ExecuteTime": {
     "end_time": "2025-05-30T21:05:23.775162Z",
     "start_time": "2025-05-30T21:05:23.258389Z"
    }
   },
   "cell_type": "code",
   "source": [
    "import matplotlib.pyplot as plt\n",
    "import pandas as pd\n",
    "\n",
    "if 'trainer' not in globals():\n",
    "    print(\"Proszę uruchomić wcześniej komórkę z definiowaniem i treningiem obiektu `trainer`, aby wygenerować wykresy.\")\n",
    "else:\n",
    "    history = trainer.state.log_history\n",
    "    df = pd.DataFrame(history)\n",
    "\n",
    "    loss_df = df[['step', 'loss']].dropna()\n",
    "    bleu_df = df[['step', 'eval_bleu']].dropna()\n",
    "\n",
    "    plt.figure()\n",
    "    plt.plot(loss_df['step'], loss_df['loss'])\n",
    "    plt.xlabel('Krok treningowy')\n",
    "    plt.ylabel('Training Loss')\n",
    "    plt.title('Training Loss over Steps')\n",
    "    plt.show()\n",
    "\n",
    "    plt.figure()\n",
    "    plt.plot(bleu_df['step'], bleu_df['eval_bleu'])\n",
    "    plt.xlabel('Krok treningowy')\n",
    "    plt.ylabel('Eval BLEU Score')\n",
    "    plt.title('Eval BLEU over Steps')\n",
    "    plt.show()"
   ],
   "id": "2ca2af6aa85851c1",
   "outputs": [
    {
     "data": {
      "text/plain": [
       "<Figure size 640x480 with 1 Axes>"
      ],
      "image/png": "[encoded data removed]"
     },
     "metadata": {},
     "output_type": "display_data"
    },
    {
     "data": {
      "text/plain": [
       "<Figure size 640x480 with 1 Axes>"
      ],
      "image/png": "[encoded data removed]"
     },
     "metadata": {},
     "output_type": "display_data"
    }
   ],
   "execution_count": 21
  },
  {
   "metadata": {},
   "cell_type": "markdown",
   "source": [
    "## Testy i eksperymenty z LoRA na różnych modelach\n",
    "W poniższej sekcji przeprowadzimy kilka eksperymentów z różnymi modelami i konfiguracjami LoRA."
   ],
   "id": "ffd99040e403f77"
  },
  {
   "metadata": {
    "ExecuteTime": {
     "end_time": "2025-05-31T23:02:09.644996Z",
     "start_time": "2025-05-31T23:02:09.637052Z"
    }
   },
   "cell_type": "code",
   "source": [
    "import os\n",
    "import numpy as np\n",
    "import sacrebleu\n",
    "from datasets import load_dataset\n",
    "from transformers import (\n",
    "    AutoTokenizer,\n",
    "    AutoModelForSeq2SeqLM,\n",
    "    Seq2SeqTrainer,\n",
    "    Seq2SeqTrainingArguments,\n",
    "    DataCollatorForSeq2Seq,\n",
    "    pipeline,\n",
    ")\n",
    "from peft import LoraConfig, get_peft_model, PeftModel\n",
    "import torch\n",
    "\n",
    "RESULTS_DIR = \"results_pl_en\"\n",
    "os.makedirs(RESULTS_DIR, exist_ok=True)"
   ],
   "id": "ef2934048f7d1902",
   "outputs": [],
   "execution_count": 22
  },
  {
   "metadata": {
    "ExecuteTime": {
     "end_time": "2025-05-31T23:07:43.837838Z",
     "start_time": "2025-05-31T23:07:43.834102Z"
    }
   },
   "cell_type": "code",
   "source": [
    "def prepare_datasets(train_size: int, val_size: int = 5000, max_len: int = 128):\n",
    "    \"\"\"\n",
    "    Ładuje korpus OPUS100 en-pl,\n",
    "    wybiera losowy subset train_size i subset walidacyjny do actual_val_size,\n",
    "    tokenizuje do max_len.\n",
    "    \"\"\"\n",
    "    raw = load_dataset(\"opus100\", \"en-pl\")\n",
    "\n",
    "    available_val = len(raw[\"validation\"])\n",
    "    actual_val_size = min(val_size, available_val)\n",
    "\n",
    "    train_raw = raw[\"train\"].shuffle(seed=42).select(range(train_size))\n",
    "    val_raw = raw[\"validation\"].shuffle(seed=42).select(range(actual_val_size))\n",
    "\n",
    "    def preprocess(batch):\n",
    "        pl_list = [example[\"pl\"] for example in batch[\"translation\"]]\n",
    "        en_list = [example[\"en\"] for example in batch[\"translation\"]]\n",
    "\n",
    "        in_tok = tokenizer(\n",
    "            pl_list,\n",
    "            truncation=True,\n",
    "            padding=\"max_length\",\n",
    "            max_length=max_len\n",
    "        )\n",
    "        out_tok = tokenizer(\n",
    "            en_list,\n",
    "            truncation=True,\n",
    "            padding=\"max_length\",\n",
    "            max_length=max_len\n",
    "        )\n",
    "        return {\n",
    "            \"input_ids\": in_tok[\"input_ids\"],\n",
    "            \"attention_mask\": in_tok[\"attention_mask\"],\n",
    "            \"labels\": out_tok[\"input_ids\"],\n",
    "        }\n",
    "\n",
    "    train_ds = train_raw.map(preprocess, batched=True, remove_columns=train_raw.column_names)\n",
    "    val_ds = val_raw.map(preprocess, batched=True, remove_columns=val_raw.column_names)\n",
    "    return train_ds, val_ds\n",
    "\n",
    "\n",
    "def compute_metrics(eval_preds):\n",
    "    preds, labels = eval_preds\n",
    "    decoded_preds = tokenizer.batch_decode(preds, skip_special_tokens=True)\n",
    "    labels = np.where(labels != -100, labels, tokenizer.pad_token_id)\n",
    "    decoded_labels = tokenizer.batch_decode(labels, skip_special_tokens=True)\n",
    "    bleu = sacrebleu.corpus_bleu(decoded_preds, [decoded_labels])\n",
    "    return {\"bleu\": bleu.score}\n",
    "\n",
    "\n",
    "def save_lora_adapter(model, output_dir):\n",
    "    os.makedirs(output_dir, exist_ok=True)\n",
    "    model.save_pretrained(output_dir)"
   ],
   "id": "4a2fb2fe60dbb92e",
   "outputs": [],
   "execution_count": 39
  },
  {
   "metadata": {
    "ExecuteTime": {
     "end_time": "2025-05-31T23:07:48.620001Z",
     "start_time": "2025-05-31T23:07:48.617289Z"
    }
   },
   "cell_type": "code",
   "source": [
    "device = 0 if torch.cuda.is_available() else -1\n",
    "print(\"Urządzenie:\", \"cuda\" if device == 0 else \"cpu\")"
   ],
   "id": "47a3d951bb8990ad",
   "outputs": [
    {
     "name": "stdout",
     "output_type": "stream",
     "text": [
      "Urządzenie: cpu\n"
     ]
    }
   ],
   "execution_count": 40
  },
  {
   "metadata": {},
   "cell_type": "markdown",
   "source": "### Eksperyment z Helsinki NLP (20k próbek, 3 epoki, LoRA r=8, max_len=128)",
   "id": "783656a4aef4c1c3"
  },
  {
   "metadata": {
    "ExecuteTime": {
     "end_time": "2025-05-31T23:07:48.801350Z",
     "start_time": "2025-05-31T23:07:48.798972Z"
    }
   },
   "cell_type": "code",
   "source": [
    "config_1 = {\n",
    "    \"base_model_id\": \"Helsinki-NLP/opus-mt-pl-en\",\n",
    "    \"train_size\": 20000,\n",
    "    \"val_size\": 2000,\n",
    "    \"num_epochs\": 3,\n",
    "    \"lora_r\": 8,\n",
    "    \"batch_size\": 16,\n",
    "    \"learning_rate\": 5e-5,\n",
    "    \"max_len\": 128,\n",
    "    \"num_beams\": 1,\n",
    "}"
   ],
   "id": "898010542d704e15",
   "outputs": [],
   "execution_count": 41
  },
  {
   "metadata": {
    "ExecuteTime": {
     "end_time": "2025-05-31T23:07:50.606734Z",
     "start_time": "2025-05-31T23:07:50.603688Z"
    }
   },
   "cell_type": "code",
   "source": [
    "exp_name_1 = (\n",
    "    f\"helsinki_\"\n",
    "    f\"train{config_1['train_size'] // 1000}k_\"\n",
    "    f\"ep{config_1['num_epochs']}_\"\n",
    "    f\"r{config_1['lora_r']}_\"\n",
    "    f\"len{config_1['max_len']}\"\n",
    ")"
   ],
   "id": "abc0316fa7bafdb7",
   "outputs": [],
   "execution_count": 42
  },
  {
   "metadata": {},
   "cell_type": "markdown",
   "source": "#### Tokenizer i LoRA model",
   "id": "23b46f478c1c6bc5"
  },
  {
   "metadata": {
    "ExecuteTime": {
     "end_time": "2025-05-31T23:07:51.944091Z",
     "start_time": "2025-05-31T23:07:50.780997Z"
    }
   },
   "cell_type": "code",
   "source": [
    "tokenizer = AutoTokenizer.from_pretrained(config_1[\"base_model_id\"])\n",
    "base_model = AutoModelForSeq2SeqLM.from_pretrained(config_1[\"base_model_id\"])\n",
    "\n",
    "lora_config = LoraConfig(\n",
    "    r=config_1[\"lora_r\"],\n",
    "    lora_alpha=32,\n",
    "    target_modules=[\"q_proj\", \"v_proj\"],\n",
    "    lora_dropout=0.1,\n",
    "    bias=\"none\",\n",
    "    task_type=\"SEQ_2_SEQ_LM\",\n",
    ")\n",
    "model = get_peft_model(base_model, lora_config)"
   ],
   "id": "7fa0ad6df17ec7c7",
   "outputs": [],
   "execution_count": 43
  },
  {
   "metadata": {},
   "cell_type": "markdown",
   "source": "#### Przygotowanie danych",
   "id": "1f2a41ed7d52d5b7"
  },
  {
   "metadata": {
    "ExecuteTime": {
     "end_time": "2025-05-31T23:08:00.613399Z",
     "start_time": "2025-05-31T23:07:53.124805Z"
    }
   },
   "cell_type": "code",
   "source": [
    "train_ds, val_ds = prepare_datasets(\n",
    "    train_size=config_1[\"train_size\"],\n",
    "    val_size=config_1[\"val_size\"],\n",
    "    max_len=config_1[\"max_len\"],\n",
    ")"
   ],
   "id": "fb704413d8ce17db",
   "outputs": [
    {
     "name": "stderr",
     "output_type": "stream",
     "text": [
      "Map: 100%|██████████| 20000/20000 [00:01<00:00, 10049.33 examples/s]\n",
      "Map: 100%|██████████| 2000/2000 [00:00<00:00, 9254.29 examples/s]\n"
     ]
    }
   ],
   "execution_count": 44
  },
  {
   "metadata": {
    "ExecuteTime": {
     "end_time": "2025-05-31T23:08:03.843758Z",
     "start_time": "2025-05-31T23:08:03.841346Z"
    }
   },
   "cell_type": "code",
   "source": "data_collator = DataCollatorForSeq2Seq(tokenizer, model=model, label_pad_token_id=-100)",
   "id": "73882b3b2597a9aa",
   "outputs": [],
   "execution_count": 45
  },
  {
   "metadata": {
    "ExecuteTime": {
     "end_time": "2025-05-31T23:08:04.251060Z",
     "start_time": "2025-05-31T23:08:04.246389Z"
    }
   },
   "cell_type": "code",
   "source": [
    "output_dir_1 = os.path.join(RESULTS_DIR, exp_name_1)\n",
    "os.makedirs(output_dir_1, exist_ok=True)\n",
    "\n",
    "training_args_1 = Seq2SeqTrainingArguments(\n",
    "    output_dir=output_dir_1,\n",
    "    per_device_train_batch_size=config_1[\"batch_size\"],\n",
    "    per_device_eval_batch_size=config_1[\"batch_size\"],\n",
    "    predict_with_generate=True,\n",
    "    eval_strategy=\"steps\",\n",
    "    eval_steps=500,\n",
    "    save_strategy=\"steps\",\n",
    "    save_steps=500,\n",
    "    logging_steps=100,\n",
    "    num_train_epochs=config_1[\"num_epochs\"],\n",
    "    learning_rate=config_1[\"learning_rate\"],\n",
    "    warmup_steps=500,\n",
    "    weight_decay=0.01,\n",
    "    label_smoothing_factor=0.1,\n",
    "    generation_max_length=config_1[\"max_len\"],\n",
    "    generation_num_beams=config_1[\"num_beams\"],\n",
    "    load_best_model_at_end=True,\n",
    "    metric_for_best_model=\"bleu\",\n",
    "    greater_is_better=True,\n",
    ")"
   ],
   "id": "6cccbf74623bf9b3",
   "outputs": [],
   "execution_count": 46
  },
  {
   "metadata": {},
   "cell_type": "markdown",
   "source": "#### Seq2SeqTrainer i trening",
   "id": "b04fa5660eee36ae"
  },
  {
   "metadata": {
    "ExecuteTime": {
     "end_time": "2025-05-31T23:54:16.514245Z",
     "start_time": "2025-05-31T23:08:06.792698Z"
    }
   },
   "cell_type": "code",
   "source": [
    "trainer_1 = Seq2SeqTrainer(\n",
    "    model=model,\n",
    "    args=training_args_1,\n",
    "    train_dataset=train_ds,\n",
    "    eval_dataset=val_ds,\n",
    "    tokenizer=tokenizer,\n",
    "    data_collator=data_collator,\n",
    "    compute_metrics=compute_metrics,\n",
    ")\n",
    "\n",
    "trainer_1.train()"
   ],
   "id": "575dbfcd3be93635",
   "outputs": [
    {
     "name": "stderr",
     "output_type": "stream",
     "text": [
      "/var/folders/z_/dq8r0xg94mxfzfpr1jmhv_740000gn/T/ipykernel_21716/185204296.py:2: FutureWarning: `tokenizer` is deprecated and will be removed in version 5.0.0 for `Seq2SeqTrainer.__init__`. Use `processing_class` instead.\n",
      "  trainer_1 = Seq2SeqTrainer(\n",
      "No label_names provided for model class `PeftModelForSeq2SeqLM`. Since `PeftModel` hides base models input arguments, if label_names is not given, label_names can't be set automatically within `Trainer`. Note that empty label_names list will be used instead.\n",
      "/Users/amika/python-global/lib/python3.12/site-packages/torch/utils/data/dataloader.py:683: UserWarning: 'pin_memory' argument is set as true but not supported on MPS now, then device pinned memory won't be used.\n",
      "  warnings.warn(warn_msg)\n",
      "Passing a tuple of `past_key_values` is deprecated and will be removed in Transformers v4.58.0. You should pass an instance of `EncoderDecoderCache` instead, e.g. `past_key_values=EncoderDecoderCache.from_legacy_cache(past_key_values)`.\n"
     ]
    },
    {
     "data": {
      "text/plain": [
       "<IPython.core.display.HTML object>"
      ],
      "text/html": [
       "\n",
       "    <div>\n",
       "      \n",
       "      <progress value='3750' max='3750' style='width:300px; height:20px; vertical-align: middle;'></progress>\n",
       "      [3750/3750 46:04, Epoch 3/3]\n",
       "    </div>\n",
       "    <table border=\"1\" class=\"dataframe\">\n",
       "  <thead>\n",
       " <tr style=\"text-align: left;\">\n",
       "      <th>Step</th>\n",
       "      <th>Training Loss</th>\n",
       "      <th>Validation Loss</th>\n",
       "      <th>Bleu</th>\n",
       "    </tr>\n",
       "  </thead>\n",
       "  <tbody>\n",
       "    <tr>\n",
       "      <td>500</td>\n",
       "      <td>2.112500</td>\n",
       "      <td>2.188936</td>\n",
       "      <td>29.233314</td>\n",
       "    </tr>\n",
       "    <tr>\n",
       "      <td>1000</td>\n",
       "      <td>2.001300</td>\n",
       "      <td>2.068457</td>\n",
       "      <td>21.946135</td>\n",
       "    </tr>\n",
       "    <tr>\n",
       "      <td>1500</td>\n",
       "      <td>1.981800</td>\n",
       "      <td>2.037692</td>\n",
       "      <td>18.228974</td>\n",
       "    </tr>\n",
       "    <tr>\n",
       "      <td>2000</td>\n",
       "      <td>1.952900</td>\n",
       "      <td>2.022043</td>\n",
       "      <td>18.390802</td>\n",
       "    </tr>\n",
       "    <tr>\n",
       "      <td>2500</td>\n",
       "      <td>1.943700</td>\n",
       "      <td>2.011264</td>\n",
       "      <td>17.132577</td>\n",
       "    </tr>\n",
       "    <tr>\n",
       "      <td>3000</td>\n",
       "      <td>1.957800</td>\n",
       "      <td>2.004875</td>\n",
       "      <td>16.229079</td>\n",
       "    </tr>\n",
       "    <tr>\n",
       "      <td>3500</td>\n",
       "      <td>1.943500</td>\n",
       "      <td>2.001432</td>\n",
       "      <td>16.149608</td>\n",
       "    </tr>\n",
       "  </tbody>\n",
       "</table><p>"
      ]
     },
     "metadata": {},
     "output_type": "display_data"
    },
    {
     "name": "stderr",
     "output_type": "stream",
     "text": [
      "/Users/amika/python-global/lib/python3.12/site-packages/torch/utils/data/dataloader.py:683: UserWarning: 'pin_memory' argument is set as true but not supported on MPS now, then device pinned memory won't be used.\n",
      "  warnings.warn(warn_msg)\n",
      "/Users/amika/python-global/lib/python3.12/site-packages/torch/utils/data/dataloader.py:683: UserWarning: 'pin_memory' argument is set as true but not supported on MPS now, then device pinned memory won't be used.\n",
      "  warnings.warn(warn_msg)\n",
      "/Users/amika/python-global/lib/python3.12/site-packages/torch/utils/data/dataloader.py:683: UserWarning: 'pin_memory' argument is set as true but not supported on MPS now, then device pinned memory won't be used.\n",
      "  warnings.warn(warn_msg)\n",
      "/Users/amika/python-global/lib/python3.12/site-packages/torch/utils/data/dataloader.py:683: UserWarning: 'pin_memory' argument is set as true but not supported on MPS now, then device pinned memory won't be used.\n",
      "  warnings.warn(warn_msg)\n",
      "/Users/amika/python-global/lib/python3.12/site-packages/torch/utils/data/dataloader.py:683: UserWarning: 'pin_memory' argument is set as true but not supported on MPS now, then device pinned memory won't be used.\n",
      "  warnings.warn(warn_msg)\n",
      "/Users/amika/python-global/lib/python3.12/site-packages/torch/utils/data/dataloader.py:683: UserWarning: 'pin_memory' argument is set as true but not supported on MPS now, then device pinned memory won't be used.\n",
      "  warnings.warn(warn_msg)\n"
     ]
    },
    {
     "data": {
      "text/plain": [
       "TrainOutput(global_step=3750, training_loss=2.3701901835123698, metrics={'train_runtime': 2768.6303, 'train_samples_per_second': 21.671, 'train_steps_per_second': 1.354, 'total_flos': 2047491440640000.0, 'train_loss': 2.3701901835123698, 'epoch': 3.0})"
      ]
     },
     "execution_count": 47,
     "metadata": {},
     "output_type": "execute_result"
    }
   ],
   "execution_count": 47
  },
  {
   "metadata": {
    "ExecuteTime": {
     "end_time": "2025-05-31T23:54:18.296966Z",
     "start_time": "2025-05-31T23:54:18.294752Z"
    }
   },
   "cell_type": "code",
   "source": [
    "best_bleu_1 = trainer_1.state.best_metric\n",
    "print(f\"{exp_name_1} → BEST BLEU: {best_bleu_1:.2f}\")"
   ],
   "id": "141f9dfc530ed754",
   "outputs": [
    {
     "name": "stdout",
     "output_type": "stream",
     "text": [
      "helsinki_train20k_ep3_r8_len128 → BEST BLEU: 29.23\n"
     ]
    }
   ],
   "execution_count": 52
  },
  {
   "metadata": {
    "ExecuteTime": {
     "end_time": "2025-05-31T23:54:18.636571Z",
     "start_time": "2025-05-31T23:54:18.309264Z"
    }
   },
   "cell_type": "code",
   "source": [
    "adapter_dir_1 = os.path.join(output_dir_1, \"lora_adapter\")\n",
    "save_lora_adapter(model, adapter_dir_1)"
   ],
   "id": "6b3cee8c792df41f",
   "outputs": [],
   "execution_count": 53
  },
  {
   "metadata": {},
   "cell_type": "markdown",
   "source": "### Eksperyment z Helsinki NLP (20k próbek, 7 epok, LoRA r=8, max_len=128)",
   "id": "7ec835e54b946cc4"
  },
  {
   "metadata": {
    "ExecuteTime": {
     "end_time": "2025-05-31T23:54:18.652830Z",
     "start_time": "2025-05-31T23:54:18.650619Z"
    }
   },
   "cell_type": "code",
   "source": [
    "config_2 = config_1.copy()\n",
    "config_2[\"num_epochs\"] = 7"
   ],
   "id": "cf7479314fc9b610",
   "outputs": [],
   "execution_count": 54
  },
  {
   "metadata": {
    "ExecuteTime": {
     "end_time": "2025-05-31T23:54:18.665679Z",
     "start_time": "2025-05-31T23:54:18.663829Z"
    }
   },
   "cell_type": "code",
   "source": [
    "exp_name_2 = (\n",
    "    f\"helsinki_\"\n",
    "    f\"train{config_2['train_size'] // 1000}k_\"\n",
    "    f\"ep{config_2['num_epochs']}_\"\n",
    "    f\"r{config_2['lora_r']}_\"\n",
    "    f\"len{config_2['max_len']}\"\n",
    ")"
   ],
   "id": "557d7ffa40f5efd3",
   "outputs": [],
   "execution_count": 55
  },
  {
   "metadata": {
    "ExecuteTime": {
     "end_time": "2025-05-31T23:54:19.837409Z",
     "start_time": "2025-05-31T23:54:18.676072Z"
    }
   },
   "cell_type": "code",
   "source": [
    "tokenizer = AutoTokenizer.from_pretrained(config_2[\"base_model_id\"])\n",
    "base_model = AutoModelForSeq2SeqLM.from_pretrained(config_2[\"base_model_id\"])\n",
    "\n",
    "lora_config = LoraConfig(\n",
    "    r=config_2[\"lora_r\"],\n",
    "    lora_alpha=32,\n",
    "    target_modules=[\"q_proj\", \"v_proj\"],\n",
    "    lora_dropout=0.1,\n",
    "    bias=\"none\",\n",
    "    task_type=\"SEQ_2_SEQ_LM\",\n",
    ")\n",
    "model = get_peft_model(base_model, lora_config)"
   ],
   "id": "885554d0f3fc0264",
   "outputs": [],
   "execution_count": 56
  },
  {
   "metadata": {
    "ExecuteTime": {
     "end_time": "2025-05-31T23:54:25.293248Z",
     "start_time": "2025-05-31T23:54:19.854598Z"
    }
   },
   "cell_type": "code",
   "source": [
    "train_ds, val_ds = prepare_datasets(\n",
    "    train_size=config_2[\"train_size\"],\n",
    "    val_size=config_2[\"val_size\"],\n",
    "    max_len=config_2[\"max_len\"],\n",
    ")"
   ],
   "id": "4227680cd993e2a6",
   "outputs": [],
   "execution_count": 57
  },
  {
   "metadata": {
    "ExecuteTime": {
     "end_time": "2025-05-31T23:54:25.307173Z",
     "start_time": "2025-05-31T23:54:25.305368Z"
    }
   },
   "cell_type": "code",
   "source": "data_collator = DataCollatorForSeq2Seq(tokenizer, model=model, label_pad_token_id=-100)",
   "id": "aec6f48d584bea76",
   "outputs": [],
   "execution_count": 58
  },
  {
   "metadata": {
    "ExecuteTime": {
     "end_time": "2025-05-31T23:54:25.321646Z",
     "start_time": "2025-05-31T23:54:25.318154Z"
    }
   },
   "cell_type": "code",
   "source": [
    "output_dir_2 = os.path.join(RESULTS_DIR, exp_name_2)\n",
    "os.makedirs(output_dir_2, exist_ok=True)\n",
    "\n",
    "training_args_2 = Seq2SeqTrainingArguments(\n",
    "    output_dir=output_dir_2,\n",
    "    per_device_train_batch_size=config_2[\"batch_size\"],\n",
    "    per_device_eval_batch_size=config_2[\"batch_size\"],\n",
    "    predict_with_generate=True,\n",
    "    eval_strategy=\"steps\",\n",
    "    eval_steps=500,\n",
    "    save_strategy=\"steps\",\n",
    "    save_steps=500,\n",
    "    logging_steps=100,\n",
    "    num_train_epochs=config_2[\"num_epochs\"],\n",
    "    learning_rate=config_2[\"learning_rate\"],\n",
    "    warmup_steps=500,\n",
    "    weight_decay=0.01,\n",
    "    label_smoothing_factor=0.1,\n",
    "    generation_max_length=config_2[\"max_len\"],\n",
    "    generation_num_beams=config_2[\"num_beams\"],\n",
    "    load_best_model_at_end=True,\n",
    "    metric_for_best_model=\"bleu\",\n",
    "    greater_is_better=True,\n",
    ")"
   ],
   "id": "e72ad10ace5b8a0e",
   "outputs": [],
   "execution_count": 59
  },
  {
   "metadata": {
    "ExecuteTime": {
     "end_time": "2025-06-01T01:39:26.786993Z",
     "start_time": "2025-05-31T23:54:25.332160Z"
    }
   },
   "cell_type": "code",
   "source": [
    "trainer_2 = Seq2SeqTrainer(\n",
    "    model=model,\n",
    "    args=training_args_2,\n",
    "    train_dataset=train_ds,\n",
    "    eval_dataset=val_ds,\n",
    "    tokenizer=tokenizer,\n",
    "    data_collator=data_collator,\n",
    "    compute_metrics=compute_metrics,\n",
    ")\n",
    "\n",
    "trainer_2.train()"
   ],
   "id": "632fefad8663c028",
   "outputs": [
    {
     "name": "stderr",
     "output_type": "stream",
     "text": [
      "/var/folders/z_/dq8r0xg94mxfzfpr1jmhv_740000gn/T/ipykernel_21716/980042975.py:2: FutureWarning: `tokenizer` is deprecated and will be removed in version 5.0.0 for `Seq2SeqTrainer.__init__`. Use `processing_class` instead.\n",
      "  trainer_2 = Seq2SeqTrainer(\n",
      "No label_names provided for model class `PeftModelForSeq2SeqLM`. Since `PeftModel` hides base models input arguments, if label_names is not given, label_names can't be set automatically within `Trainer`. Note that empty label_names list will be used instead.\n",
      "/Users/amika/python-global/lib/python3.12/site-packages/torch/utils/data/dataloader.py:683: UserWarning: 'pin_memory' argument is set as true but not supported on MPS now, then device pinned memory won't be used.\n",
      "  warnings.warn(warn_msg)\n"
     ]
    },
    {
     "data": {
      "text/plain": [
       "<IPython.core.display.HTML object>"
      ],
      "text/html": [
       "\n",
       "    <div>\n",
       "      \n",
       "      <progress value='8750' max='8750' style='width:300px; height:20px; vertical-align: middle;'></progress>\n",
       "      [8750/8750 1:44:55, Epoch 7/7]\n",
       "    </div>\n",
       "    <table border=\"1\" class=\"dataframe\">\n",
       "  <thead>\n",
       " <tr style=\"text-align: left;\">\n",
       "      <th>Step</th>\n",
       "      <th>Training Loss</th>\n",
       "      <th>Validation Loss</th>\n",
       "      <th>Bleu</th>\n",
       "    </tr>\n",
       "  </thead>\n",
       "  <tbody>\n",
       "    <tr>\n",
       "      <td>500</td>\n",
       "      <td>2.111300</td>\n",
       "      <td>2.186978</td>\n",
       "      <td>29.102469</td>\n",
       "    </tr>\n",
       "    <tr>\n",
       "      <td>1000</td>\n",
       "      <td>2.001000</td>\n",
       "      <td>2.067745</td>\n",
       "      <td>21.705677</td>\n",
       "    </tr>\n",
       "    <tr>\n",
       "      <td>1500</td>\n",
       "      <td>1.979100</td>\n",
       "      <td>2.033789</td>\n",
       "      <td>18.388672</td>\n",
       "    </tr>\n",
       "    <tr>\n",
       "      <td>2000</td>\n",
       "      <td>1.947300</td>\n",
       "      <td>2.014410</td>\n",
       "      <td>18.194986</td>\n",
       "    </tr>\n",
       "    <tr>\n",
       "      <td>2500</td>\n",
       "      <td>1.933800</td>\n",
       "      <td>1.999853</td>\n",
       "      <td>16.765346</td>\n",
       "    </tr>\n",
       "    <tr>\n",
       "      <td>3000</td>\n",
       "      <td>1.944300</td>\n",
       "      <td>1.987275</td>\n",
       "      <td>15.118164</td>\n",
       "    </tr>\n",
       "    <tr>\n",
       "      <td>3500</td>\n",
       "      <td>1.924900</td>\n",
       "      <td>1.978197</td>\n",
       "      <td>16.061137</td>\n",
       "    </tr>\n",
       "    <tr>\n",
       "      <td>4000</td>\n",
       "      <td>1.927900</td>\n",
       "      <td>1.971850</td>\n",
       "      <td>15.682335</td>\n",
       "    </tr>\n",
       "    <tr>\n",
       "      <td>4500</td>\n",
       "      <td>1.896700</td>\n",
       "      <td>1.966168</td>\n",
       "      <td>15.918435</td>\n",
       "    </tr>\n",
       "    <tr>\n",
       "      <td>5000</td>\n",
       "      <td>1.896900</td>\n",
       "      <td>1.961157</td>\n",
       "      <td>15.471418</td>\n",
       "    </tr>\n",
       "    <tr>\n",
       "      <td>5500</td>\n",
       "      <td>1.909300</td>\n",
       "      <td>1.957863</td>\n",
       "      <td>15.852671</td>\n",
       "    </tr>\n",
       "    <tr>\n",
       "      <td>6000</td>\n",
       "      <td>1.907300</td>\n",
       "      <td>1.954468</td>\n",
       "      <td>15.457407</td>\n",
       "    </tr>\n",
       "    <tr>\n",
       "      <td>6500</td>\n",
       "      <td>1.881600</td>\n",
       "      <td>1.952495</td>\n",
       "      <td>15.312514</td>\n",
       "    </tr>\n",
       "    <tr>\n",
       "      <td>7000</td>\n",
       "      <td>1.909200</td>\n",
       "      <td>1.950206</td>\n",
       "      <td>15.203481</td>\n",
       "    </tr>\n",
       "    <tr>\n",
       "      <td>7500</td>\n",
       "      <td>1.863700</td>\n",
       "      <td>1.949261</td>\n",
       "      <td>15.126348</td>\n",
       "    </tr>\n",
       "    <tr>\n",
       "      <td>8000</td>\n",
       "      <td>1.889200</td>\n",
       "      <td>1.948327</td>\n",
       "      <td>15.213073</td>\n",
       "    </tr>\n",
       "    <tr>\n",
       "      <td>8500</td>\n",
       "      <td>1.887300</td>\n",
       "      <td>1.947508</td>\n",
       "      <td>15.128384</td>\n",
       "    </tr>\n",
       "  </tbody>\n",
       "</table><p>"
      ]
     },
     "metadata": {},
     "output_type": "display_data"
    },
    {
     "name": "stderr",
     "output_type": "stream",
     "text": [
      "/Users/amika/python-global/lib/python3.12/site-packages/torch/utils/data/dataloader.py:683: UserWarning: 'pin_memory' argument is set as true but not supported on MPS now, then device pinned memory won't be used.\n",
      "  warnings.warn(warn_msg)\n",
      "/Users/amika/python-global/lib/python3.12/site-packages/torch/utils/data/dataloader.py:683: UserWarning: 'pin_memory' argument is set as true but not supported on MPS now, then device pinned memory won't be used.\n",
      "  warnings.warn(warn_msg)\n",
      "/Users/amika/python-global/lib/python3.12/site-packages/torch/utils/data/dataloader.py:683: UserWarning: 'pin_memory' argument is set as true but not supported on MPS now, then device pinned memory won't be used.\n",
      "  warnings.warn(warn_msg)\n",
      "/Users/amika/python-global/lib/python3.12/site-packages/torch/utils/data/dataloader.py:683: UserWarning: 'pin_memory' argument is set as true but not supported on MPS now, then device pinned memory won't be used.\n",
      "  warnings.warn(warn_msg)\n",
      "/Users/amika/python-global/lib/python3.12/site-packages/torch/utils/data/dataloader.py:683: UserWarning: 'pin_memory' argument is set as true but not supported on MPS now, then device pinned memory won't be used.\n",
      "  warnings.warn(warn_msg)\n",
      "/Users/amika/python-global/lib/python3.12/site-packages/torch/utils/data/dataloader.py:683: UserWarning: 'pin_memory' argument is set as true but not supported on MPS now, then device pinned memory won't be used.\n",
      "  warnings.warn(warn_msg)\n",
      "/Users/amika/python-global/lib/python3.12/site-packages/torch/utils/data/dataloader.py:683: UserWarning: 'pin_memory' argument is set as true but not supported on MPS now, then device pinned memory won't be used.\n",
      "  warnings.warn(warn_msg)\n",
      "/Users/amika/python-global/lib/python3.12/site-packages/torch/utils/data/dataloader.py:683: UserWarning: 'pin_memory' argument is set as true but not supported on MPS now, then device pinned memory won't be used.\n",
      "  warnings.warn(warn_msg)\n",
      "/Users/amika/python-global/lib/python3.12/site-packages/torch/utils/data/dataloader.py:683: UserWarning: 'pin_memory' argument is set as true but not supported on MPS now, then device pinned memory won't be used.\n",
      "  warnings.warn(warn_msg)\n",
      "/Users/amika/python-global/lib/python3.12/site-packages/torch/utils/data/dataloader.py:683: UserWarning: 'pin_memory' argument is set as true but not supported on MPS now, then device pinned memory won't be used.\n",
      "  warnings.warn(warn_msg)\n",
      "/Users/amika/python-global/lib/python3.12/site-packages/torch/utils/data/dataloader.py:683: UserWarning: 'pin_memory' argument is set as true but not supported on MPS now, then device pinned memory won't be used.\n",
      "  warnings.warn(warn_msg)\n",
      "/Users/amika/python-global/lib/python3.12/site-packages/torch/utils/data/dataloader.py:683: UserWarning: 'pin_memory' argument is set as true but not supported on MPS now, then device pinned memory won't be used.\n",
      "  warnings.warn(warn_msg)\n",
      "/Users/amika/python-global/lib/python3.12/site-packages/torch/utils/data/dataloader.py:683: UserWarning: 'pin_memory' argument is set as true but not supported on MPS now, then device pinned memory won't be used.\n",
      "  warnings.warn(warn_msg)\n",
      "/Users/amika/python-global/lib/python3.12/site-packages/torch/utils/data/dataloader.py:683: UserWarning: 'pin_memory' argument is set as true but not supported on MPS now, then device pinned memory won't be used.\n",
      "  warnings.warn(warn_msg)\n",
      "/Users/amika/python-global/lib/python3.12/site-packages/torch/utils/data/dataloader.py:683: UserWarning: 'pin_memory' argument is set as true but not supported on MPS now, then device pinned memory won't be used.\n",
      "  warnings.warn(warn_msg)\n",
      "/Users/amika/python-global/lib/python3.12/site-packages/torch/utils/data/dataloader.py:683: UserWarning: 'pin_memory' argument is set as true but not supported on MPS now, then device pinned memory won't be used.\n",
      "  warnings.warn(warn_msg)\n"
     ]
    },
    {
     "data": {
      "text/plain": [
       "TrainOutput(global_step=8750, training_loss=2.092338405936105, metrics={'train_runtime': 6301.0639, 'train_samples_per_second': 22.218, 'train_steps_per_second': 1.389, 'total_flos': 4777480028160000.0, 'train_loss': 2.092338405936105, 'epoch': 7.0})"
      ]
     },
     "execution_count": 60,
     "metadata": {},
     "output_type": "execute_result"
    }
   ],
   "execution_count": 60
  },
  {
   "metadata": {
    "ExecuteTime": {
     "end_time": "2025-06-01T01:39:26.807011Z",
     "start_time": "2025-06-01T01:39:26.804923Z"
    }
   },
   "cell_type": "code",
   "source": [
    "best_bleu_2 = trainer_2.state.best_metric\n",
    "print(f\"{exp_name_2} → BEST BLEU: {best_bleu_2:.2f}\")"
   ],
   "id": "3ed046b10b4a7610",
   "outputs": [
    {
     "name": "stdout",
     "output_type": "stream",
     "text": [
      "helsinki_train20k_ep7_r8_len128 → BEST BLEU: 29.10\n"
     ]
    }
   ],
   "execution_count": 61
  },
  {
   "metadata": {
    "ExecuteTime": {
     "end_time": "2025-06-01T01:39:27.158176Z",
     "start_time": "2025-06-01T01:39:26.833190Z"
    }
   },
   "cell_type": "code",
   "source": [
    "adapter_dir_2 = os.path.join(output_dir_2, \"lora_adapter\")\n",
    "save_lora_adapter(model, adapter_dir_2)"
   ],
   "id": "9f5af17ee7f6eab4",
   "outputs": [],
   "execution_count": 62
  },
  {
   "metadata": {},
   "cell_type": "markdown",
   "source": "### Eksperyment z Helsinki NLP (100k próbek, 7 epok, LoRA r=8, max_len=128)",
   "id": "fabb24c29db5fa90"
  },
  {
   "metadata": {
    "ExecuteTime": {
     "end_time": "2025-06-01T01:39:27.180397Z",
     "start_time": "2025-06-01T01:39:27.177997Z"
    }
   },
   "cell_type": "code",
   "source": [
    "config_3 = config_1.copy()\n",
    "config_3[\"train_size\"] = 100000\n",
    "config_3[\"num_epochs\"] = 7"
   ],
   "id": "292b33356f46e354",
   "outputs": [],
   "execution_count": 63
  },
  {
   "metadata": {
    "ExecuteTime": {
     "end_time": "2025-06-01T01:39:27.197135Z",
     "start_time": "2025-06-01T01:39:27.194872Z"
    }
   },
   "cell_type": "code",
   "source": [
    "exp_name_3 = (\n",
    "    f\"helsinki_\"\n",
    "    f\"train{config_3['train_size'] // 1000}k_\"\n",
    "    f\"ep{config_3['num_epochs']}_\"\n",
    "    f\"r{config_3['lora_r']}_\"\n",
    "    f\"len{config_3['max_len']}\"\n",
    ")"
   ],
   "id": "3f53b961abe33e82",
   "outputs": [],
   "execution_count": 64
  },
  {
   "metadata": {
    "ExecuteTime": {
     "end_time": "2025-06-01T01:39:28.459429Z",
     "start_time": "2025-06-01T01:39:27.209899Z"
    }
   },
   "cell_type": "code",
   "source": [
    "tokenizer = AutoTokenizer.from_pretrained(config_3[\"base_model_id\"])\n",
    "base_model = AutoModelForSeq2SeqLM.from_pretrained(config_3[\"base_model_id\"])\n",
    "\n",
    "lora_config = LoraConfig(\n",
    "    r=config_3[\"lora_r\"],\n",
    "    lora_alpha=32,\n",
    "    target_modules=[\"q_proj\", \"v_proj\"],\n",
    "    lora_dropout=0.1,\n",
    "    bias=\"none\",\n",
    "    task_type=\"SEQ_2_SEQ_LM\",\n",
    ")\n",
    "model = get_peft_model(base_model, lora_config)"
   ],
   "id": "20defd44e0d35c98",
   "outputs": [],
   "execution_count": 65
  },
  {
   "metadata": {
    "ExecuteTime": {
     "end_time": "2025-06-01T01:39:44.849003Z",
     "start_time": "2025-06-01T01:39:28.627622Z"
    }
   },
   "cell_type": "code",
   "source": [
    "train_ds, val_ds = prepare_datasets(\n",
    "    train_size=config_3[\"train_size\"],\n",
    "    val_size=config_3[\"val_size\"],\n",
    "    max_len=config_3[\"max_len\"],\n",
    ")"
   ],
   "id": "58fd0e3d806e1f4d",
   "outputs": [
    {
     "name": "stderr",
     "output_type": "stream",
     "text": [
      "Map: 100%|██████████| 100000/100000 [00:10<00:00, 9379.49 examples/s]\n"
     ]
    }
   ],
   "execution_count": 66
  },
  {
   "metadata": {
    "ExecuteTime": {
     "end_time": "2025-06-01T01:39:44.862527Z",
     "start_time": "2025-06-01T01:39:44.861087Z"
    }
   },
   "cell_type": "code",
   "source": "data_collator = DataCollatorForSeq2Seq(tokenizer, model=model, label_pad_token_id=-100)",
   "id": "6b5fd7f3469eb344",
   "outputs": [],
   "execution_count": 67
  },
  {
   "metadata": {
    "ExecuteTime": {
     "end_time": "2025-06-01T01:39:44.877152Z",
     "start_time": "2025-06-01T01:39:44.873986Z"
    }
   },
   "cell_type": "code",
   "source": [
    "output_dir_3 = os.path.join(RESULTS_DIR, exp_name_3)\n",
    "os.makedirs(output_dir_3, exist_ok=True)\n",
    "\n",
    "training_args_3 = Seq2SeqTrainingArguments(\n",
    "    output_dir=output_dir_3,\n",
    "    per_device_train_batch_size=config_3[\"batch_size\"],\n",
    "    per_device_eval_batch_size=config_3[\"batch_size\"],\n",
    "    predict_with_generate=True,\n",
    "    eval_strategy=\"steps\",\n",
    "    eval_steps=500,\n",
    "    save_strategy=\"steps\",\n",
    "    save_steps=500,\n",
    "    logging_steps=100,\n",
    "    num_train_epochs=config_3[\"num_epochs\"],\n",
    "    learning_rate=config_3[\"learning_rate\"],\n",
    "    warmup_steps=500,\n",
    "    weight_decay=0.01,\n",
    "    label_smoothing_factor=0.1,\n",
    "    generation_max_length=config_3[\"max_len\"],\n",
    "    generation_num_beams=config_3[\"num_beams\"],\n",
    "    load_best_model_at_end=True,\n",
    "    metric_for_best_model=\"bleu\",\n",
    "    greater_is_better=True,\n",
    ")"
   ],
   "id": "8ffe1a8f179f1255",
   "outputs": [],
   "execution_count": 68
  },
  {
   "metadata": {
    "ExecuteTime": {
     "end_time": "2025-06-01T10:08:12.480487Z",
     "start_time": "2025-06-01T01:39:44.887501Z"
    }
   },
   "cell_type": "code",
   "source": [
    "trainer_3 = Seq2SeqTrainer(\n",
    "    model=model,\n",
    "    args=training_args_3,\n",
    "    train_dataset=train_ds,\n",
    "    eval_dataset=val_ds,\n",
    "    tokenizer=tokenizer,\n",
    "    data_collator=data_collator,\n",
    "    compute_metrics=compute_metrics,\n",
    ")\n",
    "\n",
    "trainer_3.train()"
   ],
   "id": "ecef151c8c466812",
   "outputs": [
    {
     "name": "stderr",
     "output_type": "stream",
     "text": [
      "/var/folders/z_/dq8r0xg94mxfzfpr1jmhv_740000gn/T/ipykernel_21716/3476486030.py:2: FutureWarning: `tokenizer` is deprecated and will be removed in version 5.0.0 for `Seq2SeqTrainer.__init__`. Use `processing_class` instead.\n",
      "  trainer_3 = Seq2SeqTrainer(\n",
      "No label_names provided for model class `PeftModelForSeq2SeqLM`. Since `PeftModel` hides base models input arguments, if label_names is not given, label_names can't be set automatically within `Trainer`. Note that empty label_names list will be used instead.\n",
      "/Users/amika/python-global/lib/python3.12/site-packages/torch/utils/data/dataloader.py:683: UserWarning: 'pin_memory' argument is set as true but not supported on MPS now, then device pinned memory won't be used.\n",
      "  warnings.warn(warn_msg)\n"
     ]
    },
    {
     "data": {
      "text/plain": [
       "<IPython.core.display.HTML object>"
      ],
      "text/html": [
       "\n",
       "    <div>\n",
       "      \n",
       "      <progress value='43750' max='43750' style='width:300px; height:20px; vertical-align: middle;'></progress>\n",
       "      [43750/43750 8:28:21, Epoch 7/7]\n",
       "    </div>\n",
       "    <table border=\"1\" class=\"dataframe\">\n",
       "  <thead>\n",
       " <tr style=\"text-align: left;\">\n",
       "      <th>Step</th>\n",
       "      <th>Training Loss</th>\n",
       "      <th>Validation Loss</th>\n",
       "      <th>Bleu</th>\n",
       "    </tr>\n",
       "  </thead>\n",
       "  <tbody>\n",
       "    <tr>\n",
       "      <td>500</td>\n",
       "      <td>2.121300</td>\n",
       "      <td>2.182435</td>\n",
       "      <td>29.073688</td>\n",
       "    </tr>\n",
       "    <tr>\n",
       "      <td>1000</td>\n",
       "      <td>1.999000</td>\n",
       "      <td>2.065768</td>\n",
       "      <td>21.645890</td>\n",
       "    </tr>\n",
       "    <tr>\n",
       "      <td>1500</td>\n",
       "      <td>1.949400</td>\n",
       "      <td>2.031718</td>\n",
       "      <td>19.361525</td>\n",
       "    </tr>\n",
       "    <tr>\n",
       "      <td>2000</td>\n",
       "      <td>1.975800</td>\n",
       "      <td>2.010228</td>\n",
       "      <td>17.772969</td>\n",
       "    </tr>\n",
       "    <tr>\n",
       "      <td>2500</td>\n",
       "      <td>1.919900</td>\n",
       "      <td>1.994683</td>\n",
       "      <td>17.842267</td>\n",
       "    </tr>\n",
       "    <tr>\n",
       "      <td>3000</td>\n",
       "      <td>1.905400</td>\n",
       "      <td>1.979528</td>\n",
       "      <td>16.212733</td>\n",
       "    </tr>\n",
       "    <tr>\n",
       "      <td>3500</td>\n",
       "      <td>1.901700</td>\n",
       "      <td>1.969926</td>\n",
       "      <td>16.304948</td>\n",
       "    </tr>\n",
       "    <tr>\n",
       "      <td>4000</td>\n",
       "      <td>1.888500</td>\n",
       "      <td>1.960451</td>\n",
       "      <td>15.428576</td>\n",
       "    </tr>\n",
       "    <tr>\n",
       "      <td>4500</td>\n",
       "      <td>1.901500</td>\n",
       "      <td>1.952791</td>\n",
       "      <td>15.680655</td>\n",
       "    </tr>\n",
       "    <tr>\n",
       "      <td>5000</td>\n",
       "      <td>1.889100</td>\n",
       "      <td>1.946117</td>\n",
       "      <td>15.773801</td>\n",
       "    </tr>\n",
       "    <tr>\n",
       "      <td>5500</td>\n",
       "      <td>1.885500</td>\n",
       "      <td>1.939734</td>\n",
       "      <td>15.402087</td>\n",
       "    </tr>\n",
       "    <tr>\n",
       "      <td>6000</td>\n",
       "      <td>1.899600</td>\n",
       "      <td>1.935180</td>\n",
       "      <td>15.526565</td>\n",
       "    </tr>\n",
       "    <tr>\n",
       "      <td>6500</td>\n",
       "      <td>1.870600</td>\n",
       "      <td>1.931320</td>\n",
       "      <td>15.215221</td>\n",
       "    </tr>\n",
       "    <tr>\n",
       "      <td>7000</td>\n",
       "      <td>1.889900</td>\n",
       "      <td>1.927222</td>\n",
       "      <td>15.048325</td>\n",
       "    </tr>\n",
       "    <tr>\n",
       "      <td>7500</td>\n",
       "      <td>1.865000</td>\n",
       "      <td>1.924134</td>\n",
       "      <td>15.329094</td>\n",
       "    </tr>\n",
       "    <tr>\n",
       "      <td>8000</td>\n",
       "      <td>1.869300</td>\n",
       "      <td>1.920219</td>\n",
       "      <td>15.257212</td>\n",
       "    </tr>\n",
       "    <tr>\n",
       "      <td>8500</td>\n",
       "      <td>1.874400</td>\n",
       "      <td>1.917146</td>\n",
       "      <td>15.280958</td>\n",
       "    </tr>\n",
       "    <tr>\n",
       "      <td>9000</td>\n",
       "      <td>1.875900</td>\n",
       "      <td>1.913676</td>\n",
       "      <td>15.060255</td>\n",
       "    </tr>\n",
       "    <tr>\n",
       "      <td>9500</td>\n",
       "      <td>1.880500</td>\n",
       "      <td>1.912073</td>\n",
       "      <td>14.971096</td>\n",
       "    </tr>\n",
       "    <tr>\n",
       "      <td>10000</td>\n",
       "      <td>1.849000</td>\n",
       "      <td>1.909415</td>\n",
       "      <td>15.491595</td>\n",
       "    </tr>\n",
       "    <tr>\n",
       "      <td>10500</td>\n",
       "      <td>1.860900</td>\n",
       "      <td>1.907482</td>\n",
       "      <td>15.742218</td>\n",
       "    </tr>\n",
       "    <tr>\n",
       "      <td>11000</td>\n",
       "      <td>1.859900</td>\n",
       "      <td>1.904251</td>\n",
       "      <td>15.235286</td>\n",
       "    </tr>\n",
       "    <tr>\n",
       "      <td>11500</td>\n",
       "      <td>1.851800</td>\n",
       "      <td>1.902011</td>\n",
       "      <td>14.645065</td>\n",
       "    </tr>\n",
       "    <tr>\n",
       "      <td>12000</td>\n",
       "      <td>1.862900</td>\n",
       "      <td>1.900779</td>\n",
       "      <td>15.213008</td>\n",
       "    </tr>\n",
       "    <tr>\n",
       "      <td>12500</td>\n",
       "      <td>1.848300</td>\n",
       "      <td>1.897838</td>\n",
       "      <td>15.040614</td>\n",
       "    </tr>\n",
       "    <tr>\n",
       "      <td>13000</td>\n",
       "      <td>1.849500</td>\n",
       "      <td>1.896990</td>\n",
       "      <td>15.636395</td>\n",
       "    </tr>\n",
       "    <tr>\n",
       "      <td>13500</td>\n",
       "      <td>1.862100</td>\n",
       "      <td>1.894871</td>\n",
       "      <td>15.304945</td>\n",
       "    </tr>\n",
       "    <tr>\n",
       "      <td>14000</td>\n",
       "      <td>1.828000</td>\n",
       "      <td>1.893008</td>\n",
       "      <td>15.596334</td>\n",
       "    </tr>\n",
       "    <tr>\n",
       "      <td>14500</td>\n",
       "      <td>1.842600</td>\n",
       "      <td>1.891586</td>\n",
       "      <td>15.173352</td>\n",
       "    </tr>\n",
       "    <tr>\n",
       "      <td>15000</td>\n",
       "      <td>1.849300</td>\n",
       "      <td>1.889993</td>\n",
       "      <td>15.570381</td>\n",
       "    </tr>\n",
       "    <tr>\n",
       "      <td>15500</td>\n",
       "      <td>1.820800</td>\n",
       "      <td>1.888558</td>\n",
       "      <td>15.202734</td>\n",
       "    </tr>\n",
       "    <tr>\n",
       "      <td>16000</td>\n",
       "      <td>1.857000</td>\n",
       "      <td>1.887864</td>\n",
       "      <td>15.499227</td>\n",
       "    </tr>\n",
       "    <tr>\n",
       "      <td>16500</td>\n",
       "      <td>1.841300</td>\n",
       "      <td>1.885806</td>\n",
       "      <td>15.143766</td>\n",
       "    </tr>\n",
       "    <tr>\n",
       "      <td>17000</td>\n",
       "      <td>1.832900</td>\n",
       "      <td>1.884910</td>\n",
       "      <td>15.570427</td>\n",
       "    </tr>\n",
       "    <tr>\n",
       "      <td>17500</td>\n",
       "      <td>1.844600</td>\n",
       "      <td>1.883175</td>\n",
       "      <td>15.209217</td>\n",
       "    </tr>\n",
       "    <tr>\n",
       "      <td>18000</td>\n",
       "      <td>1.843100</td>\n",
       "      <td>1.882484</td>\n",
       "      <td>15.479326</td>\n",
       "    </tr>\n",
       "    <tr>\n",
       "      <td>18500</td>\n",
       "      <td>1.838100</td>\n",
       "      <td>1.881210</td>\n",
       "      <td>15.270429</td>\n",
       "    </tr>\n",
       "    <tr>\n",
       "      <td>19000</td>\n",
       "      <td>1.834500</td>\n",
       "      <td>1.881200</td>\n",
       "      <td>15.757278</td>\n",
       "    </tr>\n",
       "    <tr>\n",
       "      <td>19500</td>\n",
       "      <td>1.846200</td>\n",
       "      <td>1.880324</td>\n",
       "      <td>15.694596</td>\n",
       "    </tr>\n",
       "    <tr>\n",
       "      <td>20000</td>\n",
       "      <td>1.840300</td>\n",
       "      <td>1.878681</td>\n",
       "      <td>15.480365</td>\n",
       "    </tr>\n",
       "    <tr>\n",
       "      <td>20500</td>\n",
       "      <td>1.811100</td>\n",
       "      <td>1.877942</td>\n",
       "      <td>15.480473</td>\n",
       "    </tr>\n",
       "    <tr>\n",
       "      <td>21000</td>\n",
       "      <td>1.828600</td>\n",
       "      <td>1.877295</td>\n",
       "      <td>15.555130</td>\n",
       "    </tr>\n",
       "    <tr>\n",
       "      <td>21500</td>\n",
       "      <td>1.827300</td>\n",
       "      <td>1.876082</td>\n",
       "      <td>15.754500</td>\n",
       "    </tr>\n",
       "    <tr>\n",
       "      <td>22000</td>\n",
       "      <td>1.831200</td>\n",
       "      <td>1.875129</td>\n",
       "      <td>15.425847</td>\n",
       "    </tr>\n",
       "    <tr>\n",
       "      <td>22500</td>\n",
       "      <td>1.803000</td>\n",
       "      <td>1.874995</td>\n",
       "      <td>15.794252</td>\n",
       "    </tr>\n",
       "    <tr>\n",
       "      <td>23000</td>\n",
       "      <td>1.832000</td>\n",
       "      <td>1.874060</td>\n",
       "      <td>15.220963</td>\n",
       "    </tr>\n",
       "    <tr>\n",
       "      <td>23500</td>\n",
       "      <td>1.823900</td>\n",
       "      <td>1.873433</td>\n",
       "      <td>15.487603</td>\n",
       "    </tr>\n",
       "    <tr>\n",
       "      <td>24000</td>\n",
       "      <td>1.817400</td>\n",
       "      <td>1.872465</td>\n",
       "      <td>15.486151</td>\n",
       "    </tr>\n",
       "    <tr>\n",
       "      <td>24500</td>\n",
       "      <td>1.806700</td>\n",
       "      <td>1.871946</td>\n",
       "      <td>15.541627</td>\n",
       "    </tr>\n",
       "    <tr>\n",
       "      <td>25000</td>\n",
       "      <td>1.827800</td>\n",
       "      <td>1.871594</td>\n",
       "      <td>15.859332</td>\n",
       "    </tr>\n",
       "    <tr>\n",
       "      <td>25500</td>\n",
       "      <td>1.826900</td>\n",
       "      <td>1.870914</td>\n",
       "      <td>15.627159</td>\n",
       "    </tr>\n",
       "    <tr>\n",
       "      <td>26000</td>\n",
       "      <td>1.814500</td>\n",
       "      <td>1.870513</td>\n",
       "      <td>15.725639</td>\n",
       "    </tr>\n",
       "    <tr>\n",
       "      <td>26500</td>\n",
       "      <td>1.828600</td>\n",
       "      <td>1.869886</td>\n",
       "      <td>15.709292</td>\n",
       "    </tr>\n",
       "    <tr>\n",
       "      <td>27000</td>\n",
       "      <td>1.824100</td>\n",
       "      <td>1.869701</td>\n",
       "      <td>15.645534</td>\n",
       "    </tr>\n",
       "    <tr>\n",
       "      <td>27500</td>\n",
       "      <td>1.836400</td>\n",
       "      <td>1.868903</td>\n",
       "      <td>15.676379</td>\n",
       "    </tr>\n",
       "    <tr>\n",
       "      <td>28000</td>\n",
       "      <td>1.835600</td>\n",
       "      <td>1.868405</td>\n",
       "      <td>15.702378</td>\n",
       "    </tr>\n",
       "    <tr>\n",
       "      <td>28500</td>\n",
       "      <td>1.820100</td>\n",
       "      <td>1.867609</td>\n",
       "      <td>15.737580</td>\n",
       "    </tr>\n",
       "    <tr>\n",
       "      <td>29000</td>\n",
       "      <td>1.811100</td>\n",
       "      <td>1.867738</td>\n",
       "      <td>15.627540</td>\n",
       "    </tr>\n",
       "    <tr>\n",
       "      <td>29500</td>\n",
       "      <td>1.818500</td>\n",
       "      <td>1.867099</td>\n",
       "      <td>15.706574</td>\n",
       "    </tr>\n",
       "    <tr>\n",
       "      <td>30000</td>\n",
       "      <td>1.838200</td>\n",
       "      <td>1.866860</td>\n",
       "      <td>15.913400</td>\n",
       "    </tr>\n",
       "    <tr>\n",
       "      <td>30500</td>\n",
       "      <td>1.830500</td>\n",
       "      <td>1.866382</td>\n",
       "      <td>15.752416</td>\n",
       "    </tr>\n",
       "    <tr>\n",
       "      <td>31000</td>\n",
       "      <td>1.816200</td>\n",
       "      <td>1.865992</td>\n",
       "      <td>15.583547</td>\n",
       "    </tr>\n",
       "    <tr>\n",
       "      <td>31500</td>\n",
       "      <td>1.821000</td>\n",
       "      <td>1.865626</td>\n",
       "      <td>15.468893</td>\n",
       "    </tr>\n",
       "    <tr>\n",
       "      <td>32000</td>\n",
       "      <td>1.817600</td>\n",
       "      <td>1.864995</td>\n",
       "      <td>15.657429</td>\n",
       "    </tr>\n",
       "    <tr>\n",
       "      <td>32500</td>\n",
       "      <td>1.828100</td>\n",
       "      <td>1.864724</td>\n",
       "      <td>15.747452</td>\n",
       "    </tr>\n",
       "    <tr>\n",
       "      <td>33000</td>\n",
       "      <td>1.824200</td>\n",
       "      <td>1.864433</td>\n",
       "      <td>15.533603</td>\n",
       "    </tr>\n",
       "    <tr>\n",
       "      <td>33500</td>\n",
       "      <td>1.836600</td>\n",
       "      <td>1.864374</td>\n",
       "      <td>15.792580</td>\n",
       "    </tr>\n",
       "    <tr>\n",
       "      <td>34000</td>\n",
       "      <td>1.813800</td>\n",
       "      <td>1.863880</td>\n",
       "      <td>15.788721</td>\n",
       "    </tr>\n",
       "    <tr>\n",
       "      <td>34500</td>\n",
       "      <td>1.823700</td>\n",
       "      <td>1.863731</td>\n",
       "      <td>15.780142</td>\n",
       "    </tr>\n",
       "    <tr>\n",
       "      <td>35000</td>\n",
       "      <td>1.810500</td>\n",
       "      <td>1.863488</td>\n",
       "      <td>15.828980</td>\n",
       "    </tr>\n",
       "    <tr>\n",
       "      <td>35500</td>\n",
       "      <td>1.824600</td>\n",
       "      <td>1.863202</td>\n",
       "      <td>15.902297</td>\n",
       "    </tr>\n",
       "    <tr>\n",
       "      <td>36000</td>\n",
       "      <td>1.810700</td>\n",
       "      <td>1.862995</td>\n",
       "      <td>15.836748</td>\n",
       "    </tr>\n",
       "    <tr>\n",
       "      <td>36500</td>\n",
       "      <td>1.839900</td>\n",
       "      <td>1.862733</td>\n",
       "      <td>15.699549</td>\n",
       "    </tr>\n",
       "    <tr>\n",
       "      <td>37000</td>\n",
       "      <td>1.833100</td>\n",
       "      <td>1.862749</td>\n",
       "      <td>15.880060</td>\n",
       "    </tr>\n",
       "    <tr>\n",
       "      <td>37500</td>\n",
       "      <td>1.822400</td>\n",
       "      <td>1.862276</td>\n",
       "      <td>15.691014</td>\n",
       "    </tr>\n",
       "    <tr>\n",
       "      <td>38000</td>\n",
       "      <td>1.819200</td>\n",
       "      <td>1.862356</td>\n",
       "      <td>15.829747</td>\n",
       "    </tr>\n",
       "    <tr>\n",
       "      <td>38500</td>\n",
       "      <td>1.821500</td>\n",
       "      <td>1.862126</td>\n",
       "      <td>15.766784</td>\n",
       "    </tr>\n",
       "    <tr>\n",
       "      <td>39000</td>\n",
       "      <td>1.814600</td>\n",
       "      <td>1.862185</td>\n",
       "      <td>15.830126</td>\n",
       "    </tr>\n",
       "    <tr>\n",
       "      <td>39500</td>\n",
       "      <td>1.814400</td>\n",
       "      <td>1.861886</td>\n",
       "      <td>15.730723</td>\n",
       "    </tr>\n",
       "    <tr>\n",
       "      <td>40000</td>\n",
       "      <td>1.821500</td>\n",
       "      <td>1.861774</td>\n",
       "      <td>15.693535</td>\n",
       "    </tr>\n",
       "    <tr>\n",
       "      <td>40500</td>\n",
       "      <td>1.830300</td>\n",
       "      <td>1.861956</td>\n",
       "      <td>15.696827</td>\n",
       "    </tr>\n",
       "    <tr>\n",
       "      <td>41000</td>\n",
       "      <td>1.809500</td>\n",
       "      <td>1.861658</td>\n",
       "      <td>15.754978</td>\n",
       "    </tr>\n",
       "    <tr>\n",
       "      <td>41500</td>\n",
       "      <td>1.828600</td>\n",
       "      <td>1.861667</td>\n",
       "      <td>15.730572</td>\n",
       "    </tr>\n",
       "    <tr>\n",
       "      <td>42000</td>\n",
       "      <td>1.811600</td>\n",
       "      <td>1.861526</td>\n",
       "      <td>15.717245</td>\n",
       "    </tr>\n",
       "    <tr>\n",
       "      <td>42500</td>\n",
       "      <td>1.832600</td>\n",
       "      <td>1.861610</td>\n",
       "      <td>15.594452</td>\n",
       "    </tr>\n",
       "    <tr>\n",
       "      <td>43000</td>\n",
       "      <td>1.834000</td>\n",
       "      <td>1.861522</td>\n",
       "      <td>15.657061</td>\n",
       "    </tr>\n",
       "    <tr>\n",
       "      <td>43500</td>\n",
       "      <td>1.810400</td>\n",
       "      <td>1.861531</td>\n",
       "      <td>15.755573</td>\n",
       "    </tr>\n",
       "  </tbody>\n",
       "</table><p>"
      ]
     },
     "metadata": {},
     "output_type": "display_data"
    },
    {
     "name": "stderr",
     "output_type": "stream",
     "text": [
      "/Users/amika/python-global/lib/python3.12/site-packages/torch/utils/data/dataloader.py:683: UserWarning: 'pin_memory' argument is set as true but not supported on MPS now, then device pinned memory won't be used.\n",
      "  warnings.warn(warn_msg)\n",
      "/Users/amika/python-global/lib/python3.12/site-packages/torch/utils/data/dataloader.py:683: UserWarning: 'pin_memory' argument is set as true but not supported on MPS now, then device pinned memory won't be used.\n",
      "  warnings.warn(warn_msg)\n",
      "/Users/amika/python-global/lib/python3.12/site-packages/torch/utils/data/dataloader.py:683: UserWarning: 'pin_memory' argument is set as true but not supported on MPS now, then device pinned memory won't be used.\n",
      "  warnings.warn(warn_msg)\n",
      "/Users/amika/python-global/lib/python3.12/site-packages/torch/utils/data/dataloader.py:683: UserWarning: 'pin_memory' argument is set as true but not supported on MPS now, then device pinned memory won't be used.\n",
      "  warnings.warn(warn_msg)\n",
      "/Users/amika/python-global/lib/python3.12/site-packages/torch/utils/data/dataloader.py:683: UserWarning: 'pin_memory' argument is set as true but not supported on MPS now, then device pinned memory won't be used.\n",
      "  warnings.warn(warn_msg)\n",
      "/Users/amika/python-global/lib/python3.12/site-packages/torch/utils/data/dataloader.py:683: UserWarning: 'pin_memory' argument is set as true but not supported on MPS now, then device pinned memory won't be used.\n",
      "  warnings.warn(warn_msg)\n",
      "/Users/amika/python-global/lib/python3.12/site-packages/torch/utils/data/dataloader.py:683: UserWarning: 'pin_memory' argument is set as true but not supported on MPS now, then device pinned memory won't be used.\n",
      "  warnings.warn(warn_msg)\n",
      "/Users/amika/python-global/lib/python3.12/site-packages/torch/utils/data/dataloader.py:683: UserWarning: 'pin_memory' argument is set as true but not supported on MPS now, then device pinned memory won't be used.\n",
      "  warnings.warn(warn_msg)\n",
      "/Users/amika/python-global/lib/python3.12/site-packages/torch/utils/data/dataloader.py:683: UserWarning: 'pin_memory' argument is set as true but not supported on MPS now, then device pinned memory won't be used.\n",
      "  warnings.warn(warn_msg)\n",
      "/Users/amika/python-global/lib/python3.12/site-packages/torch/utils/data/dataloader.py:683: UserWarning: 'pin_memory' argument is set as true but not supported on MPS now, then device pinned memory won't be used.\n",
      "  warnings.warn(warn_msg)\n",
      "/Users/amika/python-global/lib/python3.12/site-packages/torch/utils/data/dataloader.py:683: UserWarning: 'pin_memory' argument is set as true but not supported on MPS now, then device pinned memory won't be used.\n",
      "  warnings.warn(warn_msg)\n",
      "/Users/amika/python-global/lib/python3.12/site-packages/torch/utils/data/dataloader.py:683: UserWarning: 'pin_memory' argument is set as true but not supported on MPS now, then device pinned memory won't be used.\n",
      "  warnings.warn(warn_msg)\n",
      "/Users/amika/python-global/lib/python3.12/site-packages/torch/utils/data/dataloader.py:683: UserWarning: 'pin_memory' argument is set as true but not supported on MPS now, then device pinned memory won't be used.\n",
      "  warnings.warn(warn_msg)\n",
      "/Users/amika/python-global/lib/python3.12/site-packages/torch/utils/data/dataloader.py:683: UserWarning: 'pin_memory' argument is set as true but not supported on MPS now, then device pinned memory won't be used.\n",
      "  warnings.warn(warn_msg)\n",
      "/Users/amika/python-global/lib/python3.12/site-packages/torch/utils/data/dataloader.py:683: UserWarning: 'pin_memory' argument is set as true but not supported on MPS now, then device pinned memory won't be used.\n",
      "  warnings.warn(warn_msg)\n",
      "/Users/amika/python-global/lib/python3.12/site-packages/torch/utils/data/dataloader.py:683: UserWarning: 'pin_memory' argument is set as true but not supported on MPS now, then device pinned memory won't be used.\n",
      "  warnings.warn(warn_msg)\n",
      "/Users/amika/python-global/lib/python3.12/site-packages/torch/utils/data/dataloader.py:683: UserWarning: 'pin_memory' argument is set as true but not supported on MPS now, then device pinned memory won't be used.\n",
      "  warnings.warn(warn_msg)\n",
      "/Users/amika/python-global/lib/python3.12/site-packages/torch/utils/data/dataloader.py:683: UserWarning: 'pin_memory' argument is set as true but not supported on MPS now, then device pinned memory won't be used.\n",
      "  warnings.warn(warn_msg)\n",
      "/Users/amika/python-global/lib/python3.12/site-packages/torch/utils/data/dataloader.py:683: UserWarning: 'pin_memory' argument is set as true but not supported on MPS now, then device pinned memory won't be used.\n",
      "  warnings.warn(warn_msg)\n",
      "/Users/amika/python-global/lib/python3.12/site-packages/torch/utils/data/dataloader.py:683: UserWarning: 'pin_memory' argument is set as true but not supported on MPS now, then device pinned memory won't be used.\n",
      "  warnings.warn(warn_msg)\n",
      "/Users/amika/python-global/lib/python3.12/site-packages/torch/utils/data/dataloader.py:683: UserWarning: 'pin_memory' argument is set as true but not supported on MPS now, then device pinned memory won't be used.\n",
      "  warnings.warn(warn_msg)\n",
      "/Users/amika/python-global/lib/python3.12/site-packages/torch/utils/data/dataloader.py:683: UserWarning: 'pin_memory' argument is set as true but not supported on MPS now, then device pinned memory won't be used.\n",
      "  warnings.warn(warn_msg)\n",
      "/Users/amika/python-global/lib/python3.12/site-packages/torch/utils/data/dataloader.py:683: UserWarning: 'pin_memory' argument is set as true but not supported on MPS now, then device pinned memory won't be used.\n",
      "  warnings.warn(warn_msg)\n",
      "/Users/amika/python-global/lib/python3.12/site-packages/torch/utils/data/dataloader.py:683: UserWarning: 'pin_memory' argument is set as true but not supported on MPS now, then device pinned memory won't be used.\n",
      "  warnings.warn(warn_msg)\n",
      "/Users/amika/python-global/lib/python3.12/site-packages/torch/utils/data/dataloader.py:683: UserWarning: 'pin_memory' argument is set as true but not supported on MPS now, then device pinned memory won't be used.\n",
      "  warnings.warn(warn_msg)\n",
      "/Users/amika/python-global/lib/python3.12/site-packages/torch/utils/data/dataloader.py:683: UserWarning: 'pin_memory' argument is set as true but not supported on MPS now, then device pinned memory won't be used.\n",
      "  warnings.warn(warn_msg)\n",
      "/Users/amika/python-global/lib/python3.12/site-packages/torch/utils/data/dataloader.py:683: UserWarning: 'pin_memory' argument is set as true but not supported on MPS now, then device pinned memory won't be used.\n",
      "  warnings.warn(warn_msg)\n",
      "/Users/amika/python-global/lib/python3.12/site-packages/torch/utils/data/dataloader.py:683: UserWarning: 'pin_memory' argument is set as true but not supported on MPS now, then device pinned memory won't be used.\n",
      "  warnings.warn(warn_msg)\n",
      "/Users/amika/python-global/lib/python3.12/site-packages/torch/utils/data/dataloader.py:683: UserWarning: 'pin_memory' argument is set as true but not supported on MPS now, then device pinned memory won't be used.\n",
      "  warnings.warn(warn_msg)\n",
      "/Users/amika/python-global/lib/python3.12/site-packages/torch/utils/data/dataloader.py:683: UserWarning: 'pin_memory' argument is set as true but not supported on MPS now, then device pinned memory won't be used.\n",
      "  warnings.warn(warn_msg)\n",
      "/Users/amika/python-global/lib/python3.12/site-packages/torch/utils/data/dataloader.py:683: UserWarning: 'pin_memory' argument is set as true but not supported on MPS now, then device pinned memory won't be used.\n",
      "  warnings.warn(warn_msg)\n",
      "/Users/amika/python-global/lib/python3.12/site-packages/torch/utils/data/dataloader.py:683: UserWarning: 'pin_memory' argument is set as true but not supported on MPS now, then device pinned memory won't be used.\n",
      "  warnings.warn(warn_msg)\n",
      "/Users/amika/python-global/lib/python3.12/site-packages/torch/utils/data/dataloader.py:683: UserWarning: 'pin_memory' argument is set as true but not supported on MPS now, then device pinned memory won't be used.\n",
      "  warnings.warn(warn_msg)\n",
      "/Users/amika/python-global/lib/python3.12/site-packages/torch/utils/data/dataloader.py:683: UserWarning: 'pin_memory' argument is set as true but not supported on MPS now, then device pinned memory won't be used.\n",
      "  warnings.warn(warn_msg)\n",
      "/Users/amika/python-global/lib/python3.12/site-packages/torch/utils/data/dataloader.py:683: UserWarning: 'pin_memory' argument is set as true but not supported on MPS now, then device pinned memory won't be used.\n",
      "  warnings.warn(warn_msg)\n",
      "/Users/amika/python-global/lib/python3.12/site-packages/torch/utils/data/dataloader.py:683: UserWarning: 'pin_memory' argument is set as true but not supported on MPS now, then device pinned memory won't be used.\n",
      "  warnings.warn(warn_msg)\n",
      "/Users/amika/python-global/lib/python3.12/site-packages/torch/utils/data/dataloader.py:683: UserWarning: 'pin_memory' argument is set as true but not supported on MPS now, then device pinned memory won't be used.\n",
      "  warnings.warn(warn_msg)\n",
      "/Users/amika/python-global/lib/python3.12/site-packages/torch/utils/data/dataloader.py:683: UserWarning: 'pin_memory' argument is set as true but not supported on MPS now, then device pinned memory won't be used.\n",
      "  warnings.warn(warn_msg)\n",
      "/Users/amika/python-global/lib/python3.12/site-packages/torch/utils/data/dataloader.py:683: UserWarning: 'pin_memory' argument is set as true but not supported on MPS now, then device pinned memory won't be used.\n",
      "  warnings.warn(warn_msg)\n",
      "/Users/amika/python-global/lib/python3.12/site-packages/torch/utils/data/dataloader.py:683: UserWarning: 'pin_memory' argument is set as true but not supported on MPS now, then device pinned memory won't be used.\n",
      "  warnings.warn(warn_msg)\n",
      "/Users/amika/python-global/lib/python3.12/site-packages/torch/utils/data/dataloader.py:683: UserWarning: 'pin_memory' argument is set as true but not supported on MPS now, then device pinned memory won't be used.\n",
      "  warnings.warn(warn_msg)\n",
      "/Users/amika/python-global/lib/python3.12/site-packages/torch/utils/data/dataloader.py:683: UserWarning: 'pin_memory' argument is set as true but not supported on MPS now, then device pinned memory won't be used.\n",
      "  warnings.warn(warn_msg)\n",
      "/Users/amika/python-global/lib/python3.12/site-packages/torch/utils/data/dataloader.py:683: UserWarning: 'pin_memory' argument is set as true but not supported on MPS now, then device pinned memory won't be used.\n",
      "  warnings.warn(warn_msg)\n",
      "/Users/amika/python-global/lib/python3.12/site-packages/torch/utils/data/dataloader.py:683: UserWarning: 'pin_memory' argument is set as true but not supported on MPS now, then device pinned memory won't be used.\n",
      "  warnings.warn(warn_msg)\n",
      "/Users/amika/python-global/lib/python3.12/site-packages/torch/utils/data/dataloader.py:683: UserWarning: 'pin_memory' argument is set as true but not supported on MPS now, then device pinned memory won't be used.\n",
      "  warnings.warn(warn_msg)\n",
      "/Users/amika/python-global/lib/python3.12/site-packages/torch/utils/data/dataloader.py:683: UserWarning: 'pin_memory' argument is set as true but not supported on MPS now, then device pinned memory won't be used.\n",
      "  warnings.warn(warn_msg)\n",
      "/Users/amika/python-global/lib/python3.12/site-packages/torch/utils/data/dataloader.py:683: UserWarning: 'pin_memory' argument is set as true but not supported on MPS now, then device pinned memory won't be used.\n",
      "  warnings.warn(warn_msg)\n",
      "/Users/amika/python-global/lib/python3.12/site-packages/torch/utils/data/dataloader.py:683: UserWarning: 'pin_memory' argument is set as true but not supported on MPS now, then device pinned memory won't be used.\n",
      "  warnings.warn(warn_msg)\n",
      "/Users/amika/python-global/lib/python3.12/site-packages/torch/utils/data/dataloader.py:683: UserWarning: 'pin_memory' argument is set as true but not supported on MPS now, then device pinned memory won't be used.\n",
      "  warnings.warn(warn_msg)\n",
      "/Users/amika/python-global/lib/python3.12/site-packages/torch/utils/data/dataloader.py:683: UserWarning: 'pin_memory' argument is set as true but not supported on MPS now, then device pinned memory won't be used.\n",
      "  warnings.warn(warn_msg)\n",
      "/Users/amika/python-global/lib/python3.12/site-packages/torch/utils/data/dataloader.py:683: UserWarning: 'pin_memory' argument is set as true but not supported on MPS now, then device pinned memory won't be used.\n",
      "  warnings.warn(warn_msg)\n",
      "/Users/amika/python-global/lib/python3.12/site-packages/torch/utils/data/dataloader.py:683: UserWarning: 'pin_memory' argument is set as true but not supported on MPS now, then device pinned memory won't be used.\n",
      "  warnings.warn(warn_msg)\n",
      "/Users/amika/python-global/lib/python3.12/site-packages/torch/utils/data/dataloader.py:683: UserWarning: 'pin_memory' argument is set as true but not supported on MPS now, then device pinned memory won't be used.\n",
      "  warnings.warn(warn_msg)\n",
      "/Users/amika/python-global/lib/python3.12/site-packages/torch/utils/data/dataloader.py:683: UserWarning: 'pin_memory' argument is set as true but not supported on MPS now, then device pinned memory won't be used.\n",
      "  warnings.warn(warn_msg)\n",
      "/Users/amika/python-global/lib/python3.12/site-packages/torch/utils/data/dataloader.py:683: UserWarning: 'pin_memory' argument is set as true but not supported on MPS now, then device pinned memory won't be used.\n",
      "  warnings.warn(warn_msg)\n",
      "/Users/amika/python-global/lib/python3.12/site-packages/torch/utils/data/dataloader.py:683: UserWarning: 'pin_memory' argument is set as true but not supported on MPS now, then device pinned memory won't be used.\n",
      "  warnings.warn(warn_msg)\n",
      "/Users/amika/python-global/lib/python3.12/site-packages/torch/utils/data/dataloader.py:683: UserWarning: 'pin_memory' argument is set as true but not supported on MPS now, then device pinned memory won't be used.\n",
      "  warnings.warn(warn_msg)\n",
      "/Users/amika/python-global/lib/python3.12/site-packages/torch/utils/data/dataloader.py:683: UserWarning: 'pin_memory' argument is set as true but not supported on MPS now, then device pinned memory won't be used.\n",
      "  warnings.warn(warn_msg)\n",
      "/Users/amika/python-global/lib/python3.12/site-packages/torch/utils/data/dataloader.py:683: UserWarning: 'pin_memory' argument is set as true but not supported on MPS now, then device pinned memory won't be used.\n",
      "  warnings.warn(warn_msg)\n",
      "/Users/amika/python-global/lib/python3.12/site-packages/torch/utils/data/dataloader.py:683: UserWarning: 'pin_memory' argument is set as true but not supported on MPS now, then device pinned memory won't be used.\n",
      "  warnings.warn(warn_msg)\n",
      "/Users/amika/python-global/lib/python3.12/site-packages/torch/utils/data/dataloader.py:683: UserWarning: 'pin_memory' argument is set as true but not supported on MPS now, then device pinned memory won't be used.\n",
      "  warnings.warn(warn_msg)\n",
      "/Users/amika/python-global/lib/python3.12/site-packages/torch/utils/data/dataloader.py:683: UserWarning: 'pin_memory' argument is set as true but not supported on MPS now, then device pinned memory won't be used.\n",
      "  warnings.warn(warn_msg)\n",
      "/Users/amika/python-global/lib/python3.12/site-packages/torch/utils/data/dataloader.py:683: UserWarning: 'pin_memory' argument is set as true but not supported on MPS now, then device pinned memory won't be used.\n",
      "  warnings.warn(warn_msg)\n",
      "/Users/amika/python-global/lib/python3.12/site-packages/torch/utils/data/dataloader.py:683: UserWarning: 'pin_memory' argument is set as true but not supported on MPS now, then device pinned memory won't be used.\n",
      "  warnings.warn(warn_msg)\n",
      "/Users/amika/python-global/lib/python3.12/site-packages/torch/utils/data/dataloader.py:683: UserWarning: 'pin_memory' argument is set as true but not supported on MPS now, then device pinned memory won't be used.\n",
      "  warnings.warn(warn_msg)\n",
      "/Users/amika/python-global/lib/python3.12/site-packages/torch/utils/data/dataloader.py:683: UserWarning: 'pin_memory' argument is set as true but not supported on MPS now, then device pinned memory won't be used.\n",
      "  warnings.warn(warn_msg)\n",
      "/Users/amika/python-global/lib/python3.12/site-packages/torch/utils/data/dataloader.py:683: UserWarning: 'pin_memory' argument is set as true but not supported on MPS now, then device pinned memory won't be used.\n",
      "  warnings.warn(warn_msg)\n",
      "/Users/amika/python-global/lib/python3.12/site-packages/torch/utils/data/dataloader.py:683: UserWarning: 'pin_memory' argument is set as true but not supported on MPS now, then device pinned memory won't be used.\n",
      "  warnings.warn(warn_msg)\n",
      "/Users/amika/python-global/lib/python3.12/site-packages/torch/utils/data/dataloader.py:683: UserWarning: 'pin_memory' argument is set as true but not supported on MPS now, then device pinned memory won't be used.\n",
      "  warnings.warn(warn_msg)\n",
      "/Users/amika/python-global/lib/python3.12/site-packages/torch/utils/data/dataloader.py:683: UserWarning: 'pin_memory' argument is set as true but not supported on MPS now, then device pinned memory won't be used.\n",
      "  warnings.warn(warn_msg)\n",
      "/Users/amika/python-global/lib/python3.12/site-packages/torch/utils/data/dataloader.py:683: UserWarning: 'pin_memory' argument is set as true but not supported on MPS now, then device pinned memory won't be used.\n",
      "  warnings.warn(warn_msg)\n",
      "/Users/amika/python-global/lib/python3.12/site-packages/torch/utils/data/dataloader.py:683: UserWarning: 'pin_memory' argument is set as true but not supported on MPS now, then device pinned memory won't be used.\n",
      "  warnings.warn(warn_msg)\n",
      "/Users/amika/python-global/lib/python3.12/site-packages/torch/utils/data/dataloader.py:683: UserWarning: 'pin_memory' argument is set as true but not supported on MPS now, then device pinned memory won't be used.\n",
      "  warnings.warn(warn_msg)\n",
      "/Users/amika/python-global/lib/python3.12/site-packages/torch/utils/data/dataloader.py:683: UserWarning: 'pin_memory' argument is set as true but not supported on MPS now, then device pinned memory won't be used.\n",
      "  warnings.warn(warn_msg)\n",
      "/Users/amika/python-global/lib/python3.12/site-packages/torch/utils/data/dataloader.py:683: UserWarning: 'pin_memory' argument is set as true but not supported on MPS now, then device pinned memory won't be used.\n",
      "  warnings.warn(warn_msg)\n",
      "/Users/amika/python-global/lib/python3.12/site-packages/torch/utils/data/dataloader.py:683: UserWarning: 'pin_memory' argument is set as true but not supported on MPS now, then device pinned memory won't be used.\n",
      "  warnings.warn(warn_msg)\n",
      "/Users/amika/python-global/lib/python3.12/site-packages/torch/utils/data/dataloader.py:683: UserWarning: 'pin_memory' argument is set as true but not supported on MPS now, then device pinned memory won't be used.\n",
      "  warnings.warn(warn_msg)\n",
      "/Users/amika/python-global/lib/python3.12/site-packages/torch/utils/data/dataloader.py:683: UserWarning: 'pin_memory' argument is set as true but not supported on MPS now, then device pinned memory won't be used.\n",
      "  warnings.warn(warn_msg)\n",
      "/Users/amika/python-global/lib/python3.12/site-packages/torch/utils/data/dataloader.py:683: UserWarning: 'pin_memory' argument is set as true but not supported on MPS now, then device pinned memory won't be used.\n",
      "  warnings.warn(warn_msg)\n",
      "/Users/amika/python-global/lib/python3.12/site-packages/torch/utils/data/dataloader.py:683: UserWarning: 'pin_memory' argument is set as true but not supported on MPS now, then device pinned memory won't be used.\n",
      "  warnings.warn(warn_msg)\n",
      "/Users/amika/python-global/lib/python3.12/site-packages/torch/utils/data/dataloader.py:683: UserWarning: 'pin_memory' argument is set as true but not supported on MPS now, then device pinned memory won't be used.\n",
      "  warnings.warn(warn_msg)\n",
      "/Users/amika/python-global/lib/python3.12/site-packages/torch/utils/data/dataloader.py:683: UserWarning: 'pin_memory' argument is set as true but not supported on MPS now, then device pinned memory won't be used.\n",
      "  warnings.warn(warn_msg)\n",
      "/Users/amika/python-global/lib/python3.12/site-packages/torch/utils/data/dataloader.py:683: UserWarning: 'pin_memory' argument is set as true but not supported on MPS now, then device pinned memory won't be used.\n",
      "  warnings.warn(warn_msg)\n",
      "/Users/amika/python-global/lib/python3.12/site-packages/torch/utils/data/dataloader.py:683: UserWarning: 'pin_memory' argument is set as true but not supported on MPS now, then device pinned memory won't be used.\n",
      "  warnings.warn(warn_msg)\n",
      "/Users/amika/python-global/lib/python3.12/site-packages/torch/utils/data/dataloader.py:683: UserWarning: 'pin_memory' argument is set as true but not supported on MPS now, then device pinned memory won't be used.\n",
      "  warnings.warn(warn_msg)\n",
      "/Users/amika/python-global/lib/python3.12/site-packages/torch/utils/data/dataloader.py:683: UserWarning: 'pin_memory' argument is set as true but not supported on MPS now, then device pinned memory won't be used.\n",
      "  warnings.warn(warn_msg)\n"
     ]
    },
    {
     "data": {
      "text/plain": [
       "TrainOutput(global_step=43750, training_loss=1.8814152512904576, metrics={'train_runtime': 30507.1638, 'train_samples_per_second': 22.945, 'train_steps_per_second': 1.434, 'total_flos': 2.38874001408e+16, 'train_loss': 1.8814152512904576, 'epoch': 7.0})"
      ]
     },
     "execution_count": 69,
     "metadata": {},
     "output_type": "execute_result"
    }
   ],
   "execution_count": 69
  },
  {
   "metadata": {
    "ExecuteTime": {
     "end_time": "2025-06-01T10:08:12.503934Z",
     "start_time": "2025-06-01T10:08:12.501669Z"
    }
   },
   "cell_type": "code",
   "source": [
    "best_bleu_3 = trainer_3.state.best_metric\n",
    "print(f\"{exp_name_3} → BEST BLEU: {best_bleu_3:.2f}\")"
   ],
   "id": "a4156a4423f72eff",
   "outputs": [
    {
     "name": "stdout",
     "output_type": "stream",
     "text": [
      "helsinki_train100k_ep7_r8_len128 → BEST BLEU: 29.07\n"
     ]
    }
   ],
   "execution_count": 70
  },
  {
   "metadata": {
    "ExecuteTime": {
     "end_time": "2025-06-01T10:08:12.846080Z",
     "start_time": "2025-06-01T10:08:12.527570Z"
    }
   },
   "cell_type": "code",
   "source": [
    "adapter_dir_3 = os.path.join(output_dir_3, \"lora_adapter\")\n",
    "save_lora_adapter(model, adapter_dir_3)"
   ],
   "id": "b7bb8d1eaf936d6d",
   "outputs": [],
   "execution_count": 71
  },
  {
   "metadata": {},
   "cell_type": "markdown",
   "source": "### Podsumowanie wyników eksperymentów",
   "id": "5a13e550733a1071"
  },
  {
   "metadata": {
    "ExecuteTime": {
     "end_time": "2025-06-01T12:52:26.063665Z",
     "start_time": "2025-06-01T12:52:26.055580Z"
    }
   },
   "cell_type": "code",
   "source": [
    "import pandas as pd\n",
    "\n",
    "results_table = [\n",
    "    {\"experiment\": exp_name_1, \"BLEU\": best_bleu_1},\n",
    "    {\"experiment\": exp_name_2, \"BLEU\": best_bleu_2},\n",
    "    {\"experiment\": exp_name_3, \"BLEU\": best_bleu_3},\n",
    "]\n",
    "df_results = pd.DataFrame(results_table)\n",
    "df_results"
   ],
   "id": "6f28b460ea1779ab",
   "outputs": [
    {
     "data": {
      "text/plain": [
       "                         experiment       BLEU\n",
       "0   helsinki_train20k_ep3_r8_len128  29.233314\n",
       "1   helsinki_train20k_ep7_r8_len128  29.102469\n",
       "2  helsinki_train100k_ep7_r8_len128  29.073688"
      ],
      "text/html": [
       "<div>\n",
       "<style scoped>\n",
       "    .dataframe tbody tr th:only-of-type {\n",
       "        vertical-align: middle;\n",
       "    }\n",
       "\n",
       "    .dataframe tbody tr th {\n",
       "        vertical-align: top;\n",
       "    }\n",
       "\n",
       "    .dataframe thead th {\n",
       "        text-align: right;\n",
       "    }\n",
       "</style>\n",
       "<table border=\"1\" class=\"dataframe\">\n",
       "  <thead>\n",
       "    <tr style=\"text-align: right;\">\n",
       "      <th></th>\n",
       "      <th>experiment</th>\n",
       "      <th>BLEU</th>\n",
       "    </tr>\n",
       "  </thead>\n",
       "  <tbody>\n",
       "    <tr>\n",
       "      <th>0</th>\n",
       "      <td>helsinki_train20k_ep3_r8_len128</td>\n",
       "      <td>29.233314</td>\n",
       "    </tr>\n",
       "    <tr>\n",
       "      <th>1</th>\n",
       "      <td>helsinki_train20k_ep7_r8_len128</td>\n",
       "      <td>29.102469</td>\n",
       "    </tr>\n",
       "    <tr>\n",
       "      <th>2</th>\n",
       "      <td>helsinki_train100k_ep7_r8_len128</td>\n",
       "      <td>29.073688</td>\n",
       "    </tr>\n",
       "  </tbody>\n",
       "</table>\n",
       "</div>"
      ]
     },
     "execution_count": 152,
     "metadata": {},
     "output_type": "execute_result"
    }
   ],
   "execution_count": 152
  },
  {
   "metadata": {
    "ExecuteTime": {
     "end_time": "2025-06-01T13:08:16.412400Z",
     "start_time": "2025-06-01T13:08:16.365256Z"
    }
   },
   "cell_type": "code",
   "source": [
    "plt.figure(figsize=(8, 4))\n",
    "plt.bar(df_results[\"experiment\"], df_results[\"BLEU\"], color=\"skyblue\")\n",
    "plt.xticks(rotation=45, ha=\"right\")\n",
    "plt.ylabel(\"BLEU\")\n",
    "plt.title(\"Porównanie najlepszych BLEU dla poszczególnych eksperymentów\")\n",
    "plt.tight_layout()\n",
    "plt.show()"
   ],
   "id": "b4f6fb1060d1ec91",
   "outputs": [
    {
     "data": {
      "text/plain": [
       "<Figure size 800x400 with 1 Axes>"
      ],
      "image/png": "[encoded data removed]"
     },
     "metadata": {},
     "output_type": "display_data"
    }
   ],
   "execution_count": 162
  },
  {
   "metadata": {
    "ExecuteTime": {
     "end_time": "2025-06-01T13:08:20.787160Z",
     "start_time": "2025-06-01T13:08:20.778404Z"
    }
   },
   "cell_type": "code",
   "source": [
    "def extract_loss_history(trainer):\n",
    "    \"\"\"\n",
    "    Z obiektu Trainer wyciąga listę słowników 'log_history',\n",
    "    filtruje wpisy, które mają klucze 'loss' (trening) i 'eval_loss' (validation).\n",
    "    Zwraca dwa DataFrame'y: jeden z loss, drugi z eval_loss.\n",
    "    \"\"\"\n",
    "    history = trainer.state.log_history  # lista słowników\n",
    "\n",
    "    train_entries = [entry for entry in history if \"loss\" in entry and \"epoch\" in entry]\n",
    "\n",
    "    eval_entries = [entry for entry in history if \"eval_loss\" in entry]\n",
    "\n",
    "    df_train = pd.DataFrame(train_entries)[[\"step\", \"epoch\", \"loss\"]].dropna().reset_index(drop=True)\n",
    "    df_eval = pd.DataFrame(eval_entries)[[\"step\", \"epoch\", \"eval_loss\"]].dropna().reset_index(drop=True)\n",
    "    return df_train, df_eval\n",
    "\n",
    "train_hist_1, eval_hist_1 = extract_loss_history(trainer_1)\n",
    "train_hist_2, eval_hist_2 = extract_loss_history(trainer_2)\n",
    "train_hist_3, eval_hist_3 = extract_loss_history(trainer_3)"
   ],
   "id": "bf02526108427126",
   "outputs": [],
   "execution_count": 163
  },
  {
   "metadata": {
    "ExecuteTime": {
     "end_time": "2025-06-01T13:08:26.862512Z",
     "start_time": "2025-06-01T13:08:26.798666Z"
    }
   },
   "cell_type": "code",
   "source": [
    "plt.figure(figsize=(8, 5))\n",
    "plt.plot(train_hist_1[\"step\"], train_hist_1[\"loss\"], label=exp_name_1)\n",
    "plt.plot(train_hist_2[\"step\"], train_hist_2[\"loss\"], label=exp_name_2)\n",
    "plt.plot(train_hist_3[\"step\"], train_hist_3[\"loss\"], label=exp_name_3)\n",
    "plt.xlabel(\"Step\")\n",
    "plt.ylabel(\"Training Loss\")\n",
    "plt.title(\"Training Loss w zależności od kroku treningowego\")\n",
    "plt.legend()\n",
    "plt.tight_layout()\n",
    "plt.show()"
   ],
   "id": "5e2d72e91528e68a",
   "outputs": [
    {
     "data": {
      "text/plain": [
       "<Figure size 800x500 with 1 Axes>"
      ],
      "image/png": "[encoded data removed]"
     },
     "metadata": {},
     "output_type": "display_data"
    }
   ],
   "execution_count": 164
  },
  {
   "metadata": {
    "ExecuteTime": {
     "end_time": "2025-06-01T13:08:27.053354Z",
     "start_time": "2025-06-01T13:08:26.981243Z"
    }
   },
   "cell_type": "code",
   "source": [
    "plt.figure(figsize=(8, 5))\n",
    "plt.plot(eval_hist_1[\"step\"], eval_hist_1[\"eval_loss\"], marker=\"o\", linestyle=\"--\", label=exp_name_1)\n",
    "plt.plot(eval_hist_2[\"step\"], eval_hist_2[\"eval_loss\"], marker=\"o\", linestyle=\"--\", label=exp_name_2)\n",
    "plt.plot(eval_hist_3[\"step\"], eval_hist_3[\"eval_loss\"], marker=\"o\", linestyle=\"--\", label=exp_name_3)\n",
    "plt.xlabel(\"Step\")\n",
    "plt.ylabel(\"Validation Loss\")\n",
    "plt.title(\"Validation Loss w zależności od kroku ewaluacji\")\n",
    "plt.legend()\n",
    "plt.tight_layout()\n",
    "plt.show()"
   ],
   "id": "d590860c9cc3f810",
   "outputs": [
    {
     "data": {
      "text/plain": [
       "<Figure size 800x500 with 1 Axes>"
      ],
      "image/png": "[encoded data removed]"
     },
     "metadata": {},
     "output_type": "display_data"
    }
   ],
   "execution_count": 165
  },
  {
   "metadata": {
    "ExecuteTime": {
     "end_time": "2025-06-01T13:08:27.356560Z",
     "start_time": "2025-06-01T13:08:27.229556Z"
    }
   },
   "cell_type": "code",
   "source": [
    "plt.figure(figsize=(12, 4))\n",
    "\n",
    "plt.subplot(1, 3, 1)\n",
    "plt.plot(train_hist_1[\"step\"], train_hist_1[\"loss\"], label=\"train_loss\", color=\"tab:blue\")\n",
    "plt.plot(eval_hist_1[\"step\"], eval_hist_1[\"eval_loss\"], label=\"val_loss\", color=\"tab:orange\", linestyle=\"--\", marker=\"o\")\n",
    "plt.title(exp_name_1)\n",
    "plt.xlabel(\"Step\")\n",
    "plt.ylabel(\"Loss\")\n",
    "plt.legend()\n",
    "\n",
    "plt.subplot(1, 3, 2)\n",
    "plt.plot(train_hist_2[\"step\"], train_hist_2[\"loss\"], label=\"train_loss\", color=\"tab:blue\")\n",
    "plt.plot(eval_hist_2[\"step\"], eval_hist_2[\"eval_loss\"], label=\"val_loss\", color=\"tab:orange\", linestyle=\"--\", marker=\"o\")\n",
    "plt.title(exp_name_2)\n",
    "plt.xlabel(\"Step\")\n",
    "plt.legend()\n",
    "\n",
    "plt.subplot(1, 3, 3)\n",
    "plt.plot(train_hist_3[\"step\"], train_hist_3[\"loss\"], label=\"train_loss\", color=\"tab:blue\")\n",
    "plt.plot(eval_hist_3[\"step\"], eval_hist_3[\"eval_loss\"], label=\"val_loss\", color=\"tab:orange\", linestyle=\"--\", marker=\"o\")\n",
    "plt.title(exp_name_3)\n",
    "plt.xlabel(\"Step\")\n",
    "plt.legend()\n",
    "\n",
    "plt.tight_layout()\n",
    "plt.show()"
   ],
   "id": "688728115ce80cd5",
   "outputs": [
    {
     "data": {
      "text/plain": [
       "<Figure size 1200x400 with 3 Axes>"
      ],
      "image/png": "[encoded data removed]"
     },
     "metadata": {},
     "output_type": "display_data"
    }
   ],
   "execution_count": 166
  },
  {
   "metadata": {},
   "cell_type": "markdown",
   "source": [
    "Wykonaliśmy trzy główne eksperymenty z LoRA na modelu `Helsinki-NLP/opus-mt-pl-en`, różniące się głównie:\n",
    "1. `helsinki_train20k_ep3_r8_len128` – 20 000 próbek, 3 epoki, r=8, max_len=128.\n",
    "    - Najwyższe BLEU: ~29.23\n",
    "    - Trend: zauważalny spadek training loss w kolejnych krokach, validation loss stabilizuje się w okolicy etapu 2k–3k.\n",
    "2. `helsinki_train20k_ep7_r8_len128` – 20 000 próbek, 7 epok, r=8, max_len=128.\n",
    "    - Najwyższe BLEU: ~29.10\n",
    "    - Trend: dodatkowe epoki niewiele wnoszą, validation BLEU zaczyna spadać po etapie 4k, co może sugerować lekkie przeuczenie.\n",
    "3. `helsinki_train100k_ep7_r8_len128` – 100 000 próbek, 7 epok, r=8, max_len=128.\n",
    "    - Najwyższe BLEU: ~29.07\n",
    "    - Trend: większa ilość danych spowodowała nieco wolniejszy spadek training loss, a validation loss osiągnął plateau nieco niżej niż w mniejszym zbiorze, ale najlepsze BLEU pozostaje porównywalne.\n",
    "\n",
    "Na wykresach słupkowych widać, że wszystkie trzy konfiguracje osiągają bardzo zbliżone maksymalne BLEU (około 29).\n",
    "Z kolei wykresy strat (loss) pokazują, że model trenujący na 100 k próbkach ma wolniejszą ścieżkę uczenia (loss spada wolniej), ale stabilizuje się na podobnym poziomie co wersje z 20 k.\n",
    "\n",
    "Który model wybrać do dalszego użytku?\n",
    "Wszystkie trzy eksperymenty osiągają bardzo podobne BLEU (~29). Z punktu widzenia wydajności (mniejszy zbiór + 3 epoki) najbardziej efektywny jest eksperyment `helsinki_train20k_ep3_r8_len128`: trenowanie trwa najszybciej, a BLEU jest minimalnie wyższe niż w pozostałych wariantach.\n",
    "\n",
    "W przyszłości można zbadać dodatkowe warianty – np. inne modele bazowe (np. `facebook/m2m100_418M` czy `T5`), różne wartości `r` dla LoRA albo inne hiperparametry jak `learning_rate` i `lora_dropout`, jednak w naszych trzech próbkach różnice okazały się niewielkie."
   ],
   "id": "e30809c464bb5ad"
  }
 ],
 "metadata": {
  "kernelspec": {
   "display_name": "Python 3",
   "language": "python",
   "name": "python3"
  },
  "language_info": {
   "codemirror_mode": {
    "name": "ipython",
    "version": 2
   },
   "file_extension": ".py",
   "mimetype": "text/x-python",
   "name": "python",
   "nbconvert_exporter": "python",
   "pygments_lexer": "ipython2",
   "version": "2.7.6"
  }
 },
 "nbformat": 4,
 "nbformat_minor": 5
}
