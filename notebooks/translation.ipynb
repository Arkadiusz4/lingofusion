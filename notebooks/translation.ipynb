{
 "cells": [
  {
   "cell_type": "code",
   "id": "initial_id",
   "metadata": {
    "collapsed": true,
    "ExecuteTime": {
     "end_time": "2025-05-30T10:25:16.099472Z",
     "start_time": "2025-05-30T10:25:15.439015Z"
    }
   },
   "source": [
    "# %% [markdown]\n",
    "# # Fine-tuning modelu tłumaczenia PL→EN z wykorzystaniem LoRA\n",
    "#\n",
    "# W tym notebooku:\n",
    "# 1. Instalujemy potrzebne paczki\n",
    "# 2. Ładujemy dane (WMT16 PL–EN)\n",
    "# 3. Tworzymy tokenizer i model\n",
    "# 4. Konfigurujemy LoRA (PEFT)\n",
    "# 5. Przygotowujemy dane (tokenizacja)\n",
    "# 6. Definiujemy Trainer i trenujemy\n",
    "# 7. Zapisujemy model i testujemy inferencję\n",
    "\n",
    "# %%\n",
    "# ### 1. Instalacja pakietów\n",
    "!pip install transformers datasets accelerate peft sacrebleu sentencepiece"
   ],
   "outputs": [
    {
     "name": "stdout",
     "output_type": "stream",
     "text": [
      "Requirement already satisfied: transformers in /Users/amika/python-global/lib/python3.12/site-packages (4.52.3)\r\n",
      "Requirement already satisfied: datasets in /Users/amika/python-global/lib/python3.12/site-packages (3.6.0)\r\n",
      "Requirement already satisfied: accelerate in /Users/amika/python-global/lib/python3.12/site-packages (1.7.0)\r\n",
      "Requirement already satisfied: peft in /Users/amika/python-global/lib/python3.12/site-packages (0.15.2)\r\n",
      "Requirement already satisfied: sacrebleu in /Users/amika/python-global/lib/python3.12/site-packages (2.5.1)\r\n",
      "Requirement already satisfied: sentencepiece in /Users/amika/python-global/lib/python3.12/site-packages (0.2.0)\r\n",
      "Requirement already satisfied: filelock in /Users/amika/python-global/lib/python3.12/site-packages (from transformers) (3.17.0)\r\n",
      "Requirement already satisfied: huggingface-hub<1.0,>=0.30.0 in /Users/amika/python-global/lib/python3.12/site-packages (from transformers) (0.31.2)\r\n",
      "Requirement already satisfied: numpy>=1.17 in /Users/amika/python-global/lib/python3.12/site-packages (from transformers) (1.26.4)\r\n",
      "Requirement already satisfied: packaging>=20.0 in /Users/amika/python-global/lib/python3.12/site-packages (from transformers) (24.2)\r\n",
      "Requirement already satisfied: pyyaml>=5.1 in /Users/amika/python-global/lib/python3.12/site-packages (from transformers) (6.0.2)\r\n",
      "Requirement already satisfied: regex!=2019.12.17 in /Users/amika/python-global/lib/python3.12/site-packages (from transformers) (2024.11.6)\r\n",
      "Requirement already satisfied: requests in /Users/amika/python-global/lib/python3.12/site-packages (from transformers) (2.32.3)\r\n",
      "Requirement already satisfied: tokenizers<0.22,>=0.21 in /Users/amika/python-global/lib/python3.12/site-packages (from transformers) (0.21.1)\r\n",
      "Requirement already satisfied: safetensors>=0.4.3 in /Users/amika/python-global/lib/python3.12/site-packages (from transformers) (0.5.3)\r\n",
      "Requirement already satisfied: tqdm>=4.27 in /Users/amika/python-global/lib/python3.12/site-packages (from transformers) (4.67.1)\r\n",
      "Requirement already satisfied: fsspec>=2023.5.0 in /Users/amika/python-global/lib/python3.12/site-packages (from huggingface-hub<1.0,>=0.30.0->transformers) (2025.2.0)\r\n",
      "Requirement already satisfied: typing-extensions>=3.7.4.3 in /Users/amika/python-global/lib/python3.12/site-packages (from huggingface-hub<1.0,>=0.30.0->transformers) (4.13.2)\r\n",
      "Requirement already satisfied: pyarrow>=15.0.0 in /Users/amika/python-global/lib/python3.12/site-packages (from datasets) (20.0.0)\r\n",
      "Requirement already satisfied: dill<0.3.9,>=0.3.0 in /Users/amika/python-global/lib/python3.12/site-packages (from datasets) (0.3.8)\r\n",
      "Requirement already satisfied: pandas in /Users/amika/python-global/lib/python3.12/site-packages (from datasets) (2.2.3)\r\n",
      "Requirement already satisfied: xxhash in /Users/amika/python-global/lib/python3.12/site-packages (from datasets) (3.5.0)\r\n",
      "Requirement already satisfied: multiprocess<0.70.17 in /Users/amika/python-global/lib/python3.12/site-packages (from datasets) (0.70.16)\r\n",
      "Requirement already satisfied: aiohttp!=4.0.0a0,!=4.0.0a1 in /Users/amika/python-global/lib/python3.12/site-packages (from fsspec[http]<=2025.3.0,>=2023.1.0->datasets) (3.11.18)\r\n",
      "Requirement already satisfied: psutil in /Users/amika/python-global/lib/python3.12/site-packages (from accelerate) (7.0.0)\r\n",
      "Requirement already satisfied: torch>=2.0.0 in /Users/amika/python-global/lib/python3.12/site-packages (from accelerate) (2.7.0)\r\n",
      "Requirement already satisfied: portalocker in /Users/amika/python-global/lib/python3.12/site-packages (from sacrebleu) (3.1.1)\r\n",
      "Requirement already satisfied: tabulate>=0.8.9 in /Users/amika/python-global/lib/python3.12/site-packages (from sacrebleu) (0.9.0)\r\n",
      "Requirement already satisfied: colorama in /Users/amika/python-global/lib/python3.12/site-packages (from sacrebleu) (0.4.6)\r\n",
      "Requirement already satisfied: lxml in /Users/amika/python-global/lib/python3.12/site-packages (from sacrebleu) (5.4.0)\r\n",
      "Requirement already satisfied: aiohappyeyeballs>=2.3.0 in /Users/amika/python-global/lib/python3.12/site-packages (from aiohttp!=4.0.0a0,!=4.0.0a1->fsspec[http]<=2025.3.0,>=2023.1.0->datasets) (2.6.1)\r\n",
      "Requirement already satisfied: aiosignal>=1.1.2 in /Users/amika/python-global/lib/python3.12/site-packages (from aiohttp!=4.0.0a0,!=4.0.0a1->fsspec[http]<=2025.3.0,>=2023.1.0->datasets) (1.3.2)\r\n",
      "Requirement already satisfied: attrs>=17.3.0 in /Users/amika/python-global/lib/python3.12/site-packages (from aiohttp!=4.0.0a0,!=4.0.0a1->fsspec[http]<=2025.3.0,>=2023.1.0->datasets) (25.1.0)\r\n",
      "Requirement already satisfied: frozenlist>=1.1.1 in /Users/amika/python-global/lib/python3.12/site-packages (from aiohttp!=4.0.0a0,!=4.0.0a1->fsspec[http]<=2025.3.0,>=2023.1.0->datasets) (1.6.0)\r\n",
      "Requirement already satisfied: multidict<7.0,>=4.5 in /Users/amika/python-global/lib/python3.12/site-packages (from aiohttp!=4.0.0a0,!=4.0.0a1->fsspec[http]<=2025.3.0,>=2023.1.0->datasets) (6.4.3)\r\n",
      "Requirement already satisfied: propcache>=0.2.0 in /Users/amika/python-global/lib/python3.12/site-packages (from aiohttp!=4.0.0a0,!=4.0.0a1->fsspec[http]<=2025.3.0,>=2023.1.0->datasets) (0.3.1)\r\n",
      "Requirement already satisfied: yarl<2.0,>=1.17.0 in /Users/amika/python-global/lib/python3.12/site-packages (from aiohttp!=4.0.0a0,!=4.0.0a1->fsspec[http]<=2025.3.0,>=2023.1.0->datasets) (1.20.0)\r\n",
      "Requirement already satisfied: idna>=2.0 in /Users/amika/python-global/lib/python3.12/site-packages (from yarl<2.0,>=1.17.0->aiohttp!=4.0.0a0,!=4.0.0a1->fsspec[http]<=2025.3.0,>=2023.1.0->datasets) (3.10)\r\n",
      "Requirement already satisfied: charset-normalizer<4,>=2 in /Users/amika/python-global/lib/python3.12/site-packages (from requests->transformers) (3.4.1)\r\n",
      "Requirement already satisfied: urllib3<3,>=1.21.1 in /Users/amika/python-global/lib/python3.12/site-packages (from requests->transformers) (2.4.0)\r\n",
      "Requirement already satisfied: certifi>=2017.4.17 in /Users/amika/python-global/lib/python3.12/site-packages (from requests->transformers) (2025.1.31)\r\n",
      "Requirement already satisfied: setuptools in /Users/amika/python-global/lib/python3.12/site-packages (from torch>=2.0.0->accelerate) (75.8.2)\r\n",
      "Requirement already satisfied: sympy>=1.13.3 in /Users/amika/python-global/lib/python3.12/site-packages (from torch>=2.0.0->accelerate) (1.14.0)\r\n",
      "Requirement already satisfied: networkx in /Users/amika/python-global/lib/python3.12/site-packages (from torch>=2.0.0->accelerate) (3.4.2)\r\n",
      "Requirement already satisfied: jinja2 in /Users/amika/python-global/lib/python3.12/site-packages (from torch>=2.0.0->accelerate) (3.1.5)\r\n",
      "Requirement already satisfied: mpmath<1.4,>=1.1.0 in /Users/amika/python-global/lib/python3.12/site-packages (from sympy>=1.13.3->torch>=2.0.0->accelerate) (1.3.0)\r\n",
      "Requirement already satisfied: MarkupSafe>=2.0 in /Users/amika/python-global/lib/python3.12/site-packages (from jinja2->torch>=2.0.0->accelerate) (3.0.2)\r\n",
      "Requirement already satisfied: python-dateutil>=2.8.2 in /Users/amika/python-global/lib/python3.12/site-packages (from pandas->datasets) (2.9.0.post0)\r\n",
      "Requirement already satisfied: pytz>=2020.1 in /Users/amika/python-global/lib/python3.12/site-packages (from pandas->datasets) (2025.1)\r\n",
      "Requirement already satisfied: tzdata>=2022.7 in /Users/amika/python-global/lib/python3.12/site-packages (from pandas->datasets) (2025.1)\r\n",
      "Requirement already satisfied: six>=1.5 in /Users/amika/python-global/lib/python3.12/site-packages (from python-dateutil>=2.8.2->pandas->datasets) (1.17.0)\r\n"
     ]
    }
   ],
   "execution_count": 1
  },
  {
   "metadata": {
    "ExecuteTime": {
     "end_time": "2025-05-30T10:25:25.510145Z",
     "start_time": "2025-05-30T10:25:17.915183Z"
    }
   },
   "cell_type": "code",
   "source": [
    "# %% [markdown]\n",
    "# ### 2. Importy i ustawienia globalne\n",
    "\n",
    "# %%\n",
    "import os\n",
    "import time\n",
    "from datasets import load_dataset\n",
    "from transformers import (\n",
    "    AutoTokenizer, AutoModelForSeq2SeqLM,\n",
    "    Seq2SeqTrainingArguments, Seq2SeqTrainer,\n",
    "    DataCollatorForSeq2Seq, pipeline\n",
    ")\n",
    "from peft import LoraConfig, get_peft_model\n",
    "import sacrebleu\n",
    "\n",
    "# Ustaw ścieżkę do zapisu\n",
    "OUTPUT_DIR = \"mt-pl-en-lora\""
   ],
   "id": "d57edb81cde63cb3",
   "outputs": [
    {
     "name": "stderr",
     "output_type": "stream",
     "text": [
      "/Users/amika/python-global/lib/python3.12/site-packages/tqdm/auto.py:21: TqdmWarning: IProgress not found. Please update jupyter and ipywidgets. See https://ipywidgets.readthedocs.io/en/stable/user_install.html\n",
      "  from .autonotebook import tqdm as notebook_tqdm\n"
     ]
    }
   ],
   "execution_count": 2
  },
  {
   "metadata": {
    "ExecuteTime": {
     "end_time": "2025-05-30T10:25:30.337215Z",
     "start_time": "2025-05-30T10:25:25.518600Z"
    }
   },
   "cell_type": "code",
   "source": [
    "from datasets import get_dataset_config_names\n",
    "\n",
    "print(get_dataset_config_names(\"opus100\"))\n",
    "# Powinieneś zobaczyć listę języków, w tym \"pl-en\"\n"
   ],
   "id": "dae7ac629d5c1d77",
   "outputs": [
    {
     "name": "stdout",
     "output_type": "stream",
     "text": [
      "['af-en', 'am-en', 'an-en', 'ar-de', 'ar-en', 'ar-fr', 'ar-nl', 'ar-ru', 'ar-zh', 'as-en', 'az-en', 'be-en', 'bg-en', 'bn-en', 'br-en', 'bs-en', 'ca-en', 'cs-en', 'cy-en', 'da-en', 'de-en', 'de-fr', 'de-nl', 'de-ru', 'de-zh', 'dz-en', 'el-en', 'en-eo', 'en-es', 'en-et', 'en-eu', 'en-fa', 'en-fi', 'en-fr', 'en-fy', 'en-ga', 'en-gd', 'en-gl', 'en-gu', 'en-ha', 'en-he', 'en-hi', 'en-hr', 'en-hu', 'en-hy', 'en-id', 'en-ig', 'en-is', 'en-it', 'en-ja', 'en-ka', 'en-kk', 'en-km', 'en-kn', 'en-ko', 'en-ku', 'en-ky', 'en-li', 'en-lt', 'en-lv', 'en-mg', 'en-mk', 'en-ml', 'en-mn', 'en-mr', 'en-ms', 'en-mt', 'en-my', 'en-nb', 'en-ne', 'en-nl', 'en-nn', 'en-no', 'en-oc', 'en-or', 'en-pa', 'en-pl', 'en-ps', 'en-pt', 'en-ro', 'en-ru', 'en-rw', 'en-se', 'en-sh', 'en-si', 'en-sk', 'en-sl', 'en-sq', 'en-sr', 'en-sv', 'en-ta', 'en-te', 'en-tg', 'en-th', 'en-tk', 'en-tr', 'en-tt', 'en-ug', 'en-uk', 'en-ur', 'en-uz', 'en-vi', 'en-wa', 'en-xh', 'en-yi', 'en-yo', 'en-zh', 'en-zu', 'fr-nl', 'fr-ru', 'fr-zh', 'nl-ru', 'nl-zh', 'ru-zh']\n"
     ]
    }
   ],
   "execution_count": 3
  },
  {
   "metadata": {
    "ExecuteTime": {
     "end_time": "2025-05-30T10:25:34.469199Z",
     "start_time": "2025-05-30T10:25:30.348215Z"
    }
   },
   "cell_type": "code",
   "source": [
    "# %% [markdown]\n",
    "# ### 3. Ładowanie danych (subset OPUS100 en-pl)\n",
    "\n",
    "# %%\n",
    "from datasets import load_dataset\n",
    "\n",
    "# 1) Pobieramy OPUS100 en-pl:\n",
    "raw = load_dataset(\"opus100\", \"en-pl\")\n",
    "\n",
    "# 2) Wybieramy małe subsety na początek:\n",
    "train_raw = raw[\"train\"].shuffle(seed=42).select(range(20000))\n",
    "val_raw = raw[\"validation\"].shuffle(seed=42).select(range(2000))\n",
    "\n",
    "print(f\"Train samples: {len(train_raw)}, Validation samples: {len(val_raw)}\")\n",
    "print(train_raw[0][\"translation\"])\n",
    "# → powinno wyświetlić coś w stylu {'en': 'This is a sentence.', 'pl': 'To jest zdanie.'}\n"
   ],
   "id": "14832487a1384d59",
   "outputs": [
    {
     "name": "stdout",
     "output_type": "stream",
     "text": [
      "Train samples: 20000, Validation samples: 2000\n",
      "{'en': \"I'm sure you do.\", 'pl': 'Zapewne tak.'}\n"
     ]
    }
   ],
   "execution_count": 4
  },
  {
   "metadata": {
    "ExecuteTime": {
     "end_time": "2025-05-30T10:25:37.302022Z",
     "start_time": "2025-05-30T10:25:34.491086Z"
    }
   },
   "cell_type": "code",
   "source": [
    "# %% [markdown]\n",
    "# ### 4. Tokenizer i bazowy model\n",
    "\n",
    "# %%\n",
    "MODEL_ID = \"Helsinki-NLP/opus-mt-pl-en\"\n",
    "tokenizer = AutoTokenizer.from_pretrained(MODEL_ID)\n",
    "base_model = AutoModelForSeq2SeqLM.from_pretrained(MODEL_ID)\n",
    "\n",
    "# szybki test pipeline-u\n",
    "translator = pipeline(\"translation\", model=base_model, tokenizer=tokenizer)\n",
    "print(\"Przykład:\", translator(\"To jest test zdania.\"))\n",
    "\n"
   ],
   "id": "6bb3703c5f6e3cde",
   "outputs": [
    {
     "name": "stderr",
     "output_type": "stream",
     "text": [
      "Device set to use mps:0\n"
     ]
    },
    {
     "name": "stdout",
     "output_type": "stream",
     "text": [
      "Przykład: [{'translation_text': 'This is a sentence test.'}]\n"
     ]
    }
   ],
   "execution_count": 5
  },
  {
   "metadata": {
    "ExecuteTime": {
     "end_time": "2025-05-30T10:29:06.046003Z",
     "start_time": "2025-05-30T10:29:06.019339Z"
    }
   },
   "cell_type": "code",
   "source": [
    "\n",
    "# 5. Konfiguracja LoRA\n",
    "lora_config = LoraConfig(\n",
    "    r=8,\n",
    "    lora_alpha=32,\n",
    "    target_modules=[\"q_proj\", \"v_proj\"],\n",
    "    lora_dropout=0.05,\n",
    "    bias=\"none\",\n",
    "    task_type=\"SEQ_2_SEQ_LM\"\n",
    ")\n",
    "model = get_peft_model(base_model, lora_config)\n",
    "\n",
    "# 5.1 Sprawdzenie konfiguracji\n",
    "adapter = model.active_adapter  # zazwyczaj \"default\"\n",
    "conf = model.peft_config[adapter]\n",
    "print(\"Aktywny adapter:\", adapter)\n",
    "print(\"Target modules:\", conf.target_modules)\n"
   ],
   "id": "5ae9ee5d18b0eef1",
   "outputs": [
    {
     "name": "stdout",
     "output_type": "stream",
     "text": [
      "Aktywny adapter: default\n",
      "Target modules: {'q_proj', 'v_proj'}\n"
     ]
    },
    {
     "name": "stderr",
     "output_type": "stream",
     "text": [
      "/Users/amika/python-global/lib/python3.12/site-packages/peft/mapping_func.py:73: UserWarning: You are trying to modify a model with PEFT for a second time. If you want to reload the model with a different config, make sure to call `.unload()` before.\n",
      "  warnings.warn(\n",
      "/Users/amika/python-global/lib/python3.12/site-packages/peft/tuners/tuners_utils.py:167: UserWarning: Already found a `peft_config` attribute in the model. This will lead to having multiple adapters in the model. Make sure to know what you are doing!\n",
      "  warnings.warn(\n"
     ]
    }
   ],
   "execution_count": 7
  },
  {
   "metadata": {
    "ExecuteTime": {
     "end_time": "2025-05-30T10:36:28.540275Z",
     "start_time": "2025-05-30T10:36:25.862347Z"
    }
   },
   "cell_type": "code",
   "source": [
    "# %% [markdown]\n",
    "# ### 6. Funkcja preprocessująca i tokenizacja (poprawiona)\n",
    "\n",
    "# %%\n",
    "max_len = 128\n",
    "\n",
    "\n",
    "def preprocess(batch):\n",
    "    # batch[\"translation\"] to lista dictów {'en': ..., 'pl': ...}\n",
    "    src_texts = [t[\"pl\"] for t in batch[\"translation\"]]\n",
    "    tgt_texts = [t[\"en\"] for t in batch[\"translation\"]]\n",
    "\n",
    "    # tokenizacja wejścia\n",
    "    model_inputs = tokenizer(\n",
    "        src_texts,\n",
    "        truncation=True,\n",
    "        padding=\"max_length\",\n",
    "        max_length=max_len\n",
    "    )\n",
    "    # tokenizacja etykiet\n",
    "    with tokenizer.as_target_tokenizer():\n",
    "        labels = tokenizer(\n",
    "            tgt_texts,\n",
    "            truncation=True,\n",
    "            padding=\"max_length\",\n",
    "            max_length=max_len\n",
    "        ).input_ids\n",
    "\n",
    "    model_inputs[\"labels\"] = labels\n",
    "    return model_inputs\n",
    "\n",
    "\n",
    "# zastosowanie map na danych\n",
    "train_ds = train_raw.map(\n",
    "    preprocess,\n",
    "    batched=True,\n",
    "    remove_columns=train_raw.column_names\n",
    ")\n",
    "val_ds = val_raw.map(\n",
    "    preprocess,\n",
    "    batched=True,\n",
    "    remove_columns=val_raw.column_names\n",
    ")\n",
    "\n",
    "print(train_ds)"
   ],
   "id": "de92dad4dbc13024",
   "outputs": [
    {
     "name": "stderr",
     "output_type": "stream",
     "text": [
      "Map:   0%|          | 0/20000 [00:00<?, ? examples/s]/Users/amika/python-global/lib/python3.12/site-packages/transformers/tokenization_utils_base.py:3959: UserWarning: `as_target_tokenizer` is deprecated and will be removed in v5 of Transformers. You can tokenize your labels by using the argument `text_target` of the regular `__call__` method (either in the same call as your input texts if you use the same keyword arguments, or in a separate call.\n",
      "  warnings.warn(\n",
      "Map: 100%|██████████| 20000/20000 [00:02<00:00, 9828.54 examples/s] \n",
      "Map: 100%|██████████| 2000/2000 [00:00<00:00, 9983.53 examples/s] "
     ]
    },
    {
     "name": "stdout",
     "output_type": "stream",
     "text": [
      "Dataset({\n",
      "    features: ['input_ids', 'attention_mask', 'labels'],\n",
      "    num_rows: 20000\n",
      "})\n"
     ]
    },
    {
     "name": "stderr",
     "output_type": "stream",
     "text": [
      "\n"
     ]
    }
   ],
   "execution_count": 9
  },
  {
   "metadata": {
    "ExecuteTime": {
     "end_time": "2025-05-30T10:36:57.125761Z",
     "start_time": "2025-05-30T10:36:57.122004Z"
    }
   },
   "cell_type": "code",
   "source": [
    "# %% [markdown]\n",
    "# ### 7. DataCollator i metryki (BLEU)\n",
    "\n",
    "# %%\n",
    "data_collator = DataCollatorForSeq2Seq(tokenizer, model=model)\n",
    "\n",
    "\n",
    "def compute_metrics(eval_pred):\n",
    "    preds, labels = eval_pred\n",
    "    decoded_preds = tokenizer.batch_decode(preds, skip_special_tokens=True)\n",
    "    decoded_labels = tokenizer.batch_decode(labels, skip_special_tokens=True)\n",
    "    bleu = sacrebleu.corpus_bleu(decoded_preds, [decoded_labels])\n",
    "    return {\"bleu\": bleu.score}\n",
    "\n"
   ],
   "id": "8aa620c2057f607",
   "outputs": [],
   "execution_count": 10
  },
  {
   "metadata": {
    "ExecuteTime": {
     "end_time": "2025-05-30T10:55:04.835767Z",
     "start_time": "2025-05-30T10:55:04.831593Z"
    }
   },
   "cell_type": "code",
   "source": [
    "training_args = Seq2SeqTrainingArguments(\n",
    "    output_dir=OUTPUT_DIR,\n",
    "    per_device_train_batch_size=16,\n",
    "    per_device_eval_batch_size=16,\n",
    "    predict_with_generate=True,\n",
    "\n",
    "    # strategia ewaluacji\n",
    "    eval_strategy=\"steps\",\n",
    "    eval_steps=500,\n",
    "\n",
    "    # strategia zapisu\n",
    "    save_strategy=\"steps\",\n",
    "    save_steps=500,\n",
    "\n",
    "    logging_steps=100,\n",
    "    num_train_epochs=3,\n",
    "    fp16=False,  # lub True, jeśli masz GPU z FP16\n",
    "\n",
    "    load_best_model_at_end=True,\n",
    "    metric_for_best_model=\"bleu\",\n",
    "    greater_is_better=True,\n",
    ")\n"
   ],
   "id": "da6349cb262f7c2",
   "outputs": [],
   "execution_count": 16
  },
  {
   "metadata": {
    "ExecuteTime": {
     "end_time": "2025-05-30T17:47:09.691575Z",
     "start_time": "2025-05-30T10:55:07.398007Z"
    }
   },
   "cell_type": "code",
   "source": [
    "# %% [markdown]\n",
    "# ### 9. Inicjalizacja i uruchomienie Trainer\n",
    "\n",
    "# %%\n",
    "trainer = Seq2SeqTrainer(\n",
    "    model=model,\n",
    "    args=training_args,\n",
    "    train_dataset=train_ds,\n",
    "    eval_dataset=val_ds,\n",
    "    tokenizer=tokenizer,\n",
    "    data_collator=data_collator,\n",
    "    compute_metrics=compute_metrics\n",
    ")\n",
    "\n",
    "trainer.train()\n",
    "\n"
   ],
   "id": "f7c93527921e4ced",
   "outputs": [
    {
     "name": "stderr",
     "output_type": "stream",
     "text": [
      "/var/folders/z_/dq8r0xg94mxfzfpr1jmhv_740000gn/T/ipykernel_21716/74575465.py:5: FutureWarning: `tokenizer` is deprecated and will be removed in version 5.0.0 for `Seq2SeqTrainer.__init__`. Use `processing_class` instead.\n",
      "  trainer = Seq2SeqTrainer(\n",
      "No label_names provided for model class `PeftModelForSeq2SeqLM`. Since `PeftModel` hides base models input arguments, if label_names is not given, label_names can't be set automatically within `Trainer`. Note that empty label_names list will be used instead.\n",
      "/Users/amika/python-global/lib/python3.12/site-packages/torch/utils/data/dataloader.py:683: UserWarning: 'pin_memory' argument is set as true but not supported on MPS now, then device pinned memory won't be used.\n",
      "  warnings.warn(warn_msg)\n"
     ]
    },
    {
     "data": {
      "text/plain": [
       "<IPython.core.display.HTML object>"
      ],
      "text/html": [
       "\n",
       "    <div>\n",
       "      \n",
       "      <progress value='3750' max='3750' style='width:300px; height:20px; vertical-align: middle;'></progress>\n",
       "      [3750/3750 6:52:01, Epoch 3/3]\n",
       "    </div>\n",
       "    <table border=\"1\" class=\"dataframe\">\n",
       "  <thead>\n",
       " <tr style=\"text-align: left;\">\n",
       "      <th>Step</th>\n",
       "      <th>Training Loss</th>\n",
       "      <th>Validation Loss</th>\n",
       "      <th>Bleu</th>\n",
       "    </tr>\n",
       "  </thead>\n",
       "  <tbody>\n",
       "    <tr>\n",
       "      <td>500</td>\n",
       "      <td>0.160400</td>\n",
       "      <td>0.196286</td>\n",
       "      <td>8.534518</td>\n",
       "    </tr>\n",
       "    <tr>\n",
       "      <td>1000</td>\n",
       "      <td>0.157200</td>\n",
       "      <td>0.194469</td>\n",
       "      <td>10.207711</td>\n",
       "    </tr>\n",
       "    <tr>\n",
       "      <td>1500</td>\n",
       "      <td>0.163000</td>\n",
       "      <td>0.193122</td>\n",
       "      <td>12.053509</td>\n",
       "    </tr>\n",
       "    <tr>\n",
       "      <td>2000</td>\n",
       "      <td>0.159600</td>\n",
       "      <td>0.192120</td>\n",
       "      <td>11.912978</td>\n",
       "    </tr>\n",
       "    <tr>\n",
       "      <td>2500</td>\n",
       "      <td>0.151100</td>\n",
       "      <td>0.191361</td>\n",
       "      <td>13.503544</td>\n",
       "    </tr>\n",
       "    <tr>\n",
       "      <td>3000</td>\n",
       "      <td>0.160900</td>\n",
       "      <td>0.190978</td>\n",
       "      <td>14.262612</td>\n",
       "    </tr>\n",
       "    <tr>\n",
       "      <td>3500</td>\n",
       "      <td>0.158000</td>\n",
       "      <td>0.190830</td>\n",
       "      <td>14.289325</td>\n",
       "    </tr>\n",
       "  </tbody>\n",
       "</table><p>"
      ]
     },
     "metadata": {},
     "output_type": "display_data"
    },
    {
     "name": "stderr",
     "output_type": "stream",
     "text": [
      "/Users/amika/python-global/lib/python3.12/site-packages/torch/utils/data/dataloader.py:683: UserWarning: 'pin_memory' argument is set as true but not supported on MPS now, then device pinned memory won't be used.\n",
      "  warnings.warn(warn_msg)\n",
      "/Users/amika/python-global/lib/python3.12/site-packages/torch/utils/data/dataloader.py:683: UserWarning: 'pin_memory' argument is set as true but not supported on MPS now, then device pinned memory won't be used.\n",
      "  warnings.warn(warn_msg)\n",
      "/Users/amika/python-global/lib/python3.12/site-packages/torch/utils/data/dataloader.py:683: UserWarning: 'pin_memory' argument is set as true but not supported on MPS now, then device pinned memory won't be used.\n",
      "  warnings.warn(warn_msg)\n",
      "/Users/amika/python-global/lib/python3.12/site-packages/peft/utils/other.py:1110: UserWarning: Unable to fetch remote file due to the following error (ReadTimeoutError(\"HTTPSConnectionPool(host='huggingface.co', port=443): Read timed out. (read timeout=10)\"), '(Request ID: a692e804-978d-4589-b3af-4df49fb29122)') - silently ignoring the lookup for the file config.json in Helsinki-NLP/opus-mt-pl-en.\n",
      "  warnings.warn(\n",
      "/Users/amika/python-global/lib/python3.12/site-packages/peft/utils/save_and_load.py:236: UserWarning: Could not find a config file in Helsinki-NLP/opus-mt-pl-en - will assume that the vocabulary was not modified.\n",
      "  warnings.warn(\n",
      "/Users/amika/python-global/lib/python3.12/site-packages/torch/utils/data/dataloader.py:683: UserWarning: 'pin_memory' argument is set as true but not supported on MPS now, then device pinned memory won't be used.\n",
      "  warnings.warn(warn_msg)\n",
      "/Users/amika/python-global/lib/python3.12/site-packages/torch/utils/data/dataloader.py:683: UserWarning: 'pin_memory' argument is set as true but not supported on MPS now, then device pinned memory won't be used.\n",
      "  warnings.warn(warn_msg)\n",
      "/Users/amika/python-global/lib/python3.12/site-packages/torch/utils/data/dataloader.py:683: UserWarning: 'pin_memory' argument is set as true but not supported on MPS now, then device pinned memory won't be used.\n",
      "  warnings.warn(warn_msg)\n"
     ]
    },
    {
     "data": {
      "text/plain": [
       "TrainOutput(global_step=3750, training_loss=0.2754562779744466, metrics={'train_runtime': 24722.0576, 'train_samples_per_second': 2.427, 'train_steps_per_second': 0.152, 'total_flos': 2047491440640000.0, 'train_loss': 0.2754562779744466, 'epoch': 3.0})"
      ]
     },
     "execution_count": 17,
     "metadata": {},
     "output_type": "execute_result"
    }
   ],
   "execution_count": 17
  },
  {
   "metadata": {
    "ExecuteTime": {
     "end_time": "2025-05-30T19:34:23.577978Z",
     "start_time": "2025-05-30T19:34:23.142617Z"
    }
   },
   "cell_type": "code",
   "source": [
    "# %% [markdown]\n",
    "# ### 10. Zapis finalnego modelu\n",
    "\n",
    "# %%\n",
    "model.save_pretrained(os.path.join(OUTPUT_DIR, \"lora\"))\n",
    "tokenizer.save_pretrained(os.path.join(OUTPUT_DIR, \"lora\"))\n",
    "\n"
   ],
   "id": "236b661e5a2d6151",
   "outputs": [
    {
     "data": {
      "text/plain": [
       "('mt-pl-en-lora/lora/tokenizer_config.json',\n",
       " 'mt-pl-en-lora/lora/special_tokens_map.json',\n",
       " 'mt-pl-en-lora/lora/vocab.json',\n",
       " 'mt-pl-en-lora/lora/source.spm',\n",
       " 'mt-pl-en-lora/lora/target.spm',\n",
       " 'mt-pl-en-lora/lora/added_tokens.json')"
      ]
     },
     "execution_count": 18,
     "metadata": {},
     "output_type": "execute_result"
    }
   ],
   "execution_count": 18
  },
  {
   "metadata": {
    "ExecuteTime": {
     "end_time": "2025-05-30T19:34:28.364353Z",
     "start_time": "2025-05-30T19:34:26.343469Z"
    }
   },
   "cell_type": "code",
   "source": [
    "# %% [markdown]\n",
    "# ### 11. Test inferencji na zapisanym modelu\n",
    "\n",
    "# %%\n",
    "from transformers import pipeline as _pipe\n",
    "\n",
    "pipe = _pipe(\"translation\", model=os.path.join(OUTPUT_DIR, \"lora\"), tokenizer=tokenizer)\n",
    "print(pipe(\"Dzień dobry, to jest przykład testowy.\"))"
   ],
   "id": "e0a92feb9b084347",
   "outputs": [
    {
     "name": "stderr",
     "output_type": "stream",
     "text": [
      "Device set to use mps:0\n"
     ]
    },
    {
     "name": "stdout",
     "output_type": "stream",
     "text": [
      "[{'translation_text': 'Good morning, this is a test example.'}]\n"
     ]
    }
   ],
   "execution_count": 19
  },
  {
   "metadata": {
    "ExecuteTime": {
     "end_time": "2025-05-30T21:03:02.700613Z",
     "start_time": "2025-05-30T21:02:53.855073Z"
    }
   },
   "cell_type": "code",
   "source": [
    "test_sentences = [\n",
    "    \"To jest test.\",\n",
    "    \"Lubię jabłka.\",\n",
    "    \"On poszedł do sklepu, ale zapomniał portfela.\",\n",
    "    \"Jeżeli pada deszcz, weź parasol.\",\n",
    "    \"Warszawa jest stolicą Polski i największym miastem kraju.\",\n",
    "    \"Pomimo że spóźniliśmy się na pociąg, udało nam się złapać następny.\",\n",
    "    \"Chociaż programista był zmęczony, kontynuował pracę nad projektem, aby dotrzymać terminu.\",\n",
    "    \"Przyczyną awarii systemu była niezgodność wersji oprogramowania oraz niewłaściwe ustawienie parametrów.\",\n",
    "    \"W obliczu nieuchronnej katastrofy, ludzie musieli szybko podjąć decyzję o ewakuacji.\",\n",
    "    \"Ten złożony algorytm optymalizacyjny wykorzystuje gradienty skokowe i heurystyki, aby znaleźć globalne minimum funkcji w przestrzeni wielowymiarowej.\",\n",
    "    \"Chcę napisać esej porównujący filozofię Platona z dialektyką Hegla i ich wpływ na współczesne myślenie polityczne.\",\n",
    "    \"Mimo że życie potrafi być nieprzewidywalne, ważne jest, aby zachować spokój i elastyczność w podejmowaniu codziennych decyzji.\"\n",
    "]\n",
    "\n",
    "for sent in test_sentences:\n",
    "    output = pipe(sent)[0]['translation_text']\n",
    "    print(f\"🔹 Źródło: {sent}\")\n",
    "    print(f\"   Tłumaczenie: {output}\\n\")"
   ],
   "id": "3ff452ac30b5e0d5",
   "outputs": [
    {
     "name": "stdout",
     "output_type": "stream",
     "text": [
      "🔹 Źródło: To jest test.\n",
      "   Tłumaczenie: This is a test.\n",
      "\n",
      "🔹 Źródło: Lubię jabłka.\n",
      "   Tłumaczenie: I like apples.\n",
      "\n",
      "🔹 Źródło: On poszedł do sklepu, ale zapomniał portfela.\n",
      "   Tłumaczenie: He went to the store, but he forgot his wallet.\n",
      "\n",
      "🔹 Źródło: Jeżeli pada deszcz, weź parasol.\n",
      "   Tłumaczenie: If it rains, take an umbrella.\n",
      "\n",
      "🔹 Źródło: Warszawa jest stolicą Polski i największym miastem kraju.\n",
      "   Tłumaczenie: Warsaw is the capital of Poland and the largest city of the country.\n",
      "\n",
      "🔹 Źródło: Pomimo że spóźniliśmy się na pociąg, udało nam się złapać następny.\n",
      "   Tłumaczenie: Even though we missed the train, we managed to catch the next one.\n",
      "\n",
      "🔹 Źródło: Chociaż programista był zmęczony, kontynuował pracę nad projektem, aby dotrzymać terminu.\n",
      "   Tłumaczenie: Although the programmer was tired, he continued to work on the project to meet the deadline.\n",
      "\n",
      "🔹 Źródło: Przyczyną awarii systemu była niezgodność wersji oprogramowania oraz niewłaściwe ustawienie parametrów.\n",
      "   Tłumaczenie: The cause of the system failure was the non-conformity of the software version and the incorrect setting of parameters.\n",
      "\n",
      "🔹 Źródło: W obliczu nieuchronnej katastrofy, ludzie musieli szybko podjąć decyzję o ewakuacji.\n",
      "   Tłumaczenie: In the face of an imminent disaster, people had to quickly decide to evacuate.\n",
      "\n",
      "🔹 Źródło: Ten złożony algorytm optymalizacyjny wykorzystuje gradienty skokowe i heurystyki, aby znaleźć globalne minimum funkcji w przestrzeni wielowymiarowej.\n",
      "   Tłumaczenie: This complex optimization algorithm uses jump gradients and heuristics to find a global minimum of functions in multidimensional space.\n",
      "\n",
      "🔹 Źródło: Chcę napisać esej porównujący filozofię Platona z dialektyką Hegla i ich wpływ na współczesne myślenie polityczne.\n",
      "   Tłumaczenie: I want to write an essay comparing Plato's philosophy with Hegel's dialect and their influence on contemporary political thinking.\n",
      "\n",
      "🔹 Źródło: Mimo że życie potrafi być nieprzewidywalne, ważne jest, aby zachować spokój i elastyczność w podejmowaniu codziennych decyzji.\n",
      "   Tłumaczenie: Although life can be unpredictable, it is important to remain calm and flexible in making daily decisions.\n",
      "\n"
     ]
    }
   ],
   "execution_count": 20
  },
  {
   "metadata": {
    "ExecuteTime": {
     "end_time": "2025-05-30T21:05:23.775162Z",
     "start_time": "2025-05-30T21:05:23.258389Z"
    }
   },
   "cell_type": "code",
   "source": [
    "import matplotlib.pyplot as plt\n",
    "import pandas as pd\n",
    "\n",
    "# Sprawdzamy, czy obiekt 'trainer' jest zdefiniowany\n",
    "if 'trainer' not in globals():\n",
    "    print(\"Proszę uruchomić wcześniej komórkę z definiowaniem i treningiem obiektu `trainer`, aby wygenerować wykresy.\")\n",
    "else:\n",
    "    # Wczytujemy historię logów z treningu\n",
    "    history = trainer.state.log_history\n",
    "    df = pd.DataFrame(history)\n",
    "\n",
    "    # Filtrujemy loss i BLEU\n",
    "    loss_df = df[['step', 'loss']].dropna()\n",
    "    bleu_df = df[['step', 'eval_bleu']].dropna()\n",
    "\n",
    "    # Wykres 1: Loss w trakcie treningu\n",
    "    plt.figure()\n",
    "    plt.plot(loss_df['step'], loss_df['loss'])\n",
    "    plt.xlabel('Krok treningowy')\n",
    "    plt.ylabel('Training Loss')\n",
    "    plt.title('Training Loss over Steps')\n",
    "    plt.show()\n",
    "\n",
    "    # Wykres 2: BLEU Score w trakcie ewaluacji\n",
    "    plt.figure()\n",
    "    plt.plot(bleu_df['step'], bleu_df['eval_bleu'])\n",
    "    plt.xlabel('Krok treningowy')\n",
    "    plt.ylabel('Eval BLEU Score')\n",
    "    plt.title('Eval BLEU over Steps')\n",
    "    plt.show()\n"
   ],
   "id": "2ca2af6aa85851c1",
   "outputs": [
    {
     "data": {
      "text/plain": [
       "<Figure size 640x480 with 1 Axes>"
      ],
      "image/png": "[encoded data removed]"
     },
     "metadata": {},
     "output_type": "display_data"
    },
    {
     "data": {
      "text/plain": [
       "<Figure size 640x480 with 1 Axes>"
      ],
      "image/png": "[encoded data removed]"
     },
     "metadata": {},
     "output_type": "display_data"
    }
   ],
   "execution_count": 21
  },
  {
   "metadata": {},
   "cell_type": "code",
   "outputs": [],
   "execution_count": null,
   "source": "",
   "id": "ef2934048f7d1902"
  }
 ],
 "metadata": {
  "kernelspec": {
   "display_name": "Python 3",
   "language": "python",
   "name": "python3"
  },
  "language_info": {
   "codemirror_mode": {
    "name": "ipython",
    "version": 2
   },
   "file_extension": ".py",
   "mimetype": "text/x-python",
   "name": "python",
   "nbconvert_exporter": "python",
   "pygments_lexer": "ipython2",
   "version": "2.7.6"
  }
 },
 "nbformat": 4,
 "nbformat_minor": 5
}
