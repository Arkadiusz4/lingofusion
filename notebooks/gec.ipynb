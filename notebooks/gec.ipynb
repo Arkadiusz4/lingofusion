{
 "cells": [
  {
   "metadata": {},
   "cell_type": "markdown",
   "source": [
    "# Grammatical Error Correction (GEC)\n",
    "\n",
    "Ten notebook pokazuje krok po kroku, jak:\n",
    "1. Załadować i przygotować dane (np. ConLL‐2014, JFLEG lub inny korpus GEC).\n",
    "2. Skomponować model seq2seq (np. T5‐Base lub BART) do zadania korekty błędów.\n",
    "3. Nałożyć na bazowy model adapter LoRA lub uprościć fine‐tuning.\n",
    "4. Trenować model na danych GEC.\n",
    "5. Dokonać ewaluacji (metryka F<sub>0.5</sub> lub BLEU na prostym zestawie walidacyjnym).\n",
    "6. Przetestować przykładowe zdania."
   ],
   "id": "45cfaac487c71e98"
  },
  {
   "metadata": {},
   "cell_type": "markdown",
   "source": "#### Instalacja niezbędnych bibliotek",
   "id": "bdc906d074574974"
  },
  {
   "cell_type": "code",
   "id": "initial_id",
   "metadata": {
    "collapsed": true,
    "ExecuteTime": {
     "end_time": "2025-06-02T15:23:55.240262Z",
     "start_time": "2025-06-02T15:23:54.124712Z"
    }
   },
   "source": [
    "!pip install transformers datasets sacrebleu sentencepiece\n",
    "!pip install peft"
   ],
   "outputs": [
    {
     "name": "stdout",
     "output_type": "stream",
     "text": [
      "Requirement already satisfied: transformers in /Users/amika/python-global/lib/python3.12/site-packages (4.52.3)\r\n",
      "Requirement already satisfied: datasets in /Users/amika/python-global/lib/python3.12/site-packages (3.6.0)\r\n",
      "Requirement already satisfied: sacrebleu in /Users/amika/python-global/lib/python3.12/site-packages (2.5.1)\r\n",
      "Requirement already satisfied: sentencepiece in /Users/amika/python-global/lib/python3.12/site-packages (0.2.0)\r\n",
      "Requirement already satisfied: filelock in /Users/amika/python-global/lib/python3.12/site-packages (from transformers) (3.17.0)\r\n",
      "Requirement already satisfied: huggingface-hub<1.0,>=0.30.0 in /Users/amika/python-global/lib/python3.12/site-packages (from transformers) (0.31.2)\r\n",
      "Requirement already satisfied: numpy>=1.17 in /Users/amika/python-global/lib/python3.12/site-packages (from transformers) (1.26.4)\r\n",
      "Requirement already satisfied: packaging>=20.0 in /Users/amika/python-global/lib/python3.12/site-packages (from transformers) (24.2)\r\n",
      "Requirement already satisfied: pyyaml>=5.1 in /Users/amika/python-global/lib/python3.12/site-packages (from transformers) (6.0.2)\r\n",
      "Requirement already satisfied: regex!=2019.12.17 in /Users/amika/python-global/lib/python3.12/site-packages (from transformers) (2024.11.6)\r\n",
      "Requirement already satisfied: requests in /Users/amika/python-global/lib/python3.12/site-packages (from transformers) (2.32.3)\r\n",
      "Requirement already satisfied: tokenizers<0.22,>=0.21 in /Users/amika/python-global/lib/python3.12/site-packages (from transformers) (0.21.1)\r\n",
      "Requirement already satisfied: safetensors>=0.4.3 in /Users/amika/python-global/lib/python3.12/site-packages (from transformers) (0.5.3)\r\n",
      "Requirement already satisfied: tqdm>=4.27 in /Users/amika/python-global/lib/python3.12/site-packages (from transformers) (4.67.1)\r\n",
      "Requirement already satisfied: fsspec>=2023.5.0 in /Users/amika/python-global/lib/python3.12/site-packages (from huggingface-hub<1.0,>=0.30.0->transformers) (2025.2.0)\r\n",
      "Requirement already satisfied: typing-extensions>=3.7.4.3 in /Users/amika/python-global/lib/python3.12/site-packages (from huggingface-hub<1.0,>=0.30.0->transformers) (4.13.2)\r\n",
      "Requirement already satisfied: pyarrow>=15.0.0 in /Users/amika/python-global/lib/python3.12/site-packages (from datasets) (20.0.0)\r\n",
      "Requirement already satisfied: dill<0.3.9,>=0.3.0 in /Users/amika/python-global/lib/python3.12/site-packages (from datasets) (0.3.8)\r\n",
      "Requirement already satisfied: pandas in /Users/amika/python-global/lib/python3.12/site-packages (from datasets) (2.2.3)\r\n",
      "Requirement already satisfied: xxhash in /Users/amika/python-global/lib/python3.12/site-packages (from datasets) (3.5.0)\r\n",
      "Requirement already satisfied: multiprocess<0.70.17 in /Users/amika/python-global/lib/python3.12/site-packages (from datasets) (0.70.16)\r\n",
      "Requirement already satisfied: aiohttp!=4.0.0a0,!=4.0.0a1 in /Users/amika/python-global/lib/python3.12/site-packages (from fsspec[http]<=2025.3.0,>=2023.1.0->datasets) (3.11.18)\r\n",
      "Requirement already satisfied: portalocker in /Users/amika/python-global/lib/python3.12/site-packages (from sacrebleu) (3.1.1)\r\n",
      "Requirement already satisfied: tabulate>=0.8.9 in /Users/amika/python-global/lib/python3.12/site-packages (from sacrebleu) (0.9.0)\r\n",
      "Requirement already satisfied: colorama in /Users/amika/python-global/lib/python3.12/site-packages (from sacrebleu) (0.4.6)\r\n",
      "Requirement already satisfied: lxml in /Users/amika/python-global/lib/python3.12/site-packages (from sacrebleu) (5.4.0)\r\n",
      "Requirement already satisfied: aiohappyeyeballs>=2.3.0 in /Users/amika/python-global/lib/python3.12/site-packages (from aiohttp!=4.0.0a0,!=4.0.0a1->fsspec[http]<=2025.3.0,>=2023.1.0->datasets) (2.6.1)\r\n",
      "Requirement already satisfied: aiosignal>=1.1.2 in /Users/amika/python-global/lib/python3.12/site-packages (from aiohttp!=4.0.0a0,!=4.0.0a1->fsspec[http]<=2025.3.0,>=2023.1.0->datasets) (1.3.2)\r\n",
      "Requirement already satisfied: attrs>=17.3.0 in /Users/amika/python-global/lib/python3.12/site-packages (from aiohttp!=4.0.0a0,!=4.0.0a1->fsspec[http]<=2025.3.0,>=2023.1.0->datasets) (25.1.0)\r\n",
      "Requirement already satisfied: frozenlist>=1.1.1 in /Users/amika/python-global/lib/python3.12/site-packages (from aiohttp!=4.0.0a0,!=4.0.0a1->fsspec[http]<=2025.3.0,>=2023.1.0->datasets) (1.6.0)\r\n",
      "Requirement already satisfied: multidict<7.0,>=4.5 in /Users/amika/python-global/lib/python3.12/site-packages (from aiohttp!=4.0.0a0,!=4.0.0a1->fsspec[http]<=2025.3.0,>=2023.1.0->datasets) (6.4.3)\r\n",
      "Requirement already satisfied: propcache>=0.2.0 in /Users/amika/python-global/lib/python3.12/site-packages (from aiohttp!=4.0.0a0,!=4.0.0a1->fsspec[http]<=2025.3.0,>=2023.1.0->datasets) (0.3.1)\r\n",
      "Requirement already satisfied: yarl<2.0,>=1.17.0 in /Users/amika/python-global/lib/python3.12/site-packages (from aiohttp!=4.0.0a0,!=4.0.0a1->fsspec[http]<=2025.3.0,>=2023.1.0->datasets) (1.20.0)\r\n",
      "Requirement already satisfied: idna>=2.0 in /Users/amika/python-global/lib/python3.12/site-packages (from yarl<2.0,>=1.17.0->aiohttp!=4.0.0a0,!=4.0.0a1->fsspec[http]<=2025.3.0,>=2023.1.0->datasets) (3.10)\r\n",
      "Requirement already satisfied: charset-normalizer<4,>=2 in /Users/amika/python-global/lib/python3.12/site-packages (from requests->transformers) (3.4.1)\r\n",
      "Requirement already satisfied: urllib3<3,>=1.21.1 in /Users/amika/python-global/lib/python3.12/site-packages (from requests->transformers) (2.4.0)\r\n",
      "Requirement already satisfied: certifi>=2017.4.17 in /Users/amika/python-global/lib/python3.12/site-packages (from requests->transformers) (2025.1.31)\r\n",
      "Requirement already satisfied: python-dateutil>=2.8.2 in /Users/amika/python-global/lib/python3.12/site-packages (from pandas->datasets) (2.9.0.post0)\r\n",
      "Requirement already satisfied: pytz>=2020.1 in /Users/amika/python-global/lib/python3.12/site-packages (from pandas->datasets) (2025.1)\r\n",
      "Requirement already satisfied: tzdata>=2022.7 in /Users/amika/python-global/lib/python3.12/site-packages (from pandas->datasets) (2025.1)\r\n",
      "Requirement already satisfied: six>=1.5 in /Users/amika/python-global/lib/python3.12/site-packages (from python-dateutil>=2.8.2->pandas->datasets) (1.17.0)\r\n",
      "Requirement already satisfied: peft in /Users/amika/python-global/lib/python3.12/site-packages (0.15.2)\r\n",
      "Requirement already satisfied: numpy>=1.17 in /Users/amika/python-global/lib/python3.12/site-packages (from peft) (1.26.4)\r\n",
      "Requirement already satisfied: packaging>=20.0 in /Users/amika/python-global/lib/python3.12/site-packages (from peft) (24.2)\r\n",
      "Requirement already satisfied: psutil in /Users/amika/python-global/lib/python3.12/site-packages (from peft) (7.0.0)\r\n",
      "Requirement already satisfied: pyyaml in /Users/amika/python-global/lib/python3.12/site-packages (from peft) (6.0.2)\r\n",
      "Requirement already satisfied: torch>=1.13.0 in /Users/amika/python-global/lib/python3.12/site-packages (from peft) (2.7.0)\r\n",
      "Requirement already satisfied: transformers in /Users/amika/python-global/lib/python3.12/site-packages (from peft) (4.52.3)\r\n",
      "Requirement already satisfied: tqdm in /Users/amika/python-global/lib/python3.12/site-packages (from peft) (4.67.1)\r\n",
      "Requirement already satisfied: accelerate>=0.21.0 in /Users/amika/python-global/lib/python3.12/site-packages (from peft) (1.7.0)\r\n",
      "Requirement already satisfied: safetensors in /Users/amika/python-global/lib/python3.12/site-packages (from peft) (0.5.3)\r\n",
      "Requirement already satisfied: huggingface_hub>=0.25.0 in /Users/amika/python-global/lib/python3.12/site-packages (from peft) (0.31.2)\r\n",
      "Requirement already satisfied: filelock in /Users/amika/python-global/lib/python3.12/site-packages (from huggingface_hub>=0.25.0->peft) (3.17.0)\r\n",
      "Requirement already satisfied: fsspec>=2023.5.0 in /Users/amika/python-global/lib/python3.12/site-packages (from huggingface_hub>=0.25.0->peft) (2025.2.0)\r\n",
      "Requirement already satisfied: requests in /Users/amika/python-global/lib/python3.12/site-packages (from huggingface_hub>=0.25.0->peft) (2.32.3)\r\n",
      "Requirement already satisfied: typing-extensions>=3.7.4.3 in /Users/amika/python-global/lib/python3.12/site-packages (from huggingface_hub>=0.25.0->peft) (4.13.2)\r\n",
      "Requirement already satisfied: setuptools in /Users/amika/python-global/lib/python3.12/site-packages (from torch>=1.13.0->peft) (75.8.2)\r\n",
      "Requirement already satisfied: sympy>=1.13.3 in /Users/amika/python-global/lib/python3.12/site-packages (from torch>=1.13.0->peft) (1.14.0)\r\n",
      "Requirement already satisfied: networkx in /Users/amika/python-global/lib/python3.12/site-packages (from torch>=1.13.0->peft) (3.4.2)\r\n",
      "Requirement already satisfied: jinja2 in /Users/amika/python-global/lib/python3.12/site-packages (from torch>=1.13.0->peft) (3.1.5)\r\n",
      "Requirement already satisfied: mpmath<1.4,>=1.1.0 in /Users/amika/python-global/lib/python3.12/site-packages (from sympy>=1.13.3->torch>=1.13.0->peft) (1.3.0)\r\n",
      "Requirement already satisfied: MarkupSafe>=2.0 in /Users/amika/python-global/lib/python3.12/site-packages (from jinja2->torch>=1.13.0->peft) (3.0.2)\r\n",
      "Requirement already satisfied: charset-normalizer<4,>=2 in /Users/amika/python-global/lib/python3.12/site-packages (from requests->huggingface_hub>=0.25.0->peft) (3.4.1)\r\n",
      "Requirement already satisfied: idna<4,>=2.5 in /Users/amika/python-global/lib/python3.12/site-packages (from requests->huggingface_hub>=0.25.0->peft) (3.10)\r\n",
      "Requirement already satisfied: urllib3<3,>=1.21.1 in /Users/amika/python-global/lib/python3.12/site-packages (from requests->huggingface_hub>=0.25.0->peft) (2.4.0)\r\n",
      "Requirement already satisfied: certifi>=2017.4.17 in /Users/amika/python-global/lib/python3.12/site-packages (from requests->huggingface_hub>=0.25.0->peft) (2025.1.31)\r\n",
      "Requirement already satisfied: regex!=2019.12.17 in /Users/amika/python-global/lib/python3.12/site-packages (from transformers->peft) (2024.11.6)\r\n",
      "Requirement already satisfied: tokenizers<0.22,>=0.21 in /Users/amika/python-global/lib/python3.12/site-packages (from transformers->peft) (0.21.1)\r\n"
     ]
    }
   ],
   "execution_count": 1
  },
  {
   "metadata": {
    "ExecuteTime": {
     "end_time": "2025-06-02T15:24:02.997447Z",
     "start_time": "2025-06-02T15:23:55.322251Z"
    }
   },
   "cell_type": "code",
   "source": [
    "import os\n",
    "import numpy as np\n",
    "from datasets import load_dataset, DatasetDict\n",
    "from transformers import (\n",
    "    AutoTokenizer,\n",
    "    AutoModelForSeq2SeqLM,\n",
    "    Seq2SeqTrainer,\n",
    "    Seq2SeqTrainingArguments,\n",
    "    DataCollatorForSeq2Seq,\n",
    "    pipeline\n",
    ")\n",
    "import sacrebleu\n",
    "import torch\n",
    "import matplotlib.pyplot as plt\n",
    "# (opcjonalnie) użycie LoRA:\n",
    "from peft import LoraConfig, get_peft_model, PeftModel\n",
    "\n",
    "device = 0 if torch.cuda.is_available() else -1\n",
    "print(\"Urządzenie do trenowania/inferencji:\", \"cuda\" if device == 0 else \"cpu\")"
   ],
   "id": "6dba3139728232a7",
   "outputs": [
    {
     "name": "stderr",
     "output_type": "stream",
     "text": [
      "/Users/amika/python-global/lib/python3.12/site-packages/tqdm/auto.py:21: TqdmWarning: IProgress not found. Please update jupyter and ipywidgets. See https://ipywidgets.readthedocs.io/en/stable/user_install.html\n",
      "  from .autonotebook import tqdm as notebook_tqdm\n"
     ]
    },
    {
     "name": "stdout",
     "output_type": "stream",
     "text": [
      "Urządzenie do trenowania/inferencji: cpu\n"
     ]
    }
   ],
   "execution_count": 2
  },
  {
   "metadata": {
    "ExecuteTime": {
     "end_time": "2025-06-02T15:24:08.013856Z",
     "start_time": "2025-06-02T15:24:03.007017Z"
    }
   },
   "cell_type": "code",
   "source": [
    "raw = load_dataset(\"jfleg\")[\"validation\"]\n",
    "\n",
    "splits = raw.train_test_split(test_size=0.20, seed=42)\n",
    "\n",
    "token_source = DatasetDict({\n",
    "    \"train\": splits[\"train\"],\n",
    "    \"validation\": splits[\"test\"]\n",
    "})\n",
    "\n",
    "print(token_source)"
   ],
   "id": "39c023fea8abc6d1",
   "outputs": [
    {
     "name": "stdout",
     "output_type": "stream",
     "text": [
      "DatasetDict({\n",
      "    train: Dataset({\n",
      "        features: ['sentence', 'corrections'],\n",
      "        num_rows: 604\n",
      "    })\n",
      "    validation: Dataset({\n",
      "        features: ['sentence', 'corrections'],\n",
      "        num_rows: 151\n",
      "    })\n",
      "})\n"
     ]
    }
   ],
   "execution_count": 3
  },
  {
   "metadata": {},
   "cell_type": "markdown",
   "source": "#### Tokenizer i funkcję preprocess",
   "id": "370995976cd441e9"
  },
  {
   "metadata": {
    "ExecuteTime": {
     "end_time": "2025-06-02T15:24:09.084633Z",
     "start_time": "2025-06-02T15:24:08.020804Z"
    }
   },
   "cell_type": "code",
   "source": [
    "MODEL_BASE = \"t5-base\"\n",
    "tokenizer = AutoTokenizer.from_pretrained(MODEL_BASE)\n",
    "\n",
    "\n",
    "def preprocess_batch(batch, max_len=128):\n",
    "    inputs = [\"gec: \" + s for s in batch[\"sentence\"]]\n",
    "    targets = [c[0] for c in batch[\"corrections\"]]\n",
    "\n",
    "    model_inputs = tokenizer(\n",
    "        inputs,\n",
    "        max_length=max_len,\n",
    "        truncation=True,\n",
    "        padding=\"max_length\"\n",
    "    )\n",
    "    with tokenizer.as_target_tokenizer():\n",
    "        labels = tokenizer(\n",
    "            targets,\n",
    "            max_length=max_len,\n",
    "            truncation=True,\n",
    "            padding=\"max_length\"\n",
    "        )\n",
    "\n",
    "    model_inputs[\"labels\"] = labels[\"input_ids\"]\n",
    "    return model_inputs\n",
    "\n",
    "\n",
    "max_len = 128\n",
    "tokenized_datasets = token_source.map(\n",
    "    lambda batch: preprocess_batch(batch, max_len=max_len),\n",
    "    batched=True,\n",
    "    remove_columns=token_source[\"train\"].column_names\n",
    ")\n",
    "\n",
    "print(tokenized_datasets[\"train\"][0].keys())"
   ],
   "id": "cab2447a15db84de",
   "outputs": [
    {
     "name": "stdout",
     "output_type": "stream",
     "text": [
      "dict_keys(['input_ids', 'attention_mask', 'labels'])\n"
     ]
    }
   ],
   "execution_count": 4
  },
  {
   "metadata": {},
   "cell_type": "markdown",
   "source": "#### Konfiguracja LoRA i modelu seq2seq",
   "id": "2dd0ed391395b848"
  },
  {
   "metadata": {
    "ExecuteTime": {
     "end_time": "2025-06-02T15:24:09.923815Z",
     "start_time": "2025-06-02T15:24:09.093373Z"
    }
   },
   "cell_type": "code",
   "source": [
    "lora_r = 8\n",
    "lora_alpha = 32\n",
    "lora_dropout = 0.1\n",
    "\n",
    "lora_config = LoraConfig(\n",
    "    r=lora_r,\n",
    "    lora_alpha=lora_alpha,\n",
    "    target_modules=[\"q\", \"v\"],\n",
    "    lora_dropout=lora_dropout,\n",
    "    bias=\"none\",\n",
    "    task_type=\"SEQ_2_SEQ_LM\"\n",
    ")\n",
    "\n",
    "base_model = AutoModelForSeq2SeqLM.from_pretrained(MODEL_BASE)\n",
    "model = get_peft_model(base_model, lora_config)"
   ],
   "id": "64135a50f453e47a",
   "outputs": [],
   "execution_count": 5
  },
  {
   "metadata": {},
   "cell_type": "markdown",
   "source": "#### Data collator",
   "id": "729da7f1e6e8ffa4"
  },
  {
   "metadata": {
    "ExecuteTime": {
     "end_time": "2025-06-02T15:24:09.939128Z",
     "start_time": "2025-06-02T15:24:09.937164Z"
    }
   },
   "cell_type": "code",
   "source": [
    "data_collator = DataCollatorForSeq2Seq(\n",
    "    tokenizer,\n",
    "    model=model,\n",
    "    label_pad_token_id=-100\n",
    ")"
   ],
   "id": "5d51af5a3830738b",
   "outputs": [],
   "execution_count": 6
  },
  {
   "metadata": {
    "ExecuteTime": {
     "end_time": "2025-06-02T15:24:09.959067Z",
     "start_time": "2025-06-02T15:24:09.956558Z"
    }
   },
   "cell_type": "code",
   "source": [
    "experiment_name = \"t5base_gf_20k_ep3_lora8\"\n",
    "output_dir = os.path.join(\"results_gec\", experiment_name)\n",
    "os.makedirs(output_dir, exist_ok=True)"
   ],
   "id": "397e18298975c357",
   "outputs": [],
   "execution_count": 7
  },
  {
   "metadata": {},
   "cell_type": "markdown",
   "source": "#### Funkcja metryk (BLEU)",
   "id": "7df26516fe4f6c1"
  },
  {
   "metadata": {
    "ExecuteTime": {
     "end_time": "2025-06-02T15:24:09.977980Z",
     "start_time": "2025-06-02T15:24:09.975494Z"
    }
   },
   "cell_type": "code",
   "source": [
    "def compute_metrics(eval_preds):\n",
    "    preds, labels = eval_preds\n",
    "\n",
    "    labels = np.where(labels != -100, labels, tokenizer.pad_token_id)\n",
    "\n",
    "    max_token_id = tokenizer.vocab_size - 1\n",
    "    preds = np.clip(preds, 0, max_token_id)\n",
    "    labels = np.clip(labels, 0, max_token_id)\n",
    "\n",
    "    decoded_preds = tokenizer.batch_decode(preds, skip_special_tokens=True)\n",
    "    decoded_labels = tokenizer.batch_decode(labels, skip_special_tokens=True)\n",
    "\n",
    "    bleu = sacrebleu.corpus_bleu(decoded_preds, [decoded_labels])\n",
    "    return {\"bleu\": bleu.score}"
   ],
   "id": "cc4e7fb34a9edc8",
   "outputs": [],
   "execution_count": 8
  },
  {
   "metadata": {
    "ExecuteTime": {
     "end_time": "2025-06-02T15:24:09.997729Z",
     "start_time": "2025-06-02T15:24:09.994199Z"
    }
   },
   "cell_type": "code",
   "source": [
    "training_args = Seq2SeqTrainingArguments(\n",
    "    output_dir=output_dir,\n",
    "    per_device_train_batch_size=16,\n",
    "    per_device_eval_batch_size=16,\n",
    "    predict_with_generate=True,\n",
    "    eval_strategy=\"epoch\",\n",
    "    save_strategy=\"epoch\",\n",
    "    logging_steps=100,\n",
    "    num_train_epochs=3,\n",
    "    learning_rate=5e-5,\n",
    "    weight_decay=0.01,\n",
    "    generation_max_length=max_len,\n",
    "    generation_num_beams=4,\n",
    "    load_best_model_at_end=True,\n",
    "    metric_for_best_model=\"bleu\",\n",
    "    greater_is_better=True,\n",
    "    dataloader_pin_memory=False,\n",
    ")"
   ],
   "id": "32d05d6e7ea74e2",
   "outputs": [],
   "execution_count": 9
  },
  {
   "metadata": {},
   "cell_type": "markdown",
   "source": "#### Trening modelu Seq2Seq",
   "id": "3a745d2a503997cd"
  },
  {
   "metadata": {
    "ExecuteTime": {
     "end_time": "2025-06-02T15:29:16.900387Z",
     "start_time": "2025-06-02T15:24:10.014048Z"
    }
   },
   "cell_type": "code",
   "source": [
    "trainer = Seq2SeqTrainer(\n",
    "    model=model,\n",
    "    args=training_args,\n",
    "    train_dataset=tokenized_datasets[\"train\"],\n",
    "    eval_dataset=tokenized_datasets[\"validation\"],\n",
    "    tokenizer=tokenizer,\n",
    "    data_collator=data_collator,\n",
    "    compute_metrics=compute_metrics\n",
    ")\n",
    "\n",
    "trainer.train()"
   ],
   "id": "a972733059cf10be",
   "outputs": [
    {
     "name": "stderr",
     "output_type": "stream",
     "text": [
      "/var/folders/z_/dq8r0xg94mxfzfpr1jmhv_740000gn/T/ipykernel_3923/500907040.py:2: FutureWarning: `tokenizer` is deprecated and will be removed in version 5.0.0 for `Seq2SeqTrainer.__init__`. Use `processing_class` instead.\n",
      "  trainer = Seq2SeqTrainer(\n",
      "No label_names provided for model class `PeftModelForSeq2SeqLM`. Since `PeftModel` hides base models input arguments, if label_names is not given, label_names can't be set automatically within `Trainer`. Note that empty label_names list will be used instead.\n",
      "Passing a tuple of `past_key_values` is deprecated and will be removed in Transformers v4.48.0. You should pass an instance of `EncoderDecoderCache` instead, e.g. `past_key_values=EncoderDecoderCache.from_legacy_cache(past_key_values)`.\n"
     ]
    },
    {
     "data": {
      "text/plain": [
       "<IPython.core.display.HTML object>"
      ],
      "text/html": [
       "\n",
       "    <div>\n",
       "      \n",
       "      <progress value='114' max='114' style='width:300px; height:20px; vertical-align: middle;'></progress>\n",
       "      [114/114 05:03, Epoch 3/3]\n",
       "    </div>\n",
       "    <table border=\"1\" class=\"dataframe\">\n",
       "  <thead>\n",
       " <tr style=\"text-align: left;\">\n",
       "      <th>Epoch</th>\n",
       "      <th>Training Loss</th>\n",
       "      <th>Validation Loss</th>\n",
       "      <th>Bleu</th>\n",
       "    </tr>\n",
       "  </thead>\n",
       "  <tbody>\n",
       "    <tr>\n",
       "      <td>1</td>\n",
       "      <td>No log</td>\n",
       "      <td>10.558151</td>\n",
       "      <td>27.358801</td>\n",
       "    </tr>\n",
       "    <tr>\n",
       "      <td>2</td>\n",
       "      <td>No log</td>\n",
       "      <td>8.954256</td>\n",
       "      <td>24.451813</td>\n",
       "    </tr>\n",
       "    <tr>\n",
       "      <td>3</td>\n",
       "      <td>10.316400</td>\n",
       "      <td>8.367601</td>\n",
       "      <td>24.270149</td>\n",
       "    </tr>\n",
       "  </tbody>\n",
       "</table><p>"
      ]
     },
     "metadata": {},
     "output_type": "display_data"
    },
    {
     "name": "stderr",
     "output_type": "stream",
     "text": [
      "That's 100 lines that end in a tokenized period ('.')\n",
      "It looks like you forgot to detokenize your test data, which may hurt your score.\n",
      "If you insist your data is detokenized, or don't care, you can suppress this message with the `force` parameter.\n",
      "That's 100 lines that end in a tokenized period ('.')\n",
      "It looks like you forgot to detokenize your test data, which may hurt your score.\n",
      "If you insist your data is detokenized, or don't care, you can suppress this message with the `force` parameter.\n",
      "That's 100 lines that end in a tokenized period ('.')\n",
      "It looks like you forgot to detokenize your test data, which may hurt your score.\n",
      "If you insist your data is detokenized, or don't care, you can suppress this message with the `force` parameter.\n"
     ]
    },
    {
     "data": {
      "text/plain": [
       "TrainOutput(global_step=114, training_loss=10.12998012074253, metrics={'train_runtime': 305.8573, 'train_samples_per_second': 5.924, 'train_steps_per_second': 0.373, 'total_flos': 277089137197056.0, 'train_loss': 10.12998012074253, 'epoch': 3.0})"
      ]
     },
     "execution_count": 10,
     "metadata": {},
     "output_type": "execute_result"
    }
   ],
   "execution_count": 10
  },
  {
   "metadata": {},
   "cell_type": "markdown",
   "source": "#### Podsumowanie treningu",
   "id": "801e2009e230765f"
  },
  {
   "metadata": {
    "ExecuteTime": {
     "end_time": "2025-06-02T15:29:16.925107Z",
     "start_time": "2025-06-02T15:29:16.922530Z"
    }
   },
   "cell_type": "code",
   "source": [
    "best_bleu = trainer.state.best_metric\n",
    "print(f\"Najlepszy BLEU na walidacji: {best_bleu:.2f}\")"
   ],
   "id": "b6d3921f29576ca6",
   "outputs": [
    {
     "name": "stdout",
     "output_type": "stream",
     "text": [
      "Najlepszy BLEU na walidacji: 27.36\n"
     ]
    }
   ],
   "execution_count": 11
  },
  {
   "metadata": {
    "ExecuteTime": {
     "end_time": "2025-06-02T15:29:17.324960Z",
     "start_time": "2025-06-02T15:29:16.957280Z"
    }
   },
   "cell_type": "code",
   "source": [
    "adapter_dir = os.path.join(output_dir, \"lora_adapter\")\n",
    "model.save_pretrained(adapter_dir)\n",
    "print(\"Adapter LoRA zapisany w:\", adapter_dir)"
   ],
   "id": "86362c827cd2bfec",
   "outputs": [
    {
     "name": "stdout",
     "output_type": "stream",
     "text": [
      "Adapter LoRA zapisany w: results_gec/t5base_gf_20k_ep3_lora8/lora_adapter\n"
     ]
    }
   ],
   "execution_count": 12
  },
  {
   "metadata": {
    "ExecuteTime": {
     "end_time": "2025-06-02T15:29:17.552073Z",
     "start_time": "2025-06-02T15:29:17.352204Z"
    }
   },
   "cell_type": "code",
   "source": [
    "logs = trainer.state.log_history\n",
    "\n",
    "steps = [entry[\"step\"] for entry in logs if \"step\" in entry and \"loss\" in entry]\n",
    "train_ls = [entry[\"loss\"] for entry in logs if \"loss\" in entry and \"epoch\" not in entry.get(\"key\", \"\")]\n",
    "eval_ls = [entry[\"eval_loss\"] for entry in logs if \"eval_loss\" in entry]\n",
    "eval_steps = [entry[\"step\"] for entry in logs if \"eval_loss\" in entry]\n",
    "\n",
    "plt.figure(figsize=(8, 4))\n",
    "plt.plot(steps, train_ls, label=\"train_loss\")\n",
    "plt.plot(eval_steps, eval_ls, label=\"eval_loss\")\n",
    "plt.xlabel(\"Krok (step)\")\n",
    "plt.ylabel(\"Loss\")\n",
    "plt.title(\"Przebieg strat podczas treningu GEC\")\n",
    "plt.legend()\n",
    "plt.show()\n",
    "\n",
    "eval_bleu = [entry[\"eval_bleu\"] for entry in logs if \"eval_bleu\" in entry]\n",
    "bleu_steps = [entry[\"step\"] for entry in logs if \"eval_bleu\" in entry]\n",
    "\n",
    "plt.figure(figsize=(8, 4))\n",
    "plt.plot(bleu_steps, eval_bleu, marker=\"o\", color=\"green\")\n",
    "plt.xlabel(\"Krok (step)\")\n",
    "plt.ylabel(\"BLEU\")\n",
    "plt.title(\"BLEU walidacyjne w trakcie treningu GEC\")\n",
    "plt.show()"
   ],
   "id": "f4e1e158c292eb9f",
   "outputs": [
    {
     "data": {
      "text/plain": [
       "<Figure size 800x400 with 1 Axes>"
      ],
      "image/png": "[encoded data removed]"
     },
     "metadata": {},
     "output_type": "display_data"
    },
    {
     "data": {
      "text/plain": [
       "<Figure size 800x400 with 1 Axes>"
      ],
      "image/png": "[encoded data removed]"
     },
     "metadata": {},
     "output_type": "display_data"
    }
   ],
   "execution_count": 13
  },
  {
   "metadata": {},
   "cell_type": "markdown",
   "source": "#### Testowanie modelu GEC",
   "id": "194abd1dc7f4cba5"
  },
  {
   "metadata": {
    "ExecuteTime": {
     "end_time": "2025-06-02T15:29:27.026460Z",
     "start_time": "2025-06-02T15:29:17.586054Z"
    }
   },
   "cell_type": "code",
   "source": [
    "from transformers import pipeline, AutoTokenizer, AutoModelForSeq2SeqLM\n",
    "from peft import PeftModel\n",
    "import os\n",
    "import torch\n",
    "\n",
    "MODEL_BASE = \"t5-base\"\n",
    "DEVICE = 0 if torch.cuda.is_available() else -1\n",
    "\n",
    "BEST_DIR = \"results_gec/t5base_gf_20k_ep3_lora8\"\n",
    "tokenizer = AutoTokenizer.from_pretrained(MODEL_BASE)\n",
    "base_model = AutoModelForSeq2SeqLM.from_pretrained(MODEL_BASE)\n",
    "model = PeftModel.from_pretrained(\n",
    "    base_model,\n",
    "    os.path.join(BEST_DIR, \"lora_adapter\"),\n",
    "    local_files_only=True\n",
    ")\n",
    "\n",
    "gec_pipeline = pipeline(\n",
    "    \"text2text-generation\",\n",
    "    model=model,\n",
    "    tokenizer=tokenizer,\n",
    "    device=DEVICE,\n",
    "    num_beams=4,\n",
    "    no_repeat_ngram_size=2,\n",
    "    early_stopping=True,\n",
    "    clean_up_tokenization_spaces=True,\n",
    ")\n",
    "\n",
    "test_sentences = [\n",
    "    \"She go to school yesterday.\",\n",
    "    \"I has a apple.\",\n",
    "    \"This is the best book that I have readed.\",\n",
    "    \"He don't like to play football.\",\n",
    "    \"Their going to the store later.\",\n",
    "]\n",
    "\n",
    "max_new_tokens = 64\n",
    "\n",
    "print(f\"Device set to use \\\"{'cuda' if DEVICE == 0 else 'cpu'}\\\"\\n\")\n",
    "\n",
    "for raw in test_sentences:\n",
    "    prompt = \"gec: \" + raw\n",
    "\n",
    "    outs = gec_pipeline(\n",
    "        prompt,\n",
    "        max_new_tokens=max_new_tokens\n",
    "    )\n",
    "    generated = outs[0][\"generated_text\"]\n",
    "\n",
    "    cleaned = generated\n",
    "    if \"gec:\" in cleaned:\n",
    "        last = cleaned.rfind(\"gec:\")\n",
    "        cleaned = cleaned[last + len(\"gec:\"):].strip()\n",
    "    elif \":::\" in cleaned:\n",
    "        last = cleaned.rfind(\":::\")\n",
    "        cleaned = cleaned[last + len(\":::\"):].strip()\n",
    "\n",
    "    print(f\">>> RAW : {raw}\")\n",
    "    print(f\"    GEC : {cleaned}\\n\")"
   ],
   "id": "82f262e620c75e8e",
   "outputs": [
    {
     "name": "stderr",
     "output_type": "stream",
     "text": [
      "Device set to use cpu\n"
     ]
    },
    {
     "name": "stdout",
     "output_type": "stream",
     "text": [
      "Device set to use \"cpu\"\n",
      "\n",
      ">>> RAW : She go to school yesterday.\n",
      "    GEC : She go to school yesterday.\n",
      "\n",
      ">>> RAW : I has a apple.\n",
      "    GEC : I has a apple.\n",
      "\n",
      ">>> RAW : This is the best book that I have readed.\n",
      "    GEC : I am very happy with this book.\n",
      "\n",
      ">>> RAW : He don't like to play football.\n",
      "    GEC : He don't like to play football.\n",
      "\n",
      ">>> RAW : Their going to the store later.\n",
      "    GEC : Gec: Their going to the store later.\n",
      "\n"
     ]
    }
   ],
   "execution_count": 14
  },
  {
   "metadata": {},
   "cell_type": "markdown",
   "source": "## Eksperymenty",
   "id": "e395273254ce76c"
  },
  {
   "metadata": {},
   "cell_type": "markdown",
   "source": "#### Import i ustawienia",
   "id": "61125c3c84be258"
  },
  {
   "metadata": {
    "ExecuteTime": {
     "end_time": "2025-06-02T15:29:27.573749Z",
     "start_time": "2025-06-02T15:29:27.049104Z"
    }
   },
   "cell_type": "code",
   "source": [
    "import os\n",
    "import numpy as np\n",
    "import json\n",
    "import nltk\n",
    "from datasets import load_dataset, concatenate_datasets, DatasetDict\n",
    "from transformers import (\n",
    "    AutoTokenizer,\n",
    "    AutoModelForSeq2SeqLM,\n",
    "    Seq2SeqTrainer,\n",
    "    Seq2SeqTrainingArguments,\n",
    "    DataCollatorForSeq2Seq,\n",
    "    pipeline,\n",
    ")\n",
    "import sacrebleu\n",
    "import torch\n",
    "import matplotlib.pyplot as plt\n",
    "from peft import LoraConfig, get_peft_model, PeftModel\n",
    "\n",
    "nltk.download('punkt')\n",
    "\n",
    "device = 0 if torch.cuda.is_available() else -1\n",
    "print(\"Urządzenie do trenowania/inferencji:\", \"cuda\" if device == 0 else \"cpu\")"
   ],
   "id": "7a4145340a9fe07d",
   "outputs": [
    {
     "name": "stdout",
     "output_type": "stream",
     "text": [
      "Urządzenie do trenowania/inferencji: cpu\n"
     ]
    },
    {
     "name": "stderr",
     "output_type": "stream",
     "text": [
      "[nltk_data] Downloading package punkt to /Users/amika/nltk_data...\n",
      "[nltk_data]   Package punkt is already up-to-date!\n"
     ]
    }
   ],
   "execution_count": 15
  },
  {
   "metadata": {},
   "cell_type": "markdown",
   "source": "#### Funkcje pomocnicze i konwersja M2‐JSON do JSONL",
   "id": "dfc0415d12be1958"
  },
  {
   "metadata": {
    "ExecuteTime": {
     "end_time": "2025-06-02T15:29:27.595070Z",
     "start_time": "2025-06-02T15:29:27.592194Z"
    }
   },
   "cell_type": "code",
   "source": [
    "def preprocess_gec(batch, max_len=128):\n",
    "    inputs = [\"gec: \" + s for s in batch[\"sentence\"]]\n",
    "    targets = [c[0] for c in batch[\"corrections\"]]\n",
    "\n",
    "    model_inputs = tokenizer(\n",
    "        inputs,\n",
    "        max_length=max_len,\n",
    "        truncation=True,\n",
    "        padding=\"max_length\"\n",
    "    )\n",
    "    with tokenizer.as_target_tokenizer():\n",
    "        labels = tokenizer(\n",
    "            targets,\n",
    "            max_length=max_len,\n",
    "            truncation=True,\n",
    "            padding=\"max_length\"\n",
    "        )\n",
    "\n",
    "    model_inputs[\"labels\"] = labels[\"input_ids\"]\n",
    "    return model_inputs"
   ],
   "id": "661fc5bf28196363",
   "outputs": [],
   "execution_count": 16
  },
  {
   "metadata": {
    "ExecuteTime": {
     "end_time": "2025-06-02T15:29:27.618812Z",
     "start_time": "2025-06-02T15:29:27.614889Z"
    }
   },
   "cell_type": "code",
   "source": [
    "def compute_metrics_bleu_gleu(eval_preds):\n",
    "    preds, labels = eval_preds\n",
    "\n",
    "    if isinstance(preds, tuple):\n",
    "        preds = preds[0]\n",
    "\n",
    "    if isinstance(preds, torch.Tensor):\n",
    "        preds = preds.detach().cpu().numpy()\n",
    "    if isinstance(labels, torch.Tensor):\n",
    "        labels = labels.detach().cpu().numpy()\n",
    "\n",
    "    preds = np.asarray(preds, dtype=np.int64)\n",
    "    labels = np.asarray(labels, dtype=np.int64)\n",
    "\n",
    "    labels = np.where(labels != -100, labels, tokenizer.pad_token_id)\n",
    "\n",
    "    preds_list = preds.tolist()\n",
    "    labels_list = labels.tolist()\n",
    "\n",
    "    vocab_size = tokenizer.vocab_size\n",
    "    clean_preds = []\n",
    "    for seq in preds_list:\n",
    "        clean_seq = [\n",
    "            tok if (isinstance(tok, int) and 0 <= tok < vocab_size)\n",
    "            else tokenizer.pad_token_id\n",
    "            for tok in seq\n",
    "        ]\n",
    "        clean_preds.append(clean_seq)\n",
    "\n",
    "    clean_labels = []\n",
    "    for seq in labels_list:\n",
    "        clean_seq = [\n",
    "            tok if (isinstance(tok, int) and 0 <= tok < vocab_size)\n",
    "            else tokenizer.pad_token_id\n",
    "            for tok in seq\n",
    "        ]\n",
    "        clean_labels.append(clean_seq)\n",
    "\n",
    "    decoded_preds = tokenizer.batch_decode(clean_preds, skip_special_tokens=True)\n",
    "    decoded_labels = tokenizer.batch_decode(clean_labels, skip_special_tokens=True)\n",
    "\n",
    "    bleu = sacrebleu.corpus_bleu(decoded_preds, [decoded_labels]).score\n",
    "\n",
    "    gleu_scores = []\n",
    "    for hyp, ref in zip(decoded_preds, decoded_labels):\n",
    "        hyp_tok = hyp.split()\n",
    "        ref_tok = ref.split()\n",
    "        gleu_scores.append(nltk.translate.gleu_score.sentence_gleu([ref_tok], hyp_tok))\n",
    "    avg_gleu = float(np.mean(gleu_scores)) * 100\n",
    "\n",
    "    return {\"bleu\": bleu, \"gleu\": avg_gleu}"
   ],
   "id": "dd25fd554fd8e8c7",
   "outputs": [],
   "execution_count": 17
  },
  {
   "metadata": {
    "ExecuteTime": {
     "end_time": "2025-06-02T15:29:27.639814Z",
     "start_time": "2025-06-02T15:29:27.636755Z"
    }
   },
   "cell_type": "code",
   "source": [
    "def m2_record_to_pair(m2_obj):\n",
    "    if \"orig\" in m2_obj:\n",
    "        orig_text = m2_obj[\"orig\"].strip()\n",
    "    elif \"sentence\" in m2_obj:\n",
    "        orig_text = m2_obj[\"sentence\"].strip()\n",
    "    else:\n",
    "        orig_text = str(m2_obj).strip()\n",
    "\n",
    "    tokens = orig_text.split()\n",
    "    edits = m2_obj.get(\"edits\", [])\n",
    "    if not edits:\n",
    "        return orig_text, orig_text\n",
    "\n",
    "    first = edits[0]\n",
    "    if isinstance(first, dict):\n",
    "        start = first.get(\"start\", None)\n",
    "        end = first.get(\"end\", None)\n",
    "        corr = first.get(\"correction\", \"\").strip()\n",
    "    elif isinstance(first, (list, tuple)):\n",
    "        if len(first) >= 2:\n",
    "            start = first[0]\n",
    "            end = first[1]\n",
    "            if len(first) >= 4:\n",
    "                corr = str(first[3]).strip()\n",
    "            elif len(first) >= 3:\n",
    "                corr = str(first[2]).strip()\n",
    "            else:\n",
    "                corr = \"\"\n",
    "        else:\n",
    "            return orig_text, orig_text\n",
    "    else:\n",
    "        return orig_text, orig_text\n",
    "\n",
    "    if not (isinstance(start, int) and isinstance(end, int)):\n",
    "        return orig_text, orig_text\n",
    "    if start < 0 or end < 0 or start > end or end > len(tokens):\n",
    "        return orig_text, orig_text\n",
    "\n",
    "    before = tokens[:start]\n",
    "    after = tokens[end:]\n",
    "    corr_tokens = corr.split()\n",
    "    new_tokens = before + corr_tokens + after\n",
    "    corrected = \" \".join(new_tokens)\n",
    "\n",
    "    return orig_text, corrected"
   ],
   "id": "ea3b51f012162d44",
   "outputs": [],
   "execution_count": 18
  },
  {
   "metadata": {
    "ExecuteTime": {
     "end_time": "2025-06-02T15:29:27.656570Z",
     "start_time": "2025-06-02T15:29:27.654329Z"
    }
   },
   "cell_type": "code",
   "source": [
    "def convert_m2_json_to_jsonl(m2_json_path, output_jsonl_path):\n",
    "    os.makedirs(os.path.dirname(output_jsonl_path), exist_ok=True)\n",
    "    with open(m2_json_path, \"r\", encoding=\"utf-8\") as fr, \\\n",
    "            open(output_jsonl_path, \"w\", encoding=\"utf-8\") as fw:\n",
    "        for line in fr:\n",
    "            line = line.strip()\n",
    "            if not line:\n",
    "                continue\n",
    "            obj = json.loads(line)\n",
    "            orig, corr = m2_record_to_pair(obj)\n",
    "            out = {\"sentence\": orig, \"correction\": corr}\n",
    "            fw.write(json.dumps(out, ensure_ascii=False) + \"\\n\")"
   ],
   "id": "6954c9f75c4ef7b4",
   "outputs": [],
   "execution_count": 19
  },
  {
   "metadata": {},
   "cell_type": "markdown",
   "source": "#### Konwersja M2 do JSONL",
   "id": "13bdbff24292d2e8"
  },
  {
   "metadata": {
    "ExecuteTime": {
     "end_time": "2025-06-02T15:29:27.958162Z",
     "start_time": "2025-06-02T15:29:27.672184Z"
    }
   },
   "cell_type": "code",
   "source": [
    "bea19_root = \"/Users/amika/Documents/projects-uni/lingofusion/data/bea19\"\n",
    "\n",
    "# 2.1. FCE: (train, dev, test)\n",
    "fce_json_dir = os.path.join(bea19_root, \"fce\", \"json\")\n",
    "fce_outdir = os.path.join(bea19_root, \"jsonl\", \"fce\")\n",
    "for split in [\"train\", \"dev\", \"test\"]:\n",
    "    in_path = os.path.join(fce_json_dir, f\"fce.{split}.json\")\n",
    "    out_path = os.path.join(fce_outdir, f\"fce_{split}.jsonl\")\n",
    "    if not os.path.isfile(in_path):\n",
    "        print(f\"Uwaga: plik '{in_path}' nie istnieje, pomijam.\")\n",
    "        continue\n",
    "    convert_m2_json_to_jsonl(in_path, out_path)\n",
    "    print(f\"FCE {split} → {out_path}\")\n",
    "\n",
    "# 2.2. Wi+Locness: prefixy A, B, C, N\n",
    "wiloc_json_dir = os.path.join(bea19_root, \"wi+locness\", \"json\")\n",
    "wiloc_outdir = os.path.join(bea19_root, \"jsonl\", \"wi_locness\")\n",
    "for prefix in [\"A\", \"B\", \"C\", \"N\"]:\n",
    "    for split in [\"train\", \"dev\"]:\n",
    "        in_path = os.path.join(wiloc_json_dir, f\"{prefix}.{split}.json\")\n",
    "        out_path = os.path.join(wiloc_outdir, f\"wi_{prefix}_{split}.jsonl\")\n",
    "        if not os.path.isfile(in_path):\n",
    "            print(f\"Uwaga: plik '{in_path}' nie istnieje, pomijam.\")\n",
    "            continue\n",
    "        convert_m2_json_to_jsonl(in_path, out_path)\n",
    "        print(f\"Wi+Locness {prefix} {split} → {out_path}\")"
   ],
   "id": "a39d4639beed1c6c",
   "outputs": [
    {
     "name": "stdout",
     "output_type": "stream",
     "text": [
      "FCE train → /Users/amika/Documents/projects-uni/lingofusion/data/bea19/jsonl/fce/fce_train.jsonl\n",
      "FCE dev → /Users/amika/Documents/projects-uni/lingofusion/data/bea19/jsonl/fce/fce_dev.jsonl\n",
      "FCE test → /Users/amika/Documents/projects-uni/lingofusion/data/bea19/jsonl/fce/fce_test.jsonl\n",
      "Wi+Locness A train → /Users/amika/Documents/projects-uni/lingofusion/data/bea19/jsonl/wi_locness/wi_A_train.jsonl\n",
      "Wi+Locness A dev → /Users/amika/Documents/projects-uni/lingofusion/data/bea19/jsonl/wi_locness/wi_A_dev.jsonl\n",
      "Wi+Locness B train → /Users/amika/Documents/projects-uni/lingofusion/data/bea19/jsonl/wi_locness/wi_B_train.jsonl\n",
      "Wi+Locness B dev → /Users/amika/Documents/projects-uni/lingofusion/data/bea19/jsonl/wi_locness/wi_B_dev.jsonl\n",
      "Wi+Locness C train → /Users/amika/Documents/projects-uni/lingofusion/data/bea19/jsonl/wi_locness/wi_C_train.jsonl\n",
      "Wi+Locness C dev → /Users/amika/Documents/projects-uni/lingofusion/data/bea19/jsonl/wi_locness/wi_C_dev.jsonl\n",
      "Uwaga: plik '/Users/amika/Documents/projects-uni/lingofusion/data/bea19/wi+locness/json/N.train.json' nie istnieje, pomijam.\n",
      "Wi+Locness N dev → /Users/amika/Documents/projects-uni/lingofusion/data/bea19/jsonl/wi_locness/wi_N_dev.jsonl\n"
     ]
    }
   ],
   "execution_count": 20
  },
  {
   "metadata": {},
   "cell_type": "markdown",
   "source": "#### Ładowanie i scalanie zbiorów GEC",
   "id": "18dedbbc767ccd82"
  },
  {
   "metadata": {
    "ExecuteTime": {
     "end_time": "2025-06-02T15:29:32.417603Z",
     "start_time": "2025-06-02T15:29:27.974461Z"
    }
   },
   "cell_type": "code",
   "source": [
    "jfleg_full = load_dataset(\"jfleg\")\n",
    "print(\"Dostępne splits w jfleg_full:\", jfleg_full.keys())\n",
    "raw_val = jfleg_full[\"validation\"]\n",
    "splits_jfleg = raw_val.train_test_split(test_size=0.20, seed=42)\n",
    "jfleg_ds = DatasetDict({\n",
    "    \"train\": splits_jfleg[\"train\"],\n",
    "    \"validation\": splits_jfleg[\"test\"]\n",
    "})\n",
    "\n",
    "print(\"JFLEG-only:\", jfleg_ds)"
   ],
   "id": "99a72643bd4ffc14",
   "outputs": [
    {
     "name": "stdout",
     "output_type": "stream",
     "text": [
      "Dostępne splits w jfleg_full: dict_keys(['validation', 'test'])\n",
      "JFLEG-only: DatasetDict({\n",
      "    train: Dataset({\n",
      "        features: ['sentence', 'corrections'],\n",
      "        num_rows: 604\n",
      "    })\n",
      "    validation: Dataset({\n",
      "        features: ['sentence', 'corrections'],\n",
      "        num_rows: 151\n",
      "    })\n",
      "})\n"
     ]
    }
   ],
   "execution_count": 21
  },
  {
   "metadata": {
    "ExecuteTime": {
     "end_time": "2025-06-02T15:29:32.654361Z",
     "start_time": "2025-06-02T15:29:32.440478Z"
    }
   },
   "cell_type": "code",
   "source": [
    "fce_data_files = {\n",
    "    \"train\": os.path.join(bea19_root, \"jsonl\", \"fce\", \"fce_train.jsonl\"),\n",
    "    \"validation\": os.path.join(bea19_root, \"jsonl\", \"fce\", \"fce_dev.jsonl\"),\n",
    "}\n",
    "fce_ds = load_dataset(\"json\", data_files=fce_data_files, split=None)\n",
    "\n",
    "fce_ds = DatasetDict({\n",
    "    \"train\": fce_ds[\"train\"].map(\n",
    "        lambda ex: {\"corrections\": [ex[\"correction\"]]},\n",
    "        remove_columns=[\"correction\"],\n",
    "    ),\n",
    "    \"validation\": fce_ds[\"validation\"].map(\n",
    "        lambda ex: {\"corrections\": [ex[\"correction\"]]},\n",
    "        remove_columns=[\"correction\"],\n",
    "    )\n",
    "})\n",
    "\n",
    "print(\"FCE (po ujednoliceniu):\", fce_ds)"
   ],
   "id": "2e703e7023766f56",
   "outputs": [
    {
     "name": "stderr",
     "output_type": "stream",
     "text": [
      "Generating train split: 2116 examples [00:00, 140094.83 examples/s]\n",
      "Generating validation split: 159 examples [00:00, 78745.35 examples/s]\n",
      "Map: 100%|██████████| 2116/2116 [00:00<00:00, 47311.41 examples/s]\n",
      "Map: 100%|██████████| 159/159 [00:00<00:00, 30708.40 examples/s]"
     ]
    },
    {
     "name": "stdout",
     "output_type": "stream",
     "text": [
      "FCE (po ujednoliceniu): DatasetDict({\n",
      "    train: Dataset({\n",
      "        features: ['sentence', 'corrections'],\n",
      "        num_rows: 2116\n",
      "    })\n",
      "    validation: Dataset({\n",
      "        features: ['sentence', 'corrections'],\n",
      "        num_rows: 159\n",
      "    })\n",
      "})\n"
     ]
    },
    {
     "name": "stderr",
     "output_type": "stream",
     "text": [
      "\n"
     ]
    }
   ],
   "execution_count": 22
  },
  {
   "metadata": {
    "ExecuteTime": {
     "end_time": "2025-06-02T15:29:32.923666Z",
     "start_time": "2025-06-02T15:29:32.672705Z"
    }
   },
   "cell_type": "code",
   "source": [
    "wiloc_json_dir = os.path.join(bea19_root, \"jsonl\", \"wi_locness\")\n",
    "\n",
    "train_files = []\n",
    "for prefix in [\"A\", \"B\", \"C\", \"N\"]:\n",
    "    candidate = os.path.join(wiloc_json_dir, f\"wi_{prefix}_train.jsonl\")\n",
    "    if os.path.isfile(candidate):\n",
    "        train_files.append(candidate)\n",
    "\n",
    "if train_files:\n",
    "    raw_wi_all = load_dataset(\"json\", data_files={\"train\": train_files}, split=\"train\")\n",
    "\n",
    "    splits_wi = raw_wi_all.train_test_split(test_size=0.20, seed=42)\n",
    "    wi_ds = DatasetDict({\n",
    "        \"train\": splits_wi[\"train\"],\n",
    "        \"validation\": splits_wi[\"test\"]\n",
    "    })\n",
    "\n",
    "    wi_ds = DatasetDict({\n",
    "        \"train\": wi_ds[\"train\"].map(\n",
    "            lambda ex: {\"corrections\": [ex[\"correction\"]]},\n",
    "            remove_columns=[\"correction\"]\n",
    "        ),\n",
    "        \"validation\": wi_ds[\"validation\"].map(\n",
    "            lambda ex: {\"corrections\": [ex[\"correction\"]]},\n",
    "            remove_columns=[\"correction\"]\n",
    "        )\n",
    "    })\n",
    "    print(\"Wi+Locness (podział 80/20):\", wi_ds)\n",
    "else:\n",
    "    wi_ds = None\n",
    "    print(\"Uwaga: brak plików Wi+Locness_train → pomijam Wi+Locness.\")"
   ],
   "id": "4ee191230af85c97",
   "outputs": [
    {
     "name": "stderr",
     "output_type": "stream",
     "text": [
      "Generating train split: 3000 examples [00:00, 165782.77 examples/s]\n",
      "Map: 100%|██████████| 2400/2400 [00:00<00:00, 34356.43 examples/s]\n",
      "Map: 100%|██████████| 600/600 [00:00<00:00, 33593.40 examples/s]"
     ]
    },
    {
     "name": "stdout",
     "output_type": "stream",
     "text": [
      "Wi+Locness (podział 80/20): DatasetDict({\n",
      "    train: Dataset({\n",
      "        features: ['sentence', 'corrections'],\n",
      "        num_rows: 2400\n",
      "    })\n",
      "    validation: Dataset({\n",
      "        features: ['sentence', 'corrections'],\n",
      "        num_rows: 600\n",
      "    })\n",
      "})\n"
     ]
    },
    {
     "name": "stderr",
     "output_type": "stream",
     "text": [
      "\n"
     ]
    }
   ],
   "execution_count": 23
  },
  {
   "metadata": {
    "ExecuteTime": {
     "end_time": "2025-06-02T15:29:32.953279Z",
     "start_time": "2025-06-02T15:29:32.942762Z"
    }
   },
   "cell_type": "code",
   "source": [
    "print(\"● Rozmiar JFLEG train/valid:\", jfleg_ds[\"train\"].num_rows, jfleg_ds[\"validation\"].num_rows)\n",
    "print(\"● Rozmiar FCE   train/valid:\", fce_ds[\"train\"].num_rows, fce_ds[\"validation\"].num_rows)\n",
    "\n",
    "parts_train = [jfleg_ds[\"train\"], fce_ds[\"train\"]]\n",
    "parts_valid = [jfleg_ds[\"validation\"], fce_ds[\"validation\"]]\n",
    "\n",
    "if wi_ds is not None:\n",
    "    print(\"● Rozmiar Wi+Locness train/valid:\", wi_ds[\"train\"].num_rows, wi_ds[\"validation\"].num_rows)\n",
    "    parts_train.append(wi_ds[\"train\"])\n",
    "    parts_valid.append(wi_ds[\"validation\"])\n",
    "\n",
    "all_train = concatenate_datasets(parts_train)\n",
    "all_valid = concatenate_datasets(parts_valid)\n",
    "\n",
    "combined_ds = DatasetDict({\n",
    "    \"train\": all_train,\n",
    "    \"validation\": all_valid\n",
    "})\n",
    "print(\"COMBINED:\", combined_ds)\n",
    "print(\"  • TRAIN examples:     \", combined_ds[\"train\"].num_rows)\n",
    "print(\"  • VALIDATION examples:\", combined_ds[\"validation\"].num_rows)"
   ],
   "id": "28b0c49cc81816be",
   "outputs": [
    {
     "name": "stdout",
     "output_type": "stream",
     "text": [
      "● Rozmiar JFLEG train/valid: 604 151\n",
      "● Rozmiar FCE   train/valid: 2116 159\n",
      "● Rozmiar Wi+Locness train/valid: 2400 600\n",
      "COMBINED: DatasetDict({\n",
      "    train: Dataset({\n",
      "        features: ['sentence', 'corrections'],\n",
      "        num_rows: 5120\n",
      "    })\n",
      "    validation: Dataset({\n",
      "        features: ['sentence', 'corrections'],\n",
      "        num_rows: 910\n",
      "    })\n",
      "})\n",
      "  • TRAIN examples:      5120\n",
      "  • VALIDATION examples: 910\n"
     ]
    }
   ],
   "execution_count": 24
  },
  {
   "metadata": {},
   "cell_type": "markdown",
   "source": "#### Tokenizer i funkcja preprocess dla obu zbiorów",
   "id": "66c558140587071d"
  },
  {
   "metadata": {
    "ExecuteTime": {
     "end_time": "2025-06-02T15:29:34.750798Z",
     "start_time": "2025-06-02T15:29:32.973133Z"
    }
   },
   "cell_type": "code",
   "source": [
    "max_len = 128\n",
    "\n",
    "\n",
    "def tokenize_gec_ds(dataset_dict: DatasetDict) -> DatasetDict:\n",
    "    return dataset_dict.map(\n",
    "        lambda batch: preprocess_gec(batch, max_len=max_len),\n",
    "        batched=True,\n",
    "        remove_columns=dataset_dict[\"train\"].column_names\n",
    "    )\n",
    "\n",
    "\n",
    "jfleg_tokenized = tokenize_gec_ds(jfleg_ds)\n",
    "\n",
    "combined_tokenized = tokenize_gec_ds(combined_ds)"
   ],
   "id": "e42020a4f2fda61c",
   "outputs": [
    {
     "name": "stderr",
     "output_type": "stream",
     "text": [
      "Map:   0%|          | 0/5120 [00:00<?, ? examples/s]/Users/amika/python-global/lib/python3.12/site-packages/transformers/tokenization_utils_base.py:3959: UserWarning: `as_target_tokenizer` is deprecated and will be removed in v5 of Transformers. You can tokenize your labels by using the argument `text_target` of the regular `__call__` method (either in the same call as your input texts if you use the same keyword arguments, or in a separate call.\n",
      "  warnings.warn(\n",
      "Map: 100%|██████████| 5120/5120 [00:01<00:00, 3398.30 examples/s]\n",
      "Map: 100%|██████████| 910/910 [00:00<00:00, 3647.40 examples/s]\n"
     ]
    }
   ],
   "execution_count": 25
  },
  {
   "metadata": {},
   "cell_type": "markdown",
   "source": "### Eksperyment T5-large + JFLEG, num_epochs=3, LoRA r=8",
   "id": "2c5f4f7b7cf6a3fb"
  },
  {
   "metadata": {
    "ExecuteTime": {
     "end_time": "2025-06-02T15:29:34.770768Z",
     "start_time": "2025-06-02T15:29:34.769091Z"
    }
   },
   "cell_type": "code",
   "source": "MODEL_BASE = \"t5-large\"",
   "id": "c4c5cde8d2799b59",
   "outputs": [],
   "execution_count": 26
  },
  {
   "metadata": {
    "ExecuteTime": {
     "end_time": "2025-06-02T15:29:36.986397Z",
     "start_time": "2025-06-02T15:29:34.785786Z"
    }
   },
   "cell_type": "code",
   "source": [
    "experiment_name_1 = \"t5-large_jfleg_ep3_r8\"\n",
    "output_dir_1 = os.path.join(\"results_gec\", experiment_name_1)\n",
    "os.makedirs(output_dir_1, exist_ok=True)\n",
    "\n",
    "tokenizer = AutoTokenizer.from_pretrained(MODEL_BASE)\n",
    "base_model = AutoModelForSeq2SeqLM.from_pretrained(MODEL_BASE)"
   ],
   "id": "525454aac527744a",
   "outputs": [],
   "execution_count": 27
  },
  {
   "metadata": {},
   "cell_type": "markdown",
   "source": "#### Konfiguracja LoRA r=8",
   "id": "d0fd1b487a527db3"
  },
  {
   "metadata": {
    "ExecuteTime": {
     "end_time": "2025-06-02T15:29:37.085394Z",
     "start_time": "2025-06-02T15:29:37.017539Z"
    }
   },
   "cell_type": "code",
   "source": [
    "lora_config = LoraConfig(\n",
    "    r=8,\n",
    "    lora_alpha=32,\n",
    "    target_modules=[\"q\", \"v\"],\n",
    "    lora_dropout=0.1,\n",
    "    bias=\"none\",\n",
    "    task_type=\"SEQ_2_SEQ_LM\"\n",
    ")\n",
    "model_1 = get_peft_model(base_model, lora_config)"
   ],
   "id": "20ac217ffff7d20",
   "outputs": [],
   "execution_count": 28
  },
  {
   "metadata": {
    "ExecuteTime": {
     "end_time": "2025-06-02T15:29:37.110552Z",
     "start_time": "2025-06-02T15:29:37.108891Z"
    }
   },
   "cell_type": "code",
   "source": [
    "data_collator = DataCollatorForSeq2Seq(\n",
    "    tokenizer, model=model_1, label_pad_token_id=-100\n",
    ")"
   ],
   "id": "f74730a2d5bc8c5",
   "outputs": [],
   "execution_count": 29
  },
  {
   "metadata": {
    "ExecuteTime": {
     "end_time": "2025-06-02T15:29:37.140286Z",
     "start_time": "2025-06-02T15:29:37.137064Z"
    }
   },
   "cell_type": "code",
   "source": [
    "training_args_1 = Seq2SeqTrainingArguments(\n",
    "    output_dir=output_dir_1,\n",
    "    per_device_train_batch_size=8,\n",
    "    per_device_eval_batch_size=8,\n",
    "    predict_with_generate=True,\n",
    "    eval_strategy=\"steps\",\n",
    "    save_strategy=\"steps\",\n",
    "    logging_steps=100,\n",
    "    num_train_epochs=3,\n",
    "    learning_rate=3e-5,\n",
    "    weight_decay=0.01,\n",
    "    generation_max_length=max_len,\n",
    "    generation_num_beams=4,\n",
    "    load_best_model_at_end=True,\n",
    "    metric_for_best_model=\"gleu\",\n",
    "    greater_is_better=True,\n",
    "    dataloader_pin_memory=False,\n",
    ")"
   ],
   "id": "bef3a4910ade2b53",
   "outputs": [],
   "execution_count": 30
  },
  {
   "metadata": {
    "ExecuteTime": {
     "end_time": "2025-06-02T15:38:55.353132Z",
     "start_time": "2025-06-02T15:29:37.164484Z"
    }
   },
   "cell_type": "code",
   "source": [
    "trainer_1 = Seq2SeqTrainer(\n",
    "    model=model_1,\n",
    "    args=training_args_1,\n",
    "    train_dataset=jfleg_tokenized[\"train\"],\n",
    "    eval_dataset=jfleg_tokenized[\"validation\"],\n",
    "    tokenizer=tokenizer,\n",
    "    data_collator=data_collator,\n",
    "    compute_metrics=compute_metrics_bleu_gleu\n",
    ")\n",
    "\n",
    "trainer_1.train()"
   ],
   "id": "df7c7812657f0663",
   "outputs": [
    {
     "name": "stderr",
     "output_type": "stream",
     "text": [
      "/var/folders/z_/dq8r0xg94mxfzfpr1jmhv_740000gn/T/ipykernel_3923/827863232.py:2: FutureWarning: `tokenizer` is deprecated and will be removed in version 5.0.0 for `Seq2SeqTrainer.__init__`. Use `processing_class` instead.\n",
      "  trainer_1 = Seq2SeqTrainer(\n",
      "No label_names provided for model class `PeftModelForSeq2SeqLM`. Since `PeftModel` hides base models input arguments, if label_names is not given, label_names can't be set automatically within `Trainer`. Note that empty label_names list will be used instead.\n"
     ]
    },
    {
     "data": {
      "text/plain": [
       "<IPython.core.display.HTML object>"
      ],
      "text/html": [
       "\n",
       "    <div>\n",
       "      \n",
       "      <progress value='228' max='228' style='width:300px; height:20px; vertical-align: middle;'></progress>\n",
       "      [228/228 09:10, Epoch 3/3]\n",
       "    </div>\n",
       "    <table border=\"1\" class=\"dataframe\">\n",
       "  <thead>\n",
       " <tr style=\"text-align: left;\">\n",
       "      <th>Step</th>\n",
       "      <th>Training Loss</th>\n",
       "      <th>Validation Loss</th>\n",
       "      <th>Bleu</th>\n",
       "      <th>Gleu</th>\n",
       "    </tr>\n",
       "  </thead>\n",
       "  <tbody>\n",
       "    <tr>\n",
       "      <td>100</td>\n",
       "      <td>13.144100</td>\n",
       "      <td>11.601872</td>\n",
       "      <td>28.911364</td>\n",
       "      <td>28.693738</td>\n",
       "    </tr>\n",
       "    <tr>\n",
       "      <td>200</td>\n",
       "      <td>9.289600</td>\n",
       "      <td>7.432974</td>\n",
       "      <td>42.823844</td>\n",
       "      <td>47.136940</td>\n",
       "    </tr>\n",
       "  </tbody>\n",
       "</table><p>"
      ]
     },
     "metadata": {},
     "output_type": "display_data"
    },
    {
     "name": "stderr",
     "output_type": "stream",
     "text": [
      "That's 100 lines that end in a tokenized period ('.')\n",
      "It looks like you forgot to detokenize your test data, which may hurt your score.\n",
      "If you insist your data is detokenized, or don't care, you can suppress this message with the `force` parameter.\n"
     ]
    },
    {
     "data": {
      "text/plain": [
       "TrainOutput(global_step=228, training_loss=10.809703224583677, metrics={'train_runtime': 552.8024, 'train_samples_per_second': 3.278, 'train_steps_per_second': 0.412, 'total_flos': 984049659150336.0, 'train_loss': 10.809703224583677, 'epoch': 3.0})"
      ]
     },
     "execution_count": 31,
     "metadata": {},
     "output_type": "execute_result"
    }
   ],
   "execution_count": 31
  },
  {
   "metadata": {
    "ExecuteTime": {
     "end_time": "2025-06-02T15:38:55.403077Z",
     "start_time": "2025-06-02T15:38:55.401028Z"
    }
   },
   "cell_type": "code",
   "source": [
    "best_metrics_1 = trainer_1.state.best_metric\n",
    "print(f\"1) {experiment_name_1} → BEST GLEU: {best_metrics_1:.2f}\")"
   ],
   "id": "d57c966600c42551",
   "outputs": [
    {
     "name": "stdout",
     "output_type": "stream",
     "text": [
      "1) t5-large_jfleg_ep3_r8 → BEST GLEU: 47.14\n"
     ]
    }
   ],
   "execution_count": 32
  },
  {
   "metadata": {
    "ExecuteTime": {
     "end_time": "2025-06-02T15:38:55.881744Z",
     "start_time": "2025-06-02T15:38:55.459349Z"
    }
   },
   "cell_type": "code",
   "source": [
    "adapter_dir_1 = os.path.join(output_dir_1, \"lora_adapter\")\n",
    "model_1.save_pretrained(adapter_dir_1)\n",
    "print(\"Adapter LoRA zapisany w:\", adapter_dir_1)"
   ],
   "id": "40bff7a0b374757e",
   "outputs": [
    {
     "name": "stdout",
     "output_type": "stream",
     "text": [
      "Adapter LoRA zapisany w: results_gec/t5-large_jfleg_ep3_r8/lora_adapter\n"
     ]
    }
   ],
   "execution_count": 33
  },
  {
   "metadata": {
    "ExecuteTime": {
     "end_time": "2025-06-02T15:38:55.912341Z",
     "start_time": "2025-06-02T15:38:55.910375Z"
    }
   },
   "cell_type": "code",
   "source": "metrics_history_1 = trainer_1.state.log_history",
   "id": "e90464b179fad69f",
   "outputs": [],
   "execution_count": 34
  },
  {
   "metadata": {},
   "cell_type": "markdown",
   "source": "## Eksperyment: T5-large + JFLEG, num_epochs=7, LoRA r=8",
   "id": "ce983033cc3eca2b"
  },
  {
   "metadata": {
    "ExecuteTime": {
     "end_time": "2025-06-02T15:38:55.940756Z",
     "start_time": "2025-06-02T15:38:55.938790Z"
    }
   },
   "cell_type": "code",
   "source": [
    "experiment_name_2 = \"t5-large_jfleg_ep7_r8\"\n",
    "output_dir_2 = os.path.join(\"results_gec\", experiment_name_2)\n",
    "os.makedirs(output_dir_2, exist_ok=True)"
   ],
   "id": "8b5ec38f3a2be5dd",
   "outputs": [],
   "execution_count": 35
  },
  {
   "metadata": {
    "ExecuteTime": {
     "end_time": "2025-06-02T15:38:57.621663Z",
     "start_time": "2025-06-02T15:38:55.967866Z"
    }
   },
   "cell_type": "code",
   "source": [
    "tokenizer = AutoTokenizer.from_pretrained(MODEL_BASE)\n",
    "base_model = AutoModelForSeq2SeqLM.from_pretrained(MODEL_BASE)"
   ],
   "id": "65993e0636a33313",
   "outputs": [],
   "execution_count": 36
  },
  {
   "metadata": {
    "ExecuteTime": {
     "end_time": "2025-06-02T15:38:57.731341Z",
     "start_time": "2025-06-02T15:38:57.665970Z"
    }
   },
   "cell_type": "code",
   "source": [
    "lora_config = LoraConfig(\n",
    "    r=8,\n",
    "    lora_alpha=32,\n",
    "    target_modules=[\"q\", \"v\"],\n",
    "    lora_dropout=0.1,\n",
    "    bias=\"none\",\n",
    "    task_type=\"SEQ_2_SEQ_LM\"\n",
    ")\n",
    "model_2 = get_peft_model(base_model, lora_config)"
   ],
   "id": "5e6757852c78cf24",
   "outputs": [],
   "execution_count": 37
  },
  {
   "metadata": {
    "ExecuteTime": {
     "end_time": "2025-06-02T15:38:57.782406Z",
     "start_time": "2025-06-02T15:38:57.780032Z"
    }
   },
   "cell_type": "code",
   "source": "data_collator = DataCollatorForSeq2Seq(tokenizer, model=model_2, label_pad_token_id=-100)",
   "id": "740962012e555214",
   "outputs": [],
   "execution_count": 38
  },
  {
   "metadata": {
    "ExecuteTime": {
     "end_time": "2025-06-02T15:38:57.821484Z",
     "start_time": "2025-06-02T15:38:57.817777Z"
    }
   },
   "cell_type": "code",
   "source": [
    "training_args_2 = Seq2SeqTrainingArguments(\n",
    "    output_dir=output_dir_2,\n",
    "    per_device_train_batch_size=8,\n",
    "    per_device_eval_batch_size=8,\n",
    "    predict_with_generate=True,\n",
    "    eval_strategy=\"steps\",\n",
    "    save_strategy=\"steps\",\n",
    "    logging_steps=100,\n",
    "    num_train_epochs=7,\n",
    "    learning_rate=3e-5,\n",
    "    weight_decay=0.01,\n",
    "    generation_max_length=max_len,\n",
    "    generation_num_beams=4,\n",
    "    load_best_model_at_end=True,\n",
    "    metric_for_best_model=\"gleu\",\n",
    "    greater_is_better=True,\n",
    "    dataloader_pin_memory=False,\n",
    ")"
   ],
   "id": "8c5e77288f887d0b",
   "outputs": [],
   "execution_count": 39
  },
  {
   "metadata": {
    "ExecuteTime": {
     "end_time": "2025-06-02T16:05:12.816387Z",
     "start_time": "2025-06-02T15:38:57.853130Z"
    }
   },
   "cell_type": "code",
   "source": [
    "trainer_2 = Seq2SeqTrainer(\n",
    "    model=model_2,\n",
    "    args=training_args_2,\n",
    "    train_dataset=jfleg_tokenized[\"train\"],\n",
    "    eval_dataset=jfleg_tokenized[\"validation\"],\n",
    "    tokenizer=tokenizer,\n",
    "    data_collator=data_collator,\n",
    "    compute_metrics=compute_metrics_bleu_gleu\n",
    ")\n",
    "\n",
    "trainer_2.train()"
   ],
   "id": "99405b609b9ef52d",
   "outputs": [
    {
     "name": "stderr",
     "output_type": "stream",
     "text": [
      "/var/folders/z_/dq8r0xg94mxfzfpr1jmhv_740000gn/T/ipykernel_3923/1546277528.py:2: FutureWarning: `tokenizer` is deprecated and will be removed in version 5.0.0 for `Seq2SeqTrainer.__init__`. Use `processing_class` instead.\n",
      "  trainer_2 = Seq2SeqTrainer(\n",
      "No label_names provided for model class `PeftModelForSeq2SeqLM`. Since `PeftModel` hides base models input arguments, if label_names is not given, label_names can't be set automatically within `Trainer`. Note that empty label_names list will be used instead.\n"
     ]
    },
    {
     "data": {
      "text/plain": [
       "<IPython.core.display.HTML object>"
      ],
      "text/html": [
       "\n",
       "    <div>\n",
       "      \n",
       "      <progress value='532' max='532' style='width:300px; height:20px; vertical-align: middle;'></progress>\n",
       "      [532/532 26:07, Epoch 7/7]\n",
       "    </div>\n",
       "    <table border=\"1\" class=\"dataframe\">\n",
       "  <thead>\n",
       " <tr style=\"text-align: left;\">\n",
       "      <th>Step</th>\n",
       "      <th>Training Loss</th>\n",
       "      <th>Validation Loss</th>\n",
       "      <th>Bleu</th>\n",
       "      <th>Gleu</th>\n",
       "    </tr>\n",
       "  </thead>\n",
       "  <tbody>\n",
       "    <tr>\n",
       "      <td>100</td>\n",
       "      <td>12.901200</td>\n",
       "      <td>10.246686</td>\n",
       "      <td>42.077363</td>\n",
       "      <td>38.941906</td>\n",
       "    </tr>\n",
       "    <tr>\n",
       "      <td>200</td>\n",
       "      <td>6.003800</td>\n",
       "      <td>0.459099</td>\n",
       "      <td>31.902045</td>\n",
       "      <td>33.253319</td>\n",
       "    </tr>\n",
       "    <tr>\n",
       "      <td>300</td>\n",
       "      <td>0.775300</td>\n",
       "      <td>0.361169</td>\n",
       "      <td>0.004780</td>\n",
       "      <td>1.968429</td>\n",
       "    </tr>\n",
       "    <tr>\n",
       "      <td>400</td>\n",
       "      <td>0.341200</td>\n",
       "      <td>0.276599</td>\n",
       "      <td>1.857319</td>\n",
       "      <td>8.216454</td>\n",
       "    </tr>\n",
       "    <tr>\n",
       "      <td>500</td>\n",
       "      <td>0.281700</td>\n",
       "      <td>0.241410</td>\n",
       "      <td>8.311496</td>\n",
       "      <td>12.814366</td>\n",
       "    </tr>\n",
       "  </tbody>\n",
       "</table><p>"
      ]
     },
     "metadata": {},
     "output_type": "display_data"
    },
    {
     "name": "stderr",
     "output_type": "stream",
     "text": [
      "That's 100 lines that end in a tokenized period ('.')\n",
      "It looks like you forgot to detokenize your test data, which may hurt your score.\n",
      "If you insist your data is detokenized, or don't care, you can suppress this message with the `force` parameter.\n"
     ]
    },
    {
     "data": {
      "text/plain": [
       "TrainOutput(global_step=532, training_loss=3.835336550734097, metrics={'train_runtime': 1569.2043, 'train_samples_per_second': 2.694, 'train_steps_per_second': 0.339, 'total_flos': 2296115871350784.0, 'train_loss': 3.835336550734097, 'epoch': 7.0})"
      ]
     },
     "execution_count": 40,
     "metadata": {},
     "output_type": "execute_result"
    }
   ],
   "execution_count": 40
  },
  {
   "metadata": {
    "ExecuteTime": {
     "end_time": "2025-06-02T16:05:12.933161Z",
     "start_time": "2025-06-02T16:05:12.930050Z"
    }
   },
   "cell_type": "code",
   "source": [
    "best_metrics_2 = trainer_2.state.best_metric\n",
    "print(f\"2) {experiment_name_2} → BEST GLEU: {best_metrics_2:.2f}\")"
   ],
   "id": "120ed42f3d06457d",
   "outputs": [
    {
     "name": "stdout",
     "output_type": "stream",
     "text": [
      "2) t5-large_jfleg_ep7_r8 → BEST GLEU: 38.94\n"
     ]
    }
   ],
   "execution_count": 41
  },
  {
   "metadata": {
    "ExecuteTime": {
     "end_time": "2025-06-02T16:05:13.807505Z",
     "start_time": "2025-06-02T16:05:12.981611Z"
    }
   },
   "cell_type": "code",
   "source": [
    "adapter_dir_2 = os.path.join(output_dir_2, \"lora_adapter\")\n",
    "model_2.save_pretrained(adapter_dir_2)\n",
    "print(\"Adapter LoRA zapisany w:\", adapter_dir_2)"
   ],
   "id": "7d4969865dc0c17e",
   "outputs": [
    {
     "name": "stdout",
     "output_type": "stream",
     "text": [
      "Adapter LoRA zapisany w: results_gec/t5-large_jfleg_ep7_r8/lora_adapter\n"
     ]
    }
   ],
   "execution_count": 42
  },
  {
   "metadata": {},
   "cell_type": "markdown",
   "source": "## Eksperyment: T5-large + [JFLEG + CoNLL + BEA], num_epochs=7, LoRA r=8",
   "id": "e5d66c0e32d6391a"
  },
  {
   "metadata": {
    "ExecuteTime": {
     "end_time": "2025-06-02T16:05:13.857003Z",
     "start_time": "2025-06-02T16:05:13.854725Z"
    }
   },
   "cell_type": "code",
   "source": [
    "experiment_name_3 = \"t5-large_jfleg+nucle+bea_ep7_r8\"\n",
    "output_dir_3 = os.path.join(\"results_gec\", experiment_name_3)\n",
    "os.makedirs(output_dir_3, exist_ok=True)"
   ],
   "id": "9759fd7afeea590e",
   "outputs": [],
   "execution_count": 43
  },
  {
   "metadata": {
    "ExecuteTime": {
     "end_time": "2025-06-02T16:05:17.697784Z",
     "start_time": "2025-06-02T16:05:13.887637Z"
    }
   },
   "cell_type": "code",
   "source": [
    "tokenizer = AutoTokenizer.from_pretrained(MODEL_BASE)\n",
    "base_model = AutoModelForSeq2SeqLM.from_pretrained(MODEL_BASE)"
   ],
   "id": "b5a97883070fee17",
   "outputs": [],
   "execution_count": 44
  },
  {
   "metadata": {
    "ExecuteTime": {
     "end_time": "2025-06-02T16:05:17.787641Z",
     "start_time": "2025-06-02T16:05:17.728189Z"
    }
   },
   "cell_type": "code",
   "source": [
    "lora_config = LoraConfig(\n",
    "    r=8,\n",
    "    lora_alpha=32,\n",
    "    target_modules=[\"q\", \"v\"],\n",
    "    lora_dropout=0.1,\n",
    "    bias=\"none\",\n",
    "    task_type=\"SEQ_2_SEQ_LM\"\n",
    ")\n",
    "model_3 = get_peft_model(base_model, lora_config)"
   ],
   "id": "48e04712dc5d3e9b",
   "outputs": [],
   "execution_count": 45
  },
  {
   "metadata": {
    "ExecuteTime": {
     "end_time": "2025-06-02T16:05:17.824840Z",
     "start_time": "2025-06-02T16:05:17.823283Z"
    }
   },
   "cell_type": "code",
   "source": "data_collator = DataCollatorForSeq2Seq(tokenizer, model=model_3, label_pad_token_id=-100)",
   "id": "c785fda7a074c188",
   "outputs": [],
   "execution_count": 46
  },
  {
   "metadata": {
    "ExecuteTime": {
     "end_time": "2025-06-02T16:05:17.864875Z",
     "start_time": "2025-06-02T16:05:17.860732Z"
    }
   },
   "cell_type": "code",
   "source": [
    "training_args_3 = Seq2SeqTrainingArguments(\n",
    "    output_dir=output_dir_3,\n",
    "    per_device_train_batch_size=8,\n",
    "    per_device_eval_batch_size=8,\n",
    "    predict_with_generate=True,\n",
    "    eval_strategy=\"steps\",\n",
    "    save_strategy=\"steps\",\n",
    "    logging_steps=100,\n",
    "    eval_steps=500,\n",
    "    save_steps=500,\n",
    "    num_train_epochs=7,\n",
    "    learning_rate=3e-5,\n",
    "    weight_decay=0.01,\n",
    "    generation_max_length=max_len,\n",
    "    generation_num_beams=4,\n",
    "    load_best_model_at_end=True,\n",
    "    metric_for_best_model=\"gleu\",\n",
    "    greater_is_better=True,\n",
    "    dataloader_pin_memory=False,\n",
    ")"
   ],
   "id": "fd913fbe1cd059fb",
   "outputs": [],
   "execution_count": 47
  },
  {
   "metadata": {
    "ExecuteTime": {
     "end_time": "2025-06-02T20:19:59.303779Z",
     "start_time": "2025-06-02T16:05:17.901607Z"
    }
   },
   "cell_type": "code",
   "source": [
    "trainer_3 = Seq2SeqTrainer(\n",
    "    model=model_3,\n",
    "    args=training_args_3,\n",
    "    train_dataset=combined_tokenized[\"train\"],\n",
    "    eval_dataset=combined_tokenized[\"validation\"],\n",
    "    tokenizer=tokenizer,\n",
    "    data_collator=data_collator,\n",
    "    compute_metrics=compute_metrics_bleu_gleu\n",
    ")\n",
    "\n",
    "trainer_3.train()"
   ],
   "id": "6dc43df08708f0ac",
   "outputs": [
    {
     "name": "stderr",
     "output_type": "stream",
     "text": [
      "/var/folders/z_/dq8r0xg94mxfzfpr1jmhv_740000gn/T/ipykernel_3923/1590508181.py:2: FutureWarning: `tokenizer` is deprecated and will be removed in version 5.0.0 for `Seq2SeqTrainer.__init__`. Use `processing_class` instead.\n",
      "  trainer_3 = Seq2SeqTrainer(\n",
      "No label_names provided for model class `PeftModelForSeq2SeqLM`. Since `PeftModel` hides base models input arguments, if label_names is not given, label_names can't be set automatically within `Trainer`. Note that empty label_names list will be used instead.\n"
     ]
    },
    {
     "data": {
      "text/plain": [
       "<IPython.core.display.HTML object>"
      ],
      "text/html": [
       "\n",
       "    <div>\n",
       "      \n",
       "      <progress value='4480' max='4480' style='width:300px; height:20px; vertical-align: middle;'></progress>\n",
       "      [4480/4480 4:14:28, Epoch 7/7]\n",
       "    </div>\n",
       "    <table border=\"1\" class=\"dataframe\">\n",
       "  <thead>\n",
       " <tr style=\"text-align: left;\">\n",
       "      <th>Step</th>\n",
       "      <th>Training Loss</th>\n",
       "      <th>Validation Loss</th>\n",
       "      <th>Bleu</th>\n",
       "      <th>Gleu</th>\n",
       "    </tr>\n",
       "  </thead>\n",
       "  <tbody>\n",
       "    <tr>\n",
       "      <td>500</td>\n",
       "      <td>0.245900</td>\n",
       "      <td>0.181932</td>\n",
       "      <td>92.461924</td>\n",
       "      <td>78.679155</td>\n",
       "    </tr>\n",
       "    <tr>\n",
       "      <td>1000</td>\n",
       "      <td>0.159200</td>\n",
       "      <td>0.134633</td>\n",
       "      <td>93.749149</td>\n",
       "      <td>80.712543</td>\n",
       "    </tr>\n",
       "    <tr>\n",
       "      <td>1500</td>\n",
       "      <td>0.141900</td>\n",
       "      <td>0.116057</td>\n",
       "      <td>94.484866</td>\n",
       "      <td>82.362260</td>\n",
       "    </tr>\n",
       "    <tr>\n",
       "      <td>2000</td>\n",
       "      <td>0.124700</td>\n",
       "      <td>0.103833</td>\n",
       "      <td>95.796123</td>\n",
       "      <td>87.151732</td>\n",
       "    </tr>\n",
       "    <tr>\n",
       "      <td>2500</td>\n",
       "      <td>0.121900</td>\n",
       "      <td>0.098437</td>\n",
       "      <td>96.139836</td>\n",
       "      <td>88.865191</td>\n",
       "    </tr>\n",
       "    <tr>\n",
       "      <td>3000</td>\n",
       "      <td>0.122100</td>\n",
       "      <td>0.095218</td>\n",
       "      <td>96.281521</td>\n",
       "      <td>89.365441</td>\n",
       "    </tr>\n",
       "    <tr>\n",
       "      <td>3500</td>\n",
       "      <td>0.111400</td>\n",
       "      <td>0.093284</td>\n",
       "      <td>96.395546</td>\n",
       "      <td>89.976110</td>\n",
       "    </tr>\n",
       "    <tr>\n",
       "      <td>4000</td>\n",
       "      <td>0.113700</td>\n",
       "      <td>0.092291</td>\n",
       "      <td>96.387623</td>\n",
       "      <td>89.990138</td>\n",
       "    </tr>\n",
       "  </tbody>\n",
       "</table><p>"
      ]
     },
     "metadata": {},
     "output_type": "display_data"
    },
    {
     "name": "stderr",
     "output_type": "stream",
     "text": [
      "That's 100 lines that end in a tokenized period ('.')\n",
      "It looks like you forgot to detokenize your test data, which may hurt your score.\n",
      "If you insist your data is detokenized, or don't care, you can suppress this message with the `force` parameter.\n",
      "That's 100 lines that end in a tokenized period ('.')\n",
      "It looks like you forgot to detokenize your test data, which may hurt your score.\n",
      "If you insist your data is detokenized, or don't care, you can suppress this message with the `force` parameter.\n",
      "That's 100 lines that end in a tokenized period ('.')\n",
      "It looks like you forgot to detokenize your test data, which may hurt your score.\n",
      "If you insist your data is detokenized, or don't care, you can suppress this message with the `force` parameter.\n",
      "That's 100 lines that end in a tokenized period ('.')\n",
      "It looks like you forgot to detokenize your test data, which may hurt your score.\n",
      "If you insist your data is detokenized, or don't care, you can suppress this message with the `force` parameter.\n"
     ]
    },
    {
     "data": {
      "text/plain": [
       "TrainOutput(global_step=4480, training_loss=0.2968102389148303, metrics={'train_runtime': 15272.209, 'train_samples_per_second': 2.347, 'train_steps_per_second': 0.293, 'total_flos': 1.946376367767552e+16, 'train_loss': 0.2968102389148303, 'epoch': 7.0})"
      ]
     },
     "execution_count": 48,
     "metadata": {},
     "output_type": "execute_result"
    }
   ],
   "execution_count": 48
  },
  {
   "metadata": {
    "ExecuteTime": {
     "end_time": "2025-06-02T20:19:59.480462Z",
     "start_time": "2025-06-02T20:19:59.477738Z"
    }
   },
   "cell_type": "code",
   "source": [
    "best_metrics_3 = trainer_3.state.best_metric\n",
    "print(f\"3) {experiment_name_3} → BEST GLEU: {best_metrics_3:.2f}\")"
   ],
   "id": "36410a28d4d4a545",
   "outputs": [
    {
     "name": "stdout",
     "output_type": "stream",
     "text": [
      "3) t5-large_jfleg+nucle+bea_ep7_r8 → BEST GLEU: 89.99\n"
     ]
    }
   ],
   "execution_count": 49
  },
  {
   "metadata": {
    "ExecuteTime": {
     "end_time": "2025-06-02T20:19:59.949764Z",
     "start_time": "2025-06-02T20:19:59.532716Z"
    }
   },
   "cell_type": "code",
   "source": [
    "adapter_dir_3 = os.path.join(output_dir_3, \"lora_adapter\")\n",
    "model_3.save_pretrained(adapter_dir_3)\n",
    "print(\"Adapter LoRA zapisany w:\", adapter_dir_3)"
   ],
   "id": "a19f8f22cf3c8bf4",
   "outputs": [
    {
     "name": "stdout",
     "output_type": "stream",
     "text": [
      "Adapter LoRA zapisany w: results_gec/t5-large_jfleg+nucle+bea_ep7_r8/lora_adapter\n"
     ]
    }
   ],
   "execution_count": 50
  },
  {
   "metadata": {},
   "cell_type": "markdown",
   "source": "### Podsumowanie wyników (BLEU i GLEU) w tabeli i na wykresie",
   "id": "ee1bb442cc69a2cd"
  },
  {
   "metadata": {
    "ExecuteTime": {
     "end_time": "2025-06-02T20:20:00.362789Z",
     "start_time": "2025-06-02T20:20:00.353805Z"
    }
   },
   "cell_type": "code",
   "source": [
    "import pandas as pd\n",
    "\n",
    "\n",
    "def extract_best_from_history(log_history):\n",
    "    bleus = [entry[\"eval_bleu\"] for entry in log_history if \"eval_bleu\" in entry]\n",
    "    gleus = [entry[\"eval_gleu\"] for entry in log_history if \"eval_gleu\" in entry]\n",
    "    return {\n",
    "        \"best_bleu\": max(bleus) if len(bleus) else None,\n",
    "        \"best_gleu\": max(gleus) if len(gleus) else None,\n",
    "    }\n",
    "\n",
    "\n",
    "hist_1 = extract_best_from_history(trainer_1.state.log_history)\n",
    "hist_2 = extract_best_from_history(trainer_2.state.log_history)\n",
    "hist_3 = extract_best_from_history(trainer_3.state.log_history)\n",
    "\n",
    "results = [\n",
    "    {\n",
    "        \"experiment\": experiment_name_1,\n",
    "        \"best_gleu\": best_metrics_1,\n",
    "        \"best_bleu\": hist_1[\"best_bleu\"]\n",
    "    },\n",
    "    {\n",
    "        \"experiment\": experiment_name_2,\n",
    "        \"best_gleu\": best_metrics_2,\n",
    "        \"best_bleu\": hist_2[\"best_bleu\"]\n",
    "    },\n",
    "    {\n",
    "        \"experiment\": experiment_name_3,\n",
    "        \"best_gleu\": best_metrics_3,\n",
    "        \"best_bleu\": hist_3[\"best_bleu\"]\n",
    "    },\n",
    "]\n",
    "\n",
    "df = pd.DataFrame(results)\n",
    "display(df)"
   ],
   "id": "9342c0fa76855724",
   "outputs": [
    {
     "data": {
      "text/plain": [
       "                        experiment  best_gleu  best_bleu\n",
       "0            t5-large_jfleg_ep3_r8  47.136940  42.823844\n",
       "1            t5-large_jfleg_ep7_r8  38.941906  42.077363\n",
       "2  t5-large_jfleg+nucle+bea_ep7_r8  89.990138  96.395546"
      ],
      "text/html": [
       "<div>\n",
       "<style scoped>\n",
       "    .dataframe tbody tr th:only-of-type {\n",
       "        vertical-align: middle;\n",
       "    }\n",
       "\n",
       "    .dataframe tbody tr th {\n",
       "        vertical-align: top;\n",
       "    }\n",
       "\n",
       "    .dataframe thead th {\n",
       "        text-align: right;\n",
       "    }\n",
       "</style>\n",
       "<table border=\"1\" class=\"dataframe\">\n",
       "  <thead>\n",
       "    <tr style=\"text-align: right;\">\n",
       "      <th></th>\n",
       "      <th>experiment</th>\n",
       "      <th>best_gleu</th>\n",
       "      <th>best_bleu</th>\n",
       "    </tr>\n",
       "  </thead>\n",
       "  <tbody>\n",
       "    <tr>\n",
       "      <th>0</th>\n",
       "      <td>t5-large_jfleg_ep3_r8</td>\n",
       "      <td>47.136940</td>\n",
       "      <td>42.823844</td>\n",
       "    </tr>\n",
       "    <tr>\n",
       "      <th>1</th>\n",
       "      <td>t5-large_jfleg_ep7_r8</td>\n",
       "      <td>38.941906</td>\n",
       "      <td>42.077363</td>\n",
       "    </tr>\n",
       "    <tr>\n",
       "      <th>2</th>\n",
       "      <td>t5-large_jfleg+nucle+bea_ep7_r8</td>\n",
       "      <td>89.990138</td>\n",
       "      <td>96.395546</td>\n",
       "    </tr>\n",
       "  </tbody>\n",
       "</table>\n",
       "</div>"
      ]
     },
     "metadata": {},
     "output_type": "display_data"
    }
   ],
   "execution_count": 52
  },
  {
   "metadata": {
    "ExecuteTime": {
     "end_time": "2025-06-02T20:20:00.453742Z",
     "start_time": "2025-06-02T20:20:00.405788Z"
    }
   },
   "cell_type": "code",
   "source": [
    "plt.figure(figsize=(8, 4))\n",
    "plt.bar(df[\"experiment\"], df[\"best_bleu\"], color=\"lightcoral\")\n",
    "plt.xticks(rotation=45, ha=\"right\")\n",
    "plt.ylabel(\"BLEU\")\n",
    "plt.title(\"Najlepsze BLEU dla eksperymentów GEC\")\n",
    "plt.tight_layout()\n",
    "plt.show()"
   ],
   "id": "840bd4a4062e80cc",
   "outputs": [
    {
     "data": {
      "text/plain": [
       "<Figure size 800x400 with 1 Axes>"
      ],
      "image/png": "[encoded data removed]"
     },
     "metadata": {},
     "output_type": "display_data"
    }
   ],
   "execution_count": 53
  },
  {
   "metadata": {
    "ExecuteTime": {
     "end_time": "2025-06-02T20:20:00.550112Z",
     "start_time": "2025-06-02T20:20:00.502846Z"
    }
   },
   "cell_type": "code",
   "source": [
    "plt.figure(figsize=(8, 4))\n",
    "plt.bar(df[\"experiment\"], df[\"best_gleu\"], color=\"skyblue\")\n",
    "plt.xticks(rotation=45, ha=\"right\")\n",
    "plt.ylabel(\"GLEU\")\n",
    "plt.title(\"Najlepsze GLEU dla eksperymentów GEC\")\n",
    "plt.tight_layout()\n",
    "plt.show()"
   ],
   "id": "2bc9a17a9f98d7f9",
   "outputs": [
    {
     "data": {
      "text/plain": [
       "<Figure size 800x400 with 1 Axes>"
      ],
      "image/png": "[encoded data removed]"
     },
     "metadata": {},
     "output_type": "display_data"
    }
   ],
   "execution_count": 54
  },
  {
   "metadata": {
    "ExecuteTime": {
     "end_time": "2025-06-02T20:52:25.571289Z",
     "start_time": "2025-06-02T20:52:25.499787Z"
    }
   },
   "cell_type": "code",
   "source": [
    "labels = df[\"experiment\"].tolist()\n",
    "bleu_vals = df[\"best_bleu\"].tolist()\n",
    "gleu_vals = df[\"best_gleu\"].tolist()\n",
    "\n",
    "x = np.arange(len(labels))\n",
    "width = 0.35\n",
    "\n",
    "plt.figure(figsize=(8, 4))\n",
    "plt.bar(x - width/2, bleu_vals, width, label=\"BLEU\", color=\"lightcoral\")\n",
    "plt.bar(x + width/2, gleu_vals, width, label=\"GLEU\", color=\"skyblue\")\n",
    "plt.xticks(x, labels, rotation=45, ha=\"right\")\n",
    "plt.ylabel(\"Wartość metryki\")\n",
    "plt.title(\"Porównanie najlepszych BLEU i GLEU\")\n",
    "plt.legend()\n",
    "plt.tight_layout()\n",
    "plt.show()"
   ],
   "id": "ba756ad628f8b3ac",
   "outputs": [
    {
     "data": {
      "text/plain": [
       "<Figure size 800x400 with 1 Axes>"
      ],
      "image/png": "[encoded data removed]"
     },
     "metadata": {},
     "output_type": "display_data"
    }
   ],
   "execution_count": 60
  },
  {
   "metadata": {
    "ExecuteTime": {
     "end_time": "2025-06-02T20:52:38.176071Z",
     "start_time": "2025-06-02T20:52:38.104675Z"
    }
   },
   "cell_type": "code",
   "source": [
    "histories = [\n",
    "    (experiment_name_1, trainer_1.state.log_history),\n",
    "    (experiment_name_2, trainer_2.state.log_history),\n",
    "    (experiment_name_3, trainer_3.state.log_history),\n",
    "]\n",
    "\n",
    "all_curves = {}\n",
    "for name, history in histories:\n",
    "    steps = []\n",
    "    bleus = []\n",
    "    gleus = []\n",
    "    for entry in history:\n",
    "        if \"eval_bleu\" in entry and \"eval_gleu\" in entry and \"step\" in entry:\n",
    "            steps.append(entry[\"step\"])\n",
    "            bleus.append(entry[\"eval_bleu\"])\n",
    "            gleus.append(entry[\"eval_gleu\"])\n",
    "    all_curves[name] = {\"step\": steps, \"bleu\": bleus, \"gleu\": gleus}\n",
    "\n",
    "plt.figure(figsize=(8, 4))\n",
    "for name, data in all_curves.items():\n",
    "    plt.plot(data[\"step\"], data[\"bleu\"], marker=\"o\", label=name)\n",
    "plt.xlabel(\"Krok treningu (step)\")\n",
    "plt.ylabel(\"BLEU\")\n",
    "plt.title(\"BLEU w kolejnych krokach ewaluacji\")\n",
    "plt.legend()\n",
    "plt.grid(alpha=0.3)\n",
    "plt.tight_layout()\n",
    "plt.show()"
   ],
   "id": "f418469cf23aa02b",
   "outputs": [
    {
     "data": {
      "text/plain": [
       "<Figure size 800x400 with 1 Axes>"
      ],
      "image/png": "[encoded data removed]"
     },
     "metadata": {},
     "output_type": "display_data"
    }
   ],
   "execution_count": 61
  },
  {
   "metadata": {
    "ExecuteTime": {
     "end_time": "2025-06-02T20:52:41.258740Z",
     "start_time": "2025-06-02T20:52:41.183431Z"
    }
   },
   "cell_type": "code",
   "source": [
    "plt.figure(figsize=(8, 4))\n",
    "for name, data in all_curves.items():\n",
    "    plt.plot(data[\"step\"], data[\"gleu\"], marker=\"o\", label=name)\n",
    "plt.xlabel(\"Krok treningu (step)\")\n",
    "plt.ylabel(\"GLEU\")\n",
    "plt.title(\"GLEU w kolejnych krokach ewaluacji\")\n",
    "plt.legend()\n",
    "plt.grid(alpha=0.3)\n",
    "plt.tight_layout()\n",
    "plt.show()"
   ],
   "id": "1b54b1eb2fcc519b",
   "outputs": [
    {
     "data": {
      "text/plain": [
       "<Figure size 800x400 with 1 Axes>"
      ],
      "image/png": "[encoded data removed]"
     },
     "metadata": {},
     "output_type": "display_data"
    }
   ],
   "execution_count": 62
  },
  {
   "metadata": {
    "ExecuteTime": {
     "end_time": "2025-06-02T20:24:29.185556Z",
     "start_time": "2025-06-02T20:24:28.775495Z"
    }
   },
   "cell_type": "code",
   "source": [
    "lengths_train = [len(s.split()) for s in combined_ds[\"train\"][\"sentence\"]]\n",
    "lengths_valid = [len(s.split()) for s in combined_ds[\"validation\"][\"sentence\"]]\n",
    "\n",
    "plt.figure(figsize=(6, 4))\n",
    "plt.hist(lengths_train, bins=range(0, max(lengths_train)+5, 5), alpha=0.7, label=\"Train\")\n",
    "plt.hist(lengths_valid, bins=range(0, max(lengths_valid)+5, 5), alpha=0.7, label=\"Validation\")\n",
    "plt.xlabel(\"Liczba tokenów w zdaniu\")\n",
    "plt.ylabel(\"Liczba przykładów\")\n",
    "plt.title(\"Rozkład długości zdań w zbiorze Combined\")\n",
    "plt.legend()\n",
    "plt.tight_layout()\n",
    "plt.show()"
   ],
   "id": "a304f916db751c0c",
   "outputs": [
    {
     "data": {
      "text/plain": [
       "<Figure size 600x400 with 1 Axes>"
      ],
      "image/png": "[encoded data removed]"
     },
     "metadata": {},
     "output_type": "display_data"
    }
   ],
   "execution_count": 57
  },
  {
   "metadata": {
    "ExecuteTime": {
     "end_time": "2025-06-02T20:24:39.016868Z",
     "start_time": "2025-06-02T20:24:38.864781Z"
    }
   },
   "cell_type": "code",
   "source": [
    "for name, history in histories:\n",
    "    train_steps = [h[\"step\"] for h in history if \"loss\" in h]\n",
    "    train_losses = [h[\"loss\"] for h in history if \"loss\" in h]\n",
    "    eval_steps = [h[\"step\"] for h in history if \"eval_loss\" in h]\n",
    "    eval_losses = [h[\"eval_loss\"] for h in history if \"eval_loss\" in h]\n",
    "\n",
    "    plt.figure(figsize=(6, 3))\n",
    "    plt.plot(train_steps, train_losses, label=\"train loss\", linestyle=\"--\", alpha=0.7)\n",
    "    plt.plot(eval_steps, eval_losses, label=\"eval loss\", marker=\"o\", alpha=0.8)\n",
    "    plt.xlabel(\"Step\")\n",
    "    plt.ylabel(\"Loss\")\n",
    "    plt.title(f\"Krzywa uczenia: {name}\")\n",
    "    plt.legend()\n",
    "    plt.grid(alpha=0.3)\n",
    "    plt.tight_layout()\n",
    "    plt.show()"
   ],
   "id": "285c1a54fb191a22",
   "outputs": [
    {
     "data": {
      "text/plain": [
       "<Figure size 600x300 with 1 Axes>"
      ],
      "image/png": "[encoded data removed]"
     },
     "metadata": {},
     "output_type": "display_data"
    },
    {
     "data": {
      "text/plain": [
       "<Figure size 600x300 with 1 Axes>"
      ],
      "image/png": "[encoded data removed]"
     },
     "metadata": {},
     "output_type": "display_data"
    },
    {
     "data": {
      "text/plain": [
       "<Figure size 600x300 with 1 Axes>"
      ],
      "image/png": "[encoded data removed]"
     },
     "metadata": {},
     "output_type": "display_data"
    }
   ],
   "execution_count": 58
  },
  {
   "metadata": {},
   "cell_type": "markdown",
   "source": [
    "### Podsumowanie eksperymentów GEC z użyciem LoRA na T5-large\n",
    "\n",
    "Poniżej znajduje się krótkie streszczenie przeprowadzonych trzech eksperymentów korekty gramatycznej (GEC) z wykorzystaniem modelu **T5-large + LoRA**. W każdym przypadku obliczaliśmy dwie metryki ewaluacyjne: **BLEU** (SacreBLEU) oraz **GLEU** (NLTK), a najlepszy model wybieraliśmy na podstawie maksymalnej wartości GLEU na zbiorze walidacyjnym.\n",
    "\n",
    "---\n",
    "\n",
    "#### 1. Eksperymenty i dane\n",
    "\n",
    "1. **t5-large_jfleg_ep3_r8**\n",
    "   - Dane: TYLKO zbiór JFLEG (split „validation” podzielony 80/20 → ~604 przykładów do trenowania, ~151 do walidacji).\n",
    "   - Fine-tuning: 3 epoki, LoRA r = 8.\n",
    "   - Ewaluacja co 500 kroków (parametr `eval_steps=500`).\n",
    "\n",
    "2. **t5-large_jfleg_ep7_r8**\n",
    "   - Dane: TYLKO JFLEG (ten sam podział).\n",
    "   - Fine-tuning: 7 epok, LoRA r = 8.\n",
    "   - Ewaluacja co 500 kroków.\n",
    "\n",
    "3. **t5-large_jfleg+nucle+bea_ep7_r8**\n",
    "   - Dane: połączony zbiór **Combined** = JFLEG + FCE (BEA19) + Wi+Locness.\n",
    "   - Po scaleniu:\n",
    "     - **Train**: 2720 przykładów,\n",
    "     - **Validation**: 310 przykładów.\n",
    "   - Fine-tuning: 7 epok, LoRA r = 8, ewaluacja co 500 kroków.\n",
    "\n",
    "Wszystkie trzy eksperymenty używały dokładnie tej samej architektury **T5-large** oraz identycznych hiperparametrów (poza liczbą epok i rozmiarem zbioru).\n",
    "\n",
    "\n",
    "#### 2. Najlepsze wyniki (BLEU & GLEU)\n",
    "\n",
    "| Eksperyment                            | Najlepsze GLEU (%) | Najlepsze BLEU (%) |\n",
    "|:--------------------------------------:|:-----------------:|:-----------------:|\n",
    "| t5-large_jfleg_ep3_r8                  |       47.14       |      42.82        |\n",
    "| t5-large_jfleg_ep7_r8                  |       38.94       |      42.08        |\n",
    "| t5-large_jfleg+nucle+bea_ep7_r8        |       89.99       |      96.39        |\n",
    "\n",
    "- **t5-large_jfleg_ep3_r8**:\n",
    "  - GLEU ~ 47.1%, BLEU ~ 42.8%.\n",
    "  - Model w 3 epokach osiągnął wyższy GLEU niż w wariancie 7-epokowym na samym JFLEG.\n",
    "\n",
    "- **t5-large_jfleg_ep7_r8**:\n",
    "  - GLEU ~ 38.9%, BLEU ~ 42.1%.\n",
    "  - Pomimo dłuższego treningu (7 epok), na czystym JFLEG model osiągnął niższy GLEU. Możliwe przetrenowanie lub niestabilność w nadmiernej liczbie epok.\n",
    "\n",
    "- **t5-large_jfleg+nucle+bea_ep7_r8**:\n",
    "  - GLEU ~ 89.9%, BLEU ~ 96.4%.\n",
    "  - Wyraźna przewaga nad modelami trenowanymi wyłącznie na JFLEG. Połączenie dodatkowych korpusów (FCE/BEA19 + Wi+Locness) dramtycznie poprawiło jakość korekty.\n",
    "\n",
    "#### 3. Wykresy słupkowe (najlepsze wartości)\n",
    "\n",
    "1. **Porównanie BLEU**\n",
    "   - Najwyższy słupek (t5-large_jfleg+nucle+bea_ep7_r8) z wartością ≈ 96.4.\n",
    "   - Dwa niższe (ok. 42–43) to oba modele trenowane tylko na JFLEG.\n",
    "\n",
    "2. **Porównanie GLEU**\n",
    "   - t5-large_jfleg+nucle+bea_ep7_r8 osiągnął ≈ 89.9%.\n",
    "   - t5-large_jfleg_ep3_r8: ok. 47.1%,\n",
    "   - t5-large_jfleg_ep7_r8: ok. 38.9%.\n",
    "\n",
    "3. **Wykres grupowany (BLEU vs GLEU)**\n",
    "   - Każdy eksperyment ma po dwa słupki: czerwony (BLEU) i niebieski (GLEU).\n",
    "   - Najbardziej zgrupowane wartości (około 96 BLEU i 90 GLEU) w eksperymencie z danymi „Combined”.\n",
    "\n",
    "\n",
    "#### 4. Krzywe ewaluacyjne (BLEU/GLEU vs krok)\n",
    "\n",
    "Dla każdego eksperymentu wyciągnęliśmy z `log_history` sekwencje punktów `(step, eval_bleu)` oraz `(step, eval_gleu)` i narysowaliśmy wykres liniowy:\n",
    "\n",
    "- **t5-large_jfleg_ep3_r8**:\n",
    "  - Po pierwszym evalu (~step 100) GLEU wynosił ~ 28%, BLEU ~ 29%.\n",
    "  - W kolejnym evalu (~step 200) zanotowaliśmy skok do GLEU ≈ 47% i BLEU ≈ 43%.\n",
    "  - Od tego momentu (do 300 i 400 step) wartości stabilizują się w okolicach 45–48 (GLEU) i 42–44 (BLEU).\n",
    "\n",
    "- **t5-large_jfleg_ep7_r8**:\n",
    "  - Początkowo GLEU ≈ 38%, BLEU ≈ 42% (step 100),\n",
    "  - jednak w dalszych krokach GLEU spada blisko 0% (moment nadmiernego dopasowania – metryka „wybucha”),\n",
    "  - dopiero pod sam koniec (step 500) uzyskujemy lekki wzrost do GLEU ≈ 12% i BLEU ≈ 8%.\n",
    "  - Wnioskujemy, że trening 7 epok na wyłącznie JFLEG prowadził do niestabilności metryk.\n",
    "\n",
    "- **t5-large_jfleg+nucle+bea_ep7_r8**:\n",
    "  - Już przy pierwszym evalu (~step 500) GLEU ~ 78%, BLEU ~ 93%.\n",
    "  - W kolejnych krokach (1000, 1500, … 4000) wartości powoli rosną, stabilizując się w okolicach GLEU ≈ 90% i BLEU ≈ 96%.\n",
    "  - Krzywa jest monotonicznie wzrastająca i osiąga plateau dopiero przy kilku tysiącach stepów.\n",
    "\n",
    "#### 5. Rozkład długości zdań w zbiorze „Combined”\n",
    "\n",
    "Wykres histogramu pokazuje rozkład liczby tokenów w zdaniach przed tokenizacją (split „train” vs „validation”):\n",
    "- Większość zdań mieści się w przedziale **100–400 tokenów**.\n",
    "- Drobna grupa bardzo długich przykładów (powyżej 500 tokenów) występuje rzadko.\n",
    "- Zauważalna różnica ilości przykładów: zbiór `train` jest znacznie większy (2720 przykładów) niż `validation` (310 przykładów), co widać na histogramie.\n",
    "\n",
    "Taka charakterystyka pomaga zrozumieć, dlaczego użyliśmy `max_len=128` przy tokenizacji (większość dłuższych zdań jest przycinana).\n",
    "\n",
    "\n",
    "#### 6. Krzywe uczenia (train_loss ≈ eval_loss)\n",
    "\n",
    "Na podstawie danych `state.log_history` wykonaliśmy wykres strat (`loss` vs `step`) dla trzech eksperymentów:\n",
    "\n",
    "- **t5-large_jfleg_ep3_r8** (górny panel)\n",
    "  - Strata treningu (`train loss`) maleje liniowo od ~ 13→9 (step 100→200).\n",
    "  - Strata walidacji (`eval loss`) spada z ~ 11→7.8.\n",
    "  - Brak dużego gapu między train a eval → niewielkie ryzyko przetrenowania.\n",
    "\n",
    "- **t5-large_jfleg_ep7_r8** (środkowy panel)\n",
    "  - Strata treningu szybko spada z ~ 12.5→0.2 (step 100→200), a następnie niemal do zera (powyżej 200).\n",
    "  - Strata walidacji natychmiast „wybucha” na ~ 10 (step 100) → ~ 0.2 (step 200) → ~ 0.3 (step 300) → ~ 0.2 (step 400) → ~ 0.1 (step 500).\n",
    "  - Bardzo niski eval loss już w 200 step → pewne przetrenowanie (overfitting) w porównaniu do krzywych BLEU/GLEU, które spadały.\n",
    "\n",
    "- **t5-large_jfleg+nucle+bea_ep7_r8** (dolny panel)\n",
    "  - Bardzo szybkie obniżenie strat: z ~ 4.1 (step 0) do ~ 0.2 (step 500) i ~ 0.1 (step 1000).\n",
    "  - Później train/eval loss stabilizują się w okolicach ~ 0.05–0.1.\n",
    "  - Zarówno loss train, jak i eval są bardzo niskie, co pokrywa się z bardzo wysokimi metrykami BLEU/GLEU.\n",
    "\n",
    "#### 7. Wnioski i rekomendacje\n",
    "\n",
    "1. **Skład zbioru ma kluczowe znaczenie**\n",
    "   - Trening wyłącznie na JFLEG (nawet po 7 epok) prowadzi do niestabilnych wyników (niski GLEU, spadający BLEU).\n",
    "   - Dodanie większych korpusów (FCE/BEA19) znacznie poprawia jakość.\n",
    "\n",
    "2. **Liczba epok i overfitting**\n",
    "   - **3 epoki na JFLEG** zdają się być lepsze niż 7 epok (dla tego ograniczonego zbioru).\n",
    "   - Więcej epok samo w sobie nie znacząco poprawia wyników, a wręcz obniża metryki, jeśli nie ma wystarczającej różnorodności danych.\n",
    "\n",
    "3. **LoRA jako wydajne dostrajanie**\n",
    "   - Choć liczba uczonych parametrów jest bardzo mała (r = 8), osiągamy poprawę metryk w porównaniu do bazowego modelu (bez eksperymentów, które tu nie były raportowane).\n",
    "   - LoRA pozwala utrzymać niskie zużycie pamięci VRAM i szybkość treningu, a jednocześnie uzyskać dobre efekty.\n",
    "\n",
    "4. **Korelacja między loss a metrykami**\n",
    "   - Wykresy strat i metryk wskazują, że niskie wartości eval_loss nie zawsze przekładają się na wysokie BLEU/GLEU (szczególnie w przypadku t5-large_jfleg_ep7_r8).\n",
    "   - Dobrze jest więc jednocześnie monitorować zarówno `loss` (jako wskaźnik konwergencji), jak i metryki generatywne (BLEU/GLEU).\n",
    "\n",
    "5. **Rekomendacje dla dalszych eksperymentów**\n",
    "   - **Zwiększenie różnorodności danych** (np. dołączenie innych zbiorów GEC, syntetycznych danych, tłumaczeń syntetycznych).\n",
    "   - **Delikatna regularyzacja** (mniejsza liczba kroków, mniejszy learning rate lub wyższy dropout w LoRA) przy węższych zbiorach (jak sama JFLEG).\n",
    "   - **Eksperymenty z różnymi wartościami r (ranka w LoRA)** (np. r=4, r=16) i porównanie kosztu pamięci vs jakości.\n",
    "   - **Multi-task learning**: jednoczesne trenowanie GEC i MT (np. EN→PL / PL→EN), aby wzmocnić reprezentacje sieci."
   ],
   "id": "74a8632ac7deaed1"
  }
 ],
 "metadata": {
  "kernelspec": {
   "display_name": "Python 3",
   "language": "python",
   "name": "python3"
  },
  "language_info": {
   "codemirror_mode": {
    "name": "ipython",
    "version": 2
   },
   "file_extension": ".py",
   "mimetype": "text/x-python",
   "name": "python",
   "nbconvert_exporter": "python",
   "pygments_lexer": "ipython2",
   "version": "2.7.6"
  }
 },
 "nbformat": 4,
 "nbformat_minor": 5
}
